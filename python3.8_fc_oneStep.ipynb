{
 "cells": [
  {
   "cell_type": "code",
   "execution_count": 63,
   "metadata": {
    "collapsed": true,
    "ExecuteTime": {
     "start_time": "2024-02-17T17:56:54.627330Z",
     "end_time": "2024-02-17T17:56:54.634331Z"
    }
   },
   "outputs": [],
   "source": [
    "# 基于py3.8\n",
    "import pandas as pd\n",
    "import numpy as np\n",
    "import matplotlib.pyplot as plt"
   ]
  },
  {
   "cell_type": "code",
   "execution_count": 53,
   "outputs": [],
   "source": [
    "# 导入数据\n",
    "data = pd.read_csv(r\"D:/Code_Project/fc_Project/data.csv\",encoding=\"gbk\")"
   ],
   "metadata": {
    "collapsed": false,
    "ExecuteTime": {
     "start_time": "2024-02-17T17:38:14.167951Z",
     "end_time": "2024-02-17T17:38:14.285978Z"
    }
   }
  },
  {
   "cell_type": "code",
   "execution_count": 54,
   "outputs": [
    {
     "data": {
      "text/plain": "               个人编码  一天去两家医院的天数  就诊的月数  月就诊天数_MAX  月就诊天数_AVG  月就诊医院数_MAX  \\\n0      3.521200e+14           0      6          7   5.666667           3   \n1      3.521200e+14           0      6          4   2.500000           2   \n2      3.521200e+14           8      6          8   6.166667           3   \n3      3.521200e+14           0      6          6   3.666667           2   \n4      3.521200e+14           0      6          5   4.333333           1   \n...             ...         ...    ...        ...        ...         ...   \n15995  3.521280e+14           0      6          8   6.500000           3   \n15996  3.521280e+14           0      6          8   6.833333           2   \n15997  3.521280e+14           4      6          8   6.333333           2   \n15998  3.521280e+14           0      6          5   3.333333           1   \n15999  3.521280e+14           7      6         13  10.166667           5   \n\n       月就诊医院数_AVG  就诊次数_SUM  月就诊次数_MAX  月就诊次数_AVG  ...  药品在总金额中的占比  \\\n0        2.166667        34          7   5.666667  ...    0.939194   \n1        1.333333        15          4   2.500000  ...    0.955626   \n2        2.166667        45          9   7.500000  ...    0.783610   \n3        1.833333        23          6   3.833333  ...    0.458649   \n4        1.000000        26          5   4.333333  ...    0.983726   \n...           ...       ...        ...        ...  ...         ...   \n15995    3.000000        40          8   6.666667  ...    0.986674   \n15996    2.000000        42          9   7.000000  ...    0.927005   \n15997    2.000000        42          9   7.000000  ...    0.773433   \n15998    1.000000        20          5   3.333333  ...    0.967045   \n15999    3.833333        68         16  11.333333  ...    0.885500   \n\n          个人支付的药品占比  检查总费用在总金额占比  个人支付检查费用占比  治疗费用在总金额占比  个人支付治疗费用占比  BZ_民政救助  \\\n0      4.262371e-03     0.050817         0.0    0.007434         0.0        0   \n1      2.981609e-03     0.030815         0.0    0.013398         0.0        0   \n2      3.321330e-04     0.000000         0.0    0.195087         0.0        0   \n3      1.843500e-04     0.000000         0.0    0.541351         0.0        0   \n4      3.163870e-04     0.000000         0.0    0.016274         0.0        0   \n...             ...          ...         ...         ...         ...      ...   \n15995  5.260850e-04     0.000000         0.0    0.013326         0.0        0   \n15996  6.890000e-05     0.008665         0.0    0.039553         0.0        1   \n15997  6.738972e-03     0.002232         1.0    0.223888         0.0        0   \n15998  7.680000e-07     0.025627         0.0    0.006425         0.0        0   \n15999  3.814840e-04     0.008389         0.0    0.083951         0.0        0   \n\n       BZ_城乡优抚  是否挂号  RES  \n0            0     1    0  \n1            0     1    0  \n2            0     0    0  \n3            0     0    0  \n4            0     0    0  \n...        ...   ...  ...  \n15995        0     1    0  \n15996        0     0    0  \n15997        0     1    0  \n15998        0     0    0  \n15999        0     0    1  \n\n[16000 rows x 82 columns]",
      "text/html": "<div>\n<style scoped>\n    .dataframe tbody tr th:only-of-type {\n        vertical-align: middle;\n    }\n\n    .dataframe tbody tr th {\n        vertical-align: top;\n    }\n\n    .dataframe thead th {\n        text-align: right;\n    }\n</style>\n<table border=\"1\" class=\"dataframe\">\n  <thead>\n    <tr style=\"text-align: right;\">\n      <th></th>\n      <th>个人编码</th>\n      <th>一天去两家医院的天数</th>\n      <th>就诊的月数</th>\n      <th>月就诊天数_MAX</th>\n      <th>月就诊天数_AVG</th>\n      <th>月就诊医院数_MAX</th>\n      <th>月就诊医院数_AVG</th>\n      <th>就诊次数_SUM</th>\n      <th>月就诊次数_MAX</th>\n      <th>月就诊次数_AVG</th>\n      <th>...</th>\n      <th>药品在总金额中的占比</th>\n      <th>个人支付的药品占比</th>\n      <th>检查总费用在总金额占比</th>\n      <th>个人支付检查费用占比</th>\n      <th>治疗费用在总金额占比</th>\n      <th>个人支付治疗费用占比</th>\n      <th>BZ_民政救助</th>\n      <th>BZ_城乡优抚</th>\n      <th>是否挂号</th>\n      <th>RES</th>\n    </tr>\n  </thead>\n  <tbody>\n    <tr>\n      <th>0</th>\n      <td>3.521200e+14</td>\n      <td>0</td>\n      <td>6</td>\n      <td>7</td>\n      <td>5.666667</td>\n      <td>3</td>\n      <td>2.166667</td>\n      <td>34</td>\n      <td>7</td>\n      <td>5.666667</td>\n      <td>...</td>\n      <td>0.939194</td>\n      <td>4.262371e-03</td>\n      <td>0.050817</td>\n      <td>0.0</td>\n      <td>0.007434</td>\n      <td>0.0</td>\n      <td>0</td>\n      <td>0</td>\n      <td>1</td>\n      <td>0</td>\n    </tr>\n    <tr>\n      <th>1</th>\n      <td>3.521200e+14</td>\n      <td>0</td>\n      <td>6</td>\n      <td>4</td>\n      <td>2.500000</td>\n      <td>2</td>\n      <td>1.333333</td>\n      <td>15</td>\n      <td>4</td>\n      <td>2.500000</td>\n      <td>...</td>\n      <td>0.955626</td>\n      <td>2.981609e-03</td>\n      <td>0.030815</td>\n      <td>0.0</td>\n      <td>0.013398</td>\n      <td>0.0</td>\n      <td>0</td>\n      <td>0</td>\n      <td>1</td>\n      <td>0</td>\n    </tr>\n    <tr>\n      <th>2</th>\n      <td>3.521200e+14</td>\n      <td>8</td>\n      <td>6</td>\n      <td>8</td>\n      <td>6.166667</td>\n      <td>3</td>\n      <td>2.166667</td>\n      <td>45</td>\n      <td>9</td>\n      <td>7.500000</td>\n      <td>...</td>\n      <td>0.783610</td>\n      <td>3.321330e-04</td>\n      <td>0.000000</td>\n      <td>0.0</td>\n      <td>0.195087</td>\n      <td>0.0</td>\n      <td>0</td>\n      <td>0</td>\n      <td>0</td>\n      <td>0</td>\n    </tr>\n    <tr>\n      <th>3</th>\n      <td>3.521200e+14</td>\n      <td>0</td>\n      <td>6</td>\n      <td>6</td>\n      <td>3.666667</td>\n      <td>2</td>\n      <td>1.833333</td>\n      <td>23</td>\n      <td>6</td>\n      <td>3.833333</td>\n      <td>...</td>\n      <td>0.458649</td>\n      <td>1.843500e-04</td>\n      <td>0.000000</td>\n      <td>0.0</td>\n      <td>0.541351</td>\n      <td>0.0</td>\n      <td>0</td>\n      <td>0</td>\n      <td>0</td>\n      <td>0</td>\n    </tr>\n    <tr>\n      <th>4</th>\n      <td>3.521200e+14</td>\n      <td>0</td>\n      <td>6</td>\n      <td>5</td>\n      <td>4.333333</td>\n      <td>1</td>\n      <td>1.000000</td>\n      <td>26</td>\n      <td>5</td>\n      <td>4.333333</td>\n      <td>...</td>\n      <td>0.983726</td>\n      <td>3.163870e-04</td>\n      <td>0.000000</td>\n      <td>0.0</td>\n      <td>0.016274</td>\n      <td>0.0</td>\n      <td>0</td>\n      <td>0</td>\n      <td>0</td>\n      <td>0</td>\n    </tr>\n    <tr>\n      <th>...</th>\n      <td>...</td>\n      <td>...</td>\n      <td>...</td>\n      <td>...</td>\n      <td>...</td>\n      <td>...</td>\n      <td>...</td>\n      <td>...</td>\n      <td>...</td>\n      <td>...</td>\n      <td>...</td>\n      <td>...</td>\n      <td>...</td>\n      <td>...</td>\n      <td>...</td>\n      <td>...</td>\n      <td>...</td>\n      <td>...</td>\n      <td>...</td>\n      <td>...</td>\n      <td>...</td>\n    </tr>\n    <tr>\n      <th>15995</th>\n      <td>3.521280e+14</td>\n      <td>0</td>\n      <td>6</td>\n      <td>8</td>\n      <td>6.500000</td>\n      <td>3</td>\n      <td>3.000000</td>\n      <td>40</td>\n      <td>8</td>\n      <td>6.666667</td>\n      <td>...</td>\n      <td>0.986674</td>\n      <td>5.260850e-04</td>\n      <td>0.000000</td>\n      <td>0.0</td>\n      <td>0.013326</td>\n      <td>0.0</td>\n      <td>0</td>\n      <td>0</td>\n      <td>1</td>\n      <td>0</td>\n    </tr>\n    <tr>\n      <th>15996</th>\n      <td>3.521280e+14</td>\n      <td>0</td>\n      <td>6</td>\n      <td>8</td>\n      <td>6.833333</td>\n      <td>2</td>\n      <td>2.000000</td>\n      <td>42</td>\n      <td>9</td>\n      <td>7.000000</td>\n      <td>...</td>\n      <td>0.927005</td>\n      <td>6.890000e-05</td>\n      <td>0.008665</td>\n      <td>0.0</td>\n      <td>0.039553</td>\n      <td>0.0</td>\n      <td>1</td>\n      <td>0</td>\n      <td>0</td>\n      <td>0</td>\n    </tr>\n    <tr>\n      <th>15997</th>\n      <td>3.521280e+14</td>\n      <td>4</td>\n      <td>6</td>\n      <td>8</td>\n      <td>6.333333</td>\n      <td>2</td>\n      <td>2.000000</td>\n      <td>42</td>\n      <td>9</td>\n      <td>7.000000</td>\n      <td>...</td>\n      <td>0.773433</td>\n      <td>6.738972e-03</td>\n      <td>0.002232</td>\n      <td>1.0</td>\n      <td>0.223888</td>\n      <td>0.0</td>\n      <td>0</td>\n      <td>0</td>\n      <td>1</td>\n      <td>0</td>\n    </tr>\n    <tr>\n      <th>15998</th>\n      <td>3.521280e+14</td>\n      <td>0</td>\n      <td>6</td>\n      <td>5</td>\n      <td>3.333333</td>\n      <td>1</td>\n      <td>1.000000</td>\n      <td>20</td>\n      <td>5</td>\n      <td>3.333333</td>\n      <td>...</td>\n      <td>0.967045</td>\n      <td>7.680000e-07</td>\n      <td>0.025627</td>\n      <td>0.0</td>\n      <td>0.006425</td>\n      <td>0.0</td>\n      <td>0</td>\n      <td>0</td>\n      <td>0</td>\n      <td>0</td>\n    </tr>\n    <tr>\n      <th>15999</th>\n      <td>3.521280e+14</td>\n      <td>7</td>\n      <td>6</td>\n      <td>13</td>\n      <td>10.166667</td>\n      <td>5</td>\n      <td>3.833333</td>\n      <td>68</td>\n      <td>16</td>\n      <td>11.333333</td>\n      <td>...</td>\n      <td>0.885500</td>\n      <td>3.814840e-04</td>\n      <td>0.008389</td>\n      <td>0.0</td>\n      <td>0.083951</td>\n      <td>0.0</td>\n      <td>0</td>\n      <td>0</td>\n      <td>0</td>\n      <td>1</td>\n    </tr>\n  </tbody>\n</table>\n<p>16000 rows × 82 columns</p>\n</div>"
     },
     "execution_count": 54,
     "metadata": {},
     "output_type": "execute_result"
    }
   ],
   "source": [
    "# 观察数据\n",
    "data"
   ],
   "metadata": {
    "collapsed": false,
    "ExecuteTime": {
     "start_time": "2024-02-17T17:38:14.934814Z",
     "end_time": "2024-02-17T17:38:14.955819Z"
    }
   }
  },
  {
   "cell_type": "code",
   "execution_count": 55,
   "outputs": [],
   "source": [
    "# 删除脱敏且没有意义的列\n",
    "Desensitized_meaningless_list = [\n",
    "    '个人编码',\n",
    "    '顺序号_NN',\n",
    "    '交易时间DD_NN',\n",
    "    '交易时间YYYY_NN',\n",
    "    '交易时间YYYYMM_NN',\n",
    "    '出院诊断病种名称_NN',\n",
    "    '出院诊断LENTH_MAX',\n",
    "]\n",
    "data = data.drop(Desensitized_meaningless_list,axis=1)"
   ],
   "metadata": {
    "collapsed": false,
    "ExecuteTime": {
     "start_time": "2024-02-17T17:38:17.876728Z",
     "end_time": "2024-02-17T17:38:17.888731Z"
    }
   }
  },
  {
   "cell_type": "code",
   "execution_count": 56,
   "outputs": [
    {
     "data": {
      "text/plain": "一天去两家医院的天数    0\n就诊的月数         0\n月就诊天数_MAX     0\n月就诊天数_AVG     0\n月就诊医院数_MAX    0\n             ..\n个人支付治疗费用占比    0\nBZ_民政救助       0\nBZ_城乡优抚       0\n是否挂号          0\nRES           0\nLength: 75, dtype: int64"
     },
     "execution_count": 56,
     "metadata": {},
     "output_type": "execute_result"
    }
   ],
   "source": [
    "data.isnull().sum()\n",
    "# 观察到没有存在缺失值的列,故不进行缺失值处理"
   ],
   "metadata": {
    "collapsed": false,
    "ExecuteTime": {
     "start_time": "2024-02-17T17:38:23.512410Z",
     "end_time": "2024-02-17T17:38:23.526414Z"
    }
   }
  },
  {
   "cell_type": "code",
   "execution_count": 57,
   "outputs": [
    {
     "name": "stdout",
     "output_type": "stream",
     "text": [
      "65\n",
      "7\n",
      "31\n",
      "224\n",
      "8\n",
      "52\n",
      "190\n",
      "57\n",
      "267\n",
      "15722\n",
      "15936\n",
      "15562\n",
      "15856\n",
      "137\n",
      "485\n",
      "15903\n",
      "15960\n",
      "15774\n",
      "15888\n",
      "9\n",
      "1\n",
      "15610\n",
      "15936\n",
      "15929\n",
      "15548\n",
      "15852\n",
      "6890\n",
      "15847\n",
      "4983\n",
      "13542\n",
      "8479\n",
      "3002\n",
      "237\n",
      "3410\n",
      "362\n",
      "5604\n",
      "376\n",
      "4968\n",
      "45\n",
      "5\n",
      "44\n",
      "157\n",
      "136\n",
      "7760\n",
      "36\n",
      "893\n",
      "16\n",
      "615\n",
      "8\n",
      "6665\n",
      "26\n",
      "15480\n",
      "279\n",
      "2\n",
      "15918\n",
      "344\n",
      "2286\n",
      "6035\n",
      "15571\n",
      "15938\n",
      "2303\n",
      "280\n",
      "7\n",
      "2277\n",
      "10\n",
      "15943\n",
      "11428\n",
      "12340\n",
      "1229\n",
      "15950\n",
      "2454\n",
      "2\n",
      "2\n",
      "2\n",
      "2\n"
     ]
    }
   ],
   "source": [
    "# 删除每列只有一种值的列\n",
    "for col in data.columns.tolist():\n",
    "    count = len(data[col].unique())\n",
    "    print(count)\n",
    "    if count==1:\n",
    "        data = data.drop(col,axis=1)\n",
    "# 只有一列被删除"
   ],
   "metadata": {
    "collapsed": false,
    "ExecuteTime": {
     "start_time": "2024-02-17T17:38:44.401024Z",
     "end_time": "2024-02-17T17:38:44.440032Z"
    }
   }
  },
  {
   "cell_type": "code",
   "execution_count": 60,
   "outputs": [],
   "source": [
    "# 删除重复的行\n",
    "data.drop_duplicates(inplace=True)"
   ],
   "metadata": {
    "collapsed": false,
    "ExecuteTime": {
     "start_time": "2024-02-17T17:41:44.550308Z",
     "end_time": "2024-02-17T17:41:44.590317Z"
    }
   }
  },
  {
   "cell_type": "code",
   "execution_count": 61,
   "outputs": [
    {
     "data": {
      "text/plain": "       一天去两家医院的天数  就诊的月数  月就诊天数_MAX  月就诊天数_AVG  月就诊医院数_MAX  月就诊医院数_AVG  \\\n0               0      6          7   5.666667           3    2.166667   \n1               0      6          4   2.500000           2    1.333333   \n2               8      6          8   6.166667           3    2.166667   \n3               0      6          6   3.666667           2    1.833333   \n4               0      6          5   4.333333           1    1.000000   \n...           ...    ...        ...        ...         ...         ...   \n15995           0      6          8   6.500000           3    3.000000   \n15996           0      6          8   6.833333           2    2.000000   \n15997           4      6          8   6.333333           2    2.000000   \n15998           0      6          5   3.333333           1    1.000000   \n15999           7      6         13  10.166667           5    3.833333   \n\n       就诊次数_SUM  月就诊次数_MAX  月就诊次数_AVG  月统筹金额_MAX  ...  药品在总金额中的占比  \\\n0            34          7   5.666667    3501.18  ...    0.939194   \n1            15          4   2.500000    2217.66  ...    0.955626   \n2            45          9   7.500000    3360.55  ...    0.783610   \n3            23          6   3.833333    3030.61  ...    0.458649   \n4            26          5   4.333333    2332.45  ...    0.983726   \n...         ...        ...        ...        ...  ...         ...   \n15995        40          8   6.666667    2831.13  ...    0.986674   \n15996        42          9   7.000000    2369.03  ...    0.927005   \n15997        42          9   7.000000    5421.56  ...    0.773433   \n15998        20          5   3.333333    5270.74  ...    0.967045   \n15999        68         16  11.333333    7262.37  ...    0.885500   \n\n          个人支付的药品占比  检查总费用在总金额占比  个人支付检查费用占比  治疗费用在总金额占比  个人支付治疗费用占比  BZ_民政救助  \\\n0      4.262371e-03     0.050817         0.0    0.007434         0.0        0   \n1      2.981609e-03     0.030815         0.0    0.013398         0.0        0   \n2      3.321330e-04     0.000000         0.0    0.195087         0.0        0   \n3      1.843500e-04     0.000000         0.0    0.541351         0.0        0   \n4      3.163870e-04     0.000000         0.0    0.016274         0.0        0   \n...             ...          ...         ...         ...         ...      ...   \n15995  5.260850e-04     0.000000         0.0    0.013326         0.0        0   \n15996  6.890000e-05     0.008665         0.0    0.039553         0.0        1   \n15997  6.738972e-03     0.002232         1.0    0.223888         0.0        0   \n15998  7.680000e-07     0.025627         0.0    0.006425         0.0        0   \n15999  3.814840e-04     0.008389         0.0    0.083951         0.0        0   \n\n       BZ_城乡优抚  是否挂号  RES  \n0            0     1    0  \n1            0     1    0  \n2            0     0    0  \n3            0     0    0  \n4            0     0    0  \n...        ...   ...  ...  \n15995        0     1    0  \n15996        0     0    0  \n15997        0     1    0  \n15998        0     0    0  \n15999        0     0    1  \n\n[15999 rows x 74 columns]",
      "text/html": "<div>\n<style scoped>\n    .dataframe tbody tr th:only-of-type {\n        vertical-align: middle;\n    }\n\n    .dataframe tbody tr th {\n        vertical-align: top;\n    }\n\n    .dataframe thead th {\n        text-align: right;\n    }\n</style>\n<table border=\"1\" class=\"dataframe\">\n  <thead>\n    <tr style=\"text-align: right;\">\n      <th></th>\n      <th>一天去两家医院的天数</th>\n      <th>就诊的月数</th>\n      <th>月就诊天数_MAX</th>\n      <th>月就诊天数_AVG</th>\n      <th>月就诊医院数_MAX</th>\n      <th>月就诊医院数_AVG</th>\n      <th>就诊次数_SUM</th>\n      <th>月就诊次数_MAX</th>\n      <th>月就诊次数_AVG</th>\n      <th>月统筹金额_MAX</th>\n      <th>...</th>\n      <th>药品在总金额中的占比</th>\n      <th>个人支付的药品占比</th>\n      <th>检查总费用在总金额占比</th>\n      <th>个人支付检查费用占比</th>\n      <th>治疗费用在总金额占比</th>\n      <th>个人支付治疗费用占比</th>\n      <th>BZ_民政救助</th>\n      <th>BZ_城乡优抚</th>\n      <th>是否挂号</th>\n      <th>RES</th>\n    </tr>\n  </thead>\n  <tbody>\n    <tr>\n      <th>0</th>\n      <td>0</td>\n      <td>6</td>\n      <td>7</td>\n      <td>5.666667</td>\n      <td>3</td>\n      <td>2.166667</td>\n      <td>34</td>\n      <td>7</td>\n      <td>5.666667</td>\n      <td>3501.18</td>\n      <td>...</td>\n      <td>0.939194</td>\n      <td>4.262371e-03</td>\n      <td>0.050817</td>\n      <td>0.0</td>\n      <td>0.007434</td>\n      <td>0.0</td>\n      <td>0</td>\n      <td>0</td>\n      <td>1</td>\n      <td>0</td>\n    </tr>\n    <tr>\n      <th>1</th>\n      <td>0</td>\n      <td>6</td>\n      <td>4</td>\n      <td>2.500000</td>\n      <td>2</td>\n      <td>1.333333</td>\n      <td>15</td>\n      <td>4</td>\n      <td>2.500000</td>\n      <td>2217.66</td>\n      <td>...</td>\n      <td>0.955626</td>\n      <td>2.981609e-03</td>\n      <td>0.030815</td>\n      <td>0.0</td>\n      <td>0.013398</td>\n      <td>0.0</td>\n      <td>0</td>\n      <td>0</td>\n      <td>1</td>\n      <td>0</td>\n    </tr>\n    <tr>\n      <th>2</th>\n      <td>8</td>\n      <td>6</td>\n      <td>8</td>\n      <td>6.166667</td>\n      <td>3</td>\n      <td>2.166667</td>\n      <td>45</td>\n      <td>9</td>\n      <td>7.500000</td>\n      <td>3360.55</td>\n      <td>...</td>\n      <td>0.783610</td>\n      <td>3.321330e-04</td>\n      <td>0.000000</td>\n      <td>0.0</td>\n      <td>0.195087</td>\n      <td>0.0</td>\n      <td>0</td>\n      <td>0</td>\n      <td>0</td>\n      <td>0</td>\n    </tr>\n    <tr>\n      <th>3</th>\n      <td>0</td>\n      <td>6</td>\n      <td>6</td>\n      <td>3.666667</td>\n      <td>2</td>\n      <td>1.833333</td>\n      <td>23</td>\n      <td>6</td>\n      <td>3.833333</td>\n      <td>3030.61</td>\n      <td>...</td>\n      <td>0.458649</td>\n      <td>1.843500e-04</td>\n      <td>0.000000</td>\n      <td>0.0</td>\n      <td>0.541351</td>\n      <td>0.0</td>\n      <td>0</td>\n      <td>0</td>\n      <td>0</td>\n      <td>0</td>\n    </tr>\n    <tr>\n      <th>4</th>\n      <td>0</td>\n      <td>6</td>\n      <td>5</td>\n      <td>4.333333</td>\n      <td>1</td>\n      <td>1.000000</td>\n      <td>26</td>\n      <td>5</td>\n      <td>4.333333</td>\n      <td>2332.45</td>\n      <td>...</td>\n      <td>0.983726</td>\n      <td>3.163870e-04</td>\n      <td>0.000000</td>\n      <td>0.0</td>\n      <td>0.016274</td>\n      <td>0.0</td>\n      <td>0</td>\n      <td>0</td>\n      <td>0</td>\n      <td>0</td>\n    </tr>\n    <tr>\n      <th>...</th>\n      <td>...</td>\n      <td>...</td>\n      <td>...</td>\n      <td>...</td>\n      <td>...</td>\n      <td>...</td>\n      <td>...</td>\n      <td>...</td>\n      <td>...</td>\n      <td>...</td>\n      <td>...</td>\n      <td>...</td>\n      <td>...</td>\n      <td>...</td>\n      <td>...</td>\n      <td>...</td>\n      <td>...</td>\n      <td>...</td>\n      <td>...</td>\n      <td>...</td>\n      <td>...</td>\n    </tr>\n    <tr>\n      <th>15995</th>\n      <td>0</td>\n      <td>6</td>\n      <td>8</td>\n      <td>6.500000</td>\n      <td>3</td>\n      <td>3.000000</td>\n      <td>40</td>\n      <td>8</td>\n      <td>6.666667</td>\n      <td>2831.13</td>\n      <td>...</td>\n      <td>0.986674</td>\n      <td>5.260850e-04</td>\n      <td>0.000000</td>\n      <td>0.0</td>\n      <td>0.013326</td>\n      <td>0.0</td>\n      <td>0</td>\n      <td>0</td>\n      <td>1</td>\n      <td>0</td>\n    </tr>\n    <tr>\n      <th>15996</th>\n      <td>0</td>\n      <td>6</td>\n      <td>8</td>\n      <td>6.833333</td>\n      <td>2</td>\n      <td>2.000000</td>\n      <td>42</td>\n      <td>9</td>\n      <td>7.000000</td>\n      <td>2369.03</td>\n      <td>...</td>\n      <td>0.927005</td>\n      <td>6.890000e-05</td>\n      <td>0.008665</td>\n      <td>0.0</td>\n      <td>0.039553</td>\n      <td>0.0</td>\n      <td>1</td>\n      <td>0</td>\n      <td>0</td>\n      <td>0</td>\n    </tr>\n    <tr>\n      <th>15997</th>\n      <td>4</td>\n      <td>6</td>\n      <td>8</td>\n      <td>6.333333</td>\n      <td>2</td>\n      <td>2.000000</td>\n      <td>42</td>\n      <td>9</td>\n      <td>7.000000</td>\n      <td>5421.56</td>\n      <td>...</td>\n      <td>0.773433</td>\n      <td>6.738972e-03</td>\n      <td>0.002232</td>\n      <td>1.0</td>\n      <td>0.223888</td>\n      <td>0.0</td>\n      <td>0</td>\n      <td>0</td>\n      <td>1</td>\n      <td>0</td>\n    </tr>\n    <tr>\n      <th>15998</th>\n      <td>0</td>\n      <td>6</td>\n      <td>5</td>\n      <td>3.333333</td>\n      <td>1</td>\n      <td>1.000000</td>\n      <td>20</td>\n      <td>5</td>\n      <td>3.333333</td>\n      <td>5270.74</td>\n      <td>...</td>\n      <td>0.967045</td>\n      <td>7.680000e-07</td>\n      <td>0.025627</td>\n      <td>0.0</td>\n      <td>0.006425</td>\n      <td>0.0</td>\n      <td>0</td>\n      <td>0</td>\n      <td>0</td>\n      <td>0</td>\n    </tr>\n    <tr>\n      <th>15999</th>\n      <td>7</td>\n      <td>6</td>\n      <td>13</td>\n      <td>10.166667</td>\n      <td>5</td>\n      <td>3.833333</td>\n      <td>68</td>\n      <td>16</td>\n      <td>11.333333</td>\n      <td>7262.37</td>\n      <td>...</td>\n      <td>0.885500</td>\n      <td>3.814840e-04</td>\n      <td>0.008389</td>\n      <td>0.0</td>\n      <td>0.083951</td>\n      <td>0.0</td>\n      <td>0</td>\n      <td>0</td>\n      <td>0</td>\n      <td>1</td>\n    </tr>\n  </tbody>\n</table>\n<p>15999 rows × 74 columns</p>\n</div>"
     },
     "execution_count": 61,
     "metadata": {},
     "output_type": "execute_result"
    }
   ],
   "source": [
    "data"
   ],
   "metadata": {
    "collapsed": false,
    "ExecuteTime": {
     "start_time": "2024-02-17T17:41:56.977993Z",
     "end_time": "2024-02-17T17:41:57.009999Z"
    }
   }
  },
  {
   "cell_type": "code",
   "execution_count": null,
   "outputs": [],
   "source": [
    "## 进行异常值处理"
   ],
   "metadata": {
    "collapsed": false
   }
  },
  {
   "cell_type": "code",
   "execution_count": 39,
   "outputs": [
    {
     "name": "stderr",
     "output_type": "stream",
     "text": [
      "D:\\anaconda3\\envs\\python3.8\\lib\\site-packages\\IPython\\core\\pylabtools.py:152: UserWarning: Glyph 21307 (\\N{CJK UNIFIED IDEOGRAPH-533B}) missing from current font.\n",
      "  fig.canvas.print_figure(bytes_io, **kw)\n",
      "D:\\anaconda3\\envs\\python3.8\\lib\\site-packages\\IPython\\core\\pylabtools.py:152: UserWarning: Glyph 29992 (\\N{CJK UNIFIED IDEOGRAPH-7528}) missing from current font.\n",
      "  fig.canvas.print_figure(bytes_io, **kw)\n",
      "D:\\anaconda3\\envs\\python3.8\\lib\\site-packages\\IPython\\core\\pylabtools.py:152: UserWarning: Glyph 26448 (\\N{CJK UNIFIED IDEOGRAPH-6750}) missing from current font.\n",
      "  fig.canvas.print_figure(bytes_io, **kw)\n",
      "D:\\anaconda3\\envs\\python3.8\\lib\\site-packages\\IPython\\core\\pylabtools.py:152: UserWarning: Glyph 26009 (\\N{CJK UNIFIED IDEOGRAPH-6599}) missing from current font.\n",
      "  fig.canvas.print_figure(bytes_io, **kw)\n",
      "D:\\anaconda3\\envs\\python3.8\\lib\\site-packages\\IPython\\core\\pylabtools.py:152: UserWarning: Glyph 21457 (\\N{CJK UNIFIED IDEOGRAPH-53D1}) missing from current font.\n",
      "  fig.canvas.print_figure(bytes_io, **kw)\n",
      "D:\\anaconda3\\envs\\python3.8\\lib\\site-packages\\IPython\\core\\pylabtools.py:152: UserWarning: Glyph 29983 (\\N{CJK UNIFIED IDEOGRAPH-751F}) missing from current font.\n",
      "  fig.canvas.print_figure(bytes_io, **kw)\n",
      "D:\\anaconda3\\envs\\python3.8\\lib\\site-packages\\IPython\\core\\pylabtools.py:152: UserWarning: Glyph 37329 (\\N{CJK UNIFIED IDEOGRAPH-91D1}) missing from current font.\n",
      "  fig.canvas.print_figure(bytes_io, **kw)\n",
      "D:\\anaconda3\\envs\\python3.8\\lib\\site-packages\\IPython\\core\\pylabtools.py:152: UserWarning: Glyph 39069 (\\N{CJK UNIFIED IDEOGRAPH-989D}) missing from current font.\n",
      "  fig.canvas.print_figure(bytes_io, **kw)\n"
     ]
    },
    {
     "data": {
      "text/plain": "<Figure size 640x480 with 1 Axes>",
      "image/png": "[encoded data removed]"
     },
     "metadata": {},
     "output_type": "display_data"
    }
   ],
   "source": [
    "# 1，画箱线图\n",
    "data.boxplot(column='医用材料发生金额_SUM')\n",
    "plt.show()\n",
    "# 发现多数的列呈右偏，故此处不用箱图进行异常值处理，采用缩尾处理"
   ],
   "metadata": {
    "collapsed": false,
    "ExecuteTime": {
     "start_time": "2024-02-17T17:13:50.806726Z",
     "end_time": "2024-02-17T17:13:50.900747Z"
    }
   }
  },
  {
   "cell_type": "code",
   "execution_count": 67,
   "outputs": [],
   "source": [
    "# 采用缩尾处理\n",
    "for col in data.columns:\n",
    "    if data[col].dtype is np.dtype('int64'):    #不对离散类型数据进行该处理\n",
    "        continue\n",
    "    df = data[col].tolist()\n",
    "    def Winsorization_outliers(df):\n",
    "        q1 = np.percentile(df,1)\n",
    "        q3 = np.percentile(df,99)\n",
    "        data.col[data.col>q3]=q3\n",
    "        data.col[data.col<q1]=q1"
   ],
   "metadata": {
    "collapsed": false,
    "ExecuteTime": {
     "start_time": "2024-02-17T20:10:07.374145Z",
     "end_time": "2024-02-17T20:10:07.398151Z"
    }
   }
  },
  {
   "cell_type": "code",
   "execution_count": 68,
   "outputs": [
    {
     "data": {
      "text/plain": "       一天去两家医院的天数  就诊的月数  月就诊天数_MAX  月就诊天数_AVG  月就诊医院数_MAX  月就诊医院数_AVG  \\\n0               0      6          7   5.666667           3    2.166667   \n1               0      6          4   2.500000           2    1.333333   \n2               8      6          8   6.166667           3    2.166667   \n3               0      6          6   3.666667           2    1.833333   \n4               0      6          5   4.333333           1    1.000000   \n...           ...    ...        ...        ...         ...         ...   \n15995           0      6          8   6.500000           3    3.000000   \n15996           0      6          8   6.833333           2    2.000000   \n15997           4      6          8   6.333333           2    2.000000   \n15998           0      6          5   3.333333           1    1.000000   \n15999           7      6         13  10.166667           5    3.833333   \n\n       就诊次数_SUM  月就诊次数_MAX  月就诊次数_AVG  月统筹金额_MAX  ...  药品在总金额中的占比  \\\n0            34          7   5.666667    3501.18  ...    0.939194   \n1            15          4   2.500000    2217.66  ...    0.955626   \n2            45          9   7.500000    3360.55  ...    0.783610   \n3            23          6   3.833333    3030.61  ...    0.458649   \n4            26          5   4.333333    2332.45  ...    0.983726   \n...         ...        ...        ...        ...  ...         ...   \n15995        40          8   6.666667    2831.13  ...    0.986674   \n15996        42          9   7.000000    2369.03  ...    0.927005   \n15997        42          9   7.000000    5421.56  ...    0.773433   \n15998        20          5   3.333333    5270.74  ...    0.967045   \n15999        68         16  11.333333    7262.37  ...    0.885500   \n\n          个人支付的药品占比  检查总费用在总金额占比  个人支付检查费用占比  治疗费用在总金额占比  个人支付治疗费用占比  BZ_民政救助  \\\n0      4.262371e-03     0.050817         0.0    0.007434         0.0        0   \n1      2.981609e-03     0.030815         0.0    0.013398         0.0        0   \n2      3.321330e-04     0.000000         0.0    0.195087         0.0        0   \n3      1.843500e-04     0.000000         0.0    0.541351         0.0        0   \n4      3.163870e-04     0.000000         0.0    0.016274         0.0        0   \n...             ...          ...         ...         ...         ...      ...   \n15995  5.260850e-04     0.000000         0.0    0.013326         0.0        0   \n15996  6.890000e-05     0.008665         0.0    0.039553         0.0        1   \n15997  6.738972e-03     0.002232         1.0    0.223888         0.0        0   \n15998  7.680000e-07     0.025627         0.0    0.006425         0.0        0   \n15999  3.814840e-04     0.008389         0.0    0.083951         0.0        0   \n\n       BZ_城乡优抚  是否挂号  RES  \n0            0     1    0  \n1            0     1    0  \n2            0     0    0  \n3            0     0    0  \n4            0     0    0  \n...        ...   ...  ...  \n15995        0     1    0  \n15996        0     0    0  \n15997        0     1    0  \n15998        0     0    0  \n15999        0     0    1  \n\n[15999 rows x 74 columns]",
      "text/html": "<div>\n<style scoped>\n    .dataframe tbody tr th:only-of-type {\n        vertical-align: middle;\n    }\n\n    .dataframe tbody tr th {\n        vertical-align: top;\n    }\n\n    .dataframe thead th {\n        text-align: right;\n    }\n</style>\n<table border=\"1\" class=\"dataframe\">\n  <thead>\n    <tr style=\"text-align: right;\">\n      <th></th>\n      <th>一天去两家医院的天数</th>\n      <th>就诊的月数</th>\n      <th>月就诊天数_MAX</th>\n      <th>月就诊天数_AVG</th>\n      <th>月就诊医院数_MAX</th>\n      <th>月就诊医院数_AVG</th>\n      <th>就诊次数_SUM</th>\n      <th>月就诊次数_MAX</th>\n      <th>月就诊次数_AVG</th>\n      <th>月统筹金额_MAX</th>\n      <th>...</th>\n      <th>药品在总金额中的占比</th>\n      <th>个人支付的药品占比</th>\n      <th>检查总费用在总金额占比</th>\n      <th>个人支付检查费用占比</th>\n      <th>治疗费用在总金额占比</th>\n      <th>个人支付治疗费用占比</th>\n      <th>BZ_民政救助</th>\n      <th>BZ_城乡优抚</th>\n      <th>是否挂号</th>\n      <th>RES</th>\n    </tr>\n  </thead>\n  <tbody>\n    <tr>\n      <th>0</th>\n      <td>0</td>\n      <td>6</td>\n      <td>7</td>\n      <td>5.666667</td>\n      <td>3</td>\n      <td>2.166667</td>\n      <td>34</td>\n      <td>7</td>\n      <td>5.666667</td>\n      <td>3501.18</td>\n      <td>...</td>\n      <td>0.939194</td>\n      <td>4.262371e-03</td>\n      <td>0.050817</td>\n      <td>0.0</td>\n      <td>0.007434</td>\n      <td>0.0</td>\n      <td>0</td>\n      <td>0</td>\n      <td>1</td>\n      <td>0</td>\n    </tr>\n    <tr>\n      <th>1</th>\n      <td>0</td>\n      <td>6</td>\n      <td>4</td>\n      <td>2.500000</td>\n      <td>2</td>\n      <td>1.333333</td>\n      <td>15</td>\n      <td>4</td>\n      <td>2.500000</td>\n      <td>2217.66</td>\n      <td>...</td>\n      <td>0.955626</td>\n      <td>2.981609e-03</td>\n      <td>0.030815</td>\n      <td>0.0</td>\n      <td>0.013398</td>\n      <td>0.0</td>\n      <td>0</td>\n      <td>0</td>\n      <td>1</td>\n      <td>0</td>\n    </tr>\n    <tr>\n      <th>2</th>\n      <td>8</td>\n      <td>6</td>\n      <td>8</td>\n      <td>6.166667</td>\n      <td>3</td>\n      <td>2.166667</td>\n      <td>45</td>\n      <td>9</td>\n      <td>7.500000</td>\n      <td>3360.55</td>\n      <td>...</td>\n      <td>0.783610</td>\n      <td>3.321330e-04</td>\n      <td>0.000000</td>\n      <td>0.0</td>\n      <td>0.195087</td>\n      <td>0.0</td>\n      <td>0</td>\n      <td>0</td>\n      <td>0</td>\n      <td>0</td>\n    </tr>\n    <tr>\n      <th>3</th>\n      <td>0</td>\n      <td>6</td>\n      <td>6</td>\n      <td>3.666667</td>\n      <td>2</td>\n      <td>1.833333</td>\n      <td>23</td>\n      <td>6</td>\n      <td>3.833333</td>\n      <td>3030.61</td>\n      <td>...</td>\n      <td>0.458649</td>\n      <td>1.843500e-04</td>\n      <td>0.000000</td>\n      <td>0.0</td>\n      <td>0.541351</td>\n      <td>0.0</td>\n      <td>0</td>\n      <td>0</td>\n      <td>0</td>\n      <td>0</td>\n    </tr>\n    <tr>\n      <th>4</th>\n      <td>0</td>\n      <td>6</td>\n      <td>5</td>\n      <td>4.333333</td>\n      <td>1</td>\n      <td>1.000000</td>\n      <td>26</td>\n      <td>5</td>\n      <td>4.333333</td>\n      <td>2332.45</td>\n      <td>...</td>\n      <td>0.983726</td>\n      <td>3.163870e-04</td>\n      <td>0.000000</td>\n      <td>0.0</td>\n      <td>0.016274</td>\n      <td>0.0</td>\n      <td>0</td>\n      <td>0</td>\n      <td>0</td>\n      <td>0</td>\n    </tr>\n    <tr>\n      <th>...</th>\n      <td>...</td>\n      <td>...</td>\n      <td>...</td>\n      <td>...</td>\n      <td>...</td>\n      <td>...</td>\n      <td>...</td>\n      <td>...</td>\n      <td>...</td>\n      <td>...</td>\n      <td>...</td>\n      <td>...</td>\n      <td>...</td>\n      <td>...</td>\n      <td>...</td>\n      <td>...</td>\n      <td>...</td>\n      <td>...</td>\n      <td>...</td>\n      <td>...</td>\n      <td>...</td>\n    </tr>\n    <tr>\n      <th>15995</th>\n      <td>0</td>\n      <td>6</td>\n      <td>8</td>\n      <td>6.500000</td>\n      <td>3</td>\n      <td>3.000000</td>\n      <td>40</td>\n      <td>8</td>\n      <td>6.666667</td>\n      <td>2831.13</td>\n      <td>...</td>\n      <td>0.986674</td>\n      <td>5.260850e-04</td>\n      <td>0.000000</td>\n      <td>0.0</td>\n      <td>0.013326</td>\n      <td>0.0</td>\n      <td>0</td>\n      <td>0</td>\n      <td>1</td>\n      <td>0</td>\n    </tr>\n    <tr>\n      <th>15996</th>\n      <td>0</td>\n      <td>6</td>\n      <td>8</td>\n      <td>6.833333</td>\n      <td>2</td>\n      <td>2.000000</td>\n      <td>42</td>\n      <td>9</td>\n      <td>7.000000</td>\n      <td>2369.03</td>\n      <td>...</td>\n      <td>0.927005</td>\n      <td>6.890000e-05</td>\n      <td>0.008665</td>\n      <td>0.0</td>\n      <td>0.039553</td>\n      <td>0.0</td>\n      <td>1</td>\n      <td>0</td>\n      <td>0</td>\n      <td>0</td>\n    </tr>\n    <tr>\n      <th>15997</th>\n      <td>4</td>\n      <td>6</td>\n      <td>8</td>\n      <td>6.333333</td>\n      <td>2</td>\n      <td>2.000000</td>\n      <td>42</td>\n      <td>9</td>\n      <td>7.000000</td>\n      <td>5421.56</td>\n      <td>...</td>\n      <td>0.773433</td>\n      <td>6.738972e-03</td>\n      <td>0.002232</td>\n      <td>1.0</td>\n      <td>0.223888</td>\n      <td>0.0</td>\n      <td>0</td>\n      <td>0</td>\n      <td>1</td>\n      <td>0</td>\n    </tr>\n    <tr>\n      <th>15998</th>\n      <td>0</td>\n      <td>6</td>\n      <td>5</td>\n      <td>3.333333</td>\n      <td>1</td>\n      <td>1.000000</td>\n      <td>20</td>\n      <td>5</td>\n      <td>3.333333</td>\n      <td>5270.74</td>\n      <td>...</td>\n      <td>0.967045</td>\n      <td>7.680000e-07</td>\n      <td>0.025627</td>\n      <td>0.0</td>\n      <td>0.006425</td>\n      <td>0.0</td>\n      <td>0</td>\n      <td>0</td>\n      <td>0</td>\n      <td>0</td>\n    </tr>\n    <tr>\n      <th>15999</th>\n      <td>7</td>\n      <td>6</td>\n      <td>13</td>\n      <td>10.166667</td>\n      <td>5</td>\n      <td>3.833333</td>\n      <td>68</td>\n      <td>16</td>\n      <td>11.333333</td>\n      <td>7262.37</td>\n      <td>...</td>\n      <td>0.885500</td>\n      <td>3.814840e-04</td>\n      <td>0.008389</td>\n      <td>0.0</td>\n      <td>0.083951</td>\n      <td>0.0</td>\n      <td>0</td>\n      <td>0</td>\n      <td>0</td>\n      <td>1</td>\n    </tr>\n  </tbody>\n</table>\n<p>15999 rows × 74 columns</p>\n</div>"
     },
     "execution_count": 68,
     "metadata": {},
     "output_type": "execute_result"
    }
   ],
   "source": [
    "data"
   ],
   "metadata": {
    "collapsed": false,
    "ExecuteTime": {
     "start_time": "2024-02-17T20:10:14.042490Z",
     "end_time": "2024-02-17T20:10:14.074497Z"
    }
   }
  },
  {
   "cell_type": "code",
   "execution_count": null,
   "outputs": [],
   "source": [],
   "metadata": {
    "collapsed": false
   }
  }
 ],
 "metadata": {
  "kernelspec": {
   "display_name": "Python 3",
   "language": "python",
   "name": "python3"
  },
  "language_info": {
   "codemirror_mode": {
    "name": "ipython",
    "version": 2
   },
   "file_extension": ".py",
   "mimetype": "text/x-python",
   "name": "python",
   "nbconvert_exporter": "python",
   "pygments_lexer": "ipython2",
   "version": "2.7.6"
  }
 },
 "nbformat": 4,
 "nbformat_minor": 0
}
