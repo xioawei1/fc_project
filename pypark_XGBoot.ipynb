{
 "cells": [
  {
   "cell_type": "code",
   "execution_count": 1,
   "outputs": [],
   "source": [
    "from pyspark.sql import SparkSession,Row\n",
    "import pyspark.sql.functions as F\n",
    "import pyspark.sql.types as T"
   ],
   "metadata": {
    "collapsed": false,
    "ExecuteTime": {
     "start_time": "2024-01-23T18:03:32.345431Z",
     "end_time": "2024-01-23T18:03:32.539147Z"
    }
   }
  },
  {
   "cell_type": "code",
   "execution_count": 2,
   "outputs": [
    {
     "name": "stderr",
     "output_type": "stream",
     "text": [
      "24/01/23 18:03:34 WARN NativeCodeLoader: Unable to load native-hadoop library for your platform... using builtin-java classes where applicable\n",
      "24/01/23 18:03:36 WARN Client: Neither spark.yarn.jars nor spark.yarn.archive is set, falling back to uploading libraries under SPARK_HOME.\n"
     ]
    }
   ],
   "source": [
    "spark=(\n",
    "    SparkSession.builder.master(\"yarn\").appName(\"Pyspark with XGBoot\")\n",
    "    .config(\"spark.driver.cores\",\"4\")\n",
    "    .config(\"spark.driver.memory\",\"4g\")\n",
    "    .config(\"spark.executor.memory\",\"4g\")\n",
    "    .config(\"spark.executor.cores\",\"4\")\n",
    "    .getOrCreate()\n",
    ")"
   ],
   "metadata": {
    "collapsed": false,
    "ExecuteTime": {
     "start_time": "2024-01-23T18:03:32.548441Z",
     "end_time": "2024-01-23T18:03:56.708683Z"
    }
   }
  },
  {
   "cell_type": "code",
   "execution_count": 3,
   "outputs": [
    {
     "name": "stderr",
     "output_type": "stream",
     "text": [
      "                                                                                \r"
     ]
    },
    {
     "name": "stdout",
     "output_type": "stream",
     "text": [
      "16000 82\n"
     ]
    }
   ],
   "source": [
    "# import data\n",
    "data=spark.read.csv(\n",
    "    \"/pyspark_xgboot/data.csv\",inferSchema=True,header=True,encoding=\"gbk\"\n",
    ")\n",
    "print(data.count(),len(data.columns))"
   ],
   "metadata": {
    "collapsed": false,
    "ExecuteTime": {
     "start_time": "2024-01-23T18:03:56.712584Z",
     "end_time": "2024-01-23T18:04:11.139082Z"
    }
   }
  },
  {
   "cell_type": "code",
   "execution_count": 4,
   "outputs": [
    {
     "name": "stdout",
     "output_type": "stream",
     "text": [
      "root\n",
      " |-- 个人编码: double (nullable = true)\n",
      " |-- 一天去两家医院的天数: integer (nullable = true)\n",
      " |-- 就诊的月数: integer (nullable = true)\n",
      " |-- 月就诊天数_MAX: integer (nullable = true)\n",
      " |-- 月就诊天数_AVG: double (nullable = true)\n",
      " |-- 月就诊医院数_MAX: integer (nullable = true)\n",
      " |-- 月就诊医院数_AVG: double (nullable = true)\n",
      " |-- 就诊次数_SUM: integer (nullable = true)\n",
      " |-- 月就诊次数_MAX: integer (nullable = true)\n",
      " |-- 月就诊次数_AVG: double (nullable = true)\n",
      " |-- 月统筹金额_MAX: double (nullable = true)\n",
      " |-- 月统筹金额_AVG: double (nullable = true)\n",
      " |-- 月药品金额_MAX: double (nullable = true)\n",
      " |-- 月药品金额_AVG: double (nullable = true)\n",
      " |-- 医院_就诊天数_MAX: integer (nullable = true)\n",
      " |-- 医院_就诊天数_AVG: double (nullable = true)\n",
      " |-- 医院_统筹金_MAX: double (nullable = true)\n",
      " |-- 医院_统筹金_AVG: double (nullable = true)\n",
      " |-- 医院_药品_MAX: double (nullable = true)\n",
      " |-- 医院_药品_AVG: double (nullable = true)\n",
      " |-- 医院编码_NN: integer (nullable = true)\n",
      " |-- 顺序号_NN: integer (nullable = true)\n",
      " |-- 交易时间DD_NN: integer (nullable = true)\n",
      " |-- 交易时间YYYY_NN: integer (nullable = true)\n",
      " |-- 交易时间YYYYMM_NN: integer (nullable = true)\n",
      " |-- 住院天数_SUM: integer (nullable = true)\n",
      " |-- 个人账户金额_SUM: double (nullable = true)\n",
      " |-- 统筹支付金额_SUM: double (nullable = true)\n",
      " |-- ALL_SUM: double (nullable = true)\n",
      " |-- 可用账户报销金额_SUM: double (nullable = true)\n",
      " |-- 药品费发生金额_SUM: double (nullable = true)\n",
      " |-- 药品费自费金额_SUM: double (nullable = true)\n",
      " |-- 药品费申报金额_SUM: double (nullable = true)\n",
      " |-- 贵重药品发生金额_SUM: double (nullable = true)\n",
      " |-- 中成药费发生金额_SUM: double (nullable = true)\n",
      " |-- 中草药费发生金额_SUM: double (nullable = true)\n",
      " |-- 检查费发生金额_SUM: double (nullable = true)\n",
      " |-- 检查费自费金额_SUM: double (nullable = true)\n",
      " |-- 检查费申报金额_SUM: double (nullable = true)\n",
      " |-- 贵重检查费金额_SUM: integer (nullable = true)\n",
      " |-- 治疗费发生金额_SUM: double (nullable = true)\n",
      " |-- 治疗费自费金额_SUM: double (nullable = true)\n",
      " |-- 治疗费申报金额_SUM: double (nullable = true)\n",
      " |-- 手术费发生金额_SUM: integer (nullable = true)\n",
      " |-- 手术费自费金额_SUM: integer (nullable = true)\n",
      " |-- 手术费申报金额_SUM: double (nullable = true)\n",
      " |-- 床位费发生金额_SUM: double (nullable = true)\n",
      " |-- 床位费申报金额_SUM: double (nullable = true)\n",
      " |-- 医用材料发生金额_SUM: double (nullable = true)\n",
      " |-- 高价材料发生金额_SUM: double (nullable = true)\n",
      " |-- 医用材料费自费金额_SUM: double (nullable = true)\n",
      " |-- 成分输血申报金额_SUM: integer (nullable = true)\n",
      " |-- 其它发生金额_SUM: double (nullable = true)\n",
      " |-- 其它申报金额_SUM: integer (nullable = true)\n",
      " |-- 一次性医用材料申报金额_SUM: double (nullable = true)\n",
      " |-- 起付线标准金额_MAX: double (nullable = true)\n",
      " |-- 起付标准以上自负比例金额_SUM: double (nullable = true)\n",
      " |-- 医疗救助个人按比例负担金额_SUM: double (nullable = true)\n",
      " |-- 最高限额以上金额_SUM: double (nullable = true)\n",
      " |-- 基本统筹基金支付金额_SUM: double (nullable = true)\n",
      " |-- 公务员医疗补助基金支付金额_SUM: double (nullable = true)\n",
      " |-- 城乡救助补助金额_SUM: double (nullable = true)\n",
      " |-- 基本个人账户支付_SUM: double (nullable = true)\n",
      " |-- 非账户支付金额_SUM: double (nullable = true)\n",
      " |-- 本次审批金额_SUM: double (nullable = true)\n",
      " |-- 补助审批金额_SUM: double (nullable = true)\n",
      " |-- 医疗救助医院申请_SUM: double (nullable = true)\n",
      " |-- 残疾军人补助_SUM: double (nullable = true)\n",
      " |-- 民政救助补助_SUM: double (nullable = true)\n",
      " |-- 城乡优抚补助_SUM: double (nullable = true)\n",
      " |-- 出院诊断病种名称_NN: integer (nullable = true)\n",
      " |-- 出院诊断LENTH_MAX: integer (nullable = true)\n",
      " |-- 药品在总金额中的占比: double (nullable = true)\n",
      " |-- 个人支付的药品占比: double (nullable = true)\n",
      " |-- 检查总费用在总金额占比: double (nullable = true)\n",
      " |-- 个人支付检查费用占比: double (nullable = true)\n",
      " |-- 治疗费用在总金额占比: double (nullable = true)\n",
      " |-- 个人支付治疗费用占比: double (nullable = true)\n",
      " |-- BZ_民政救助: integer (nullable = true)\n",
      " |-- BZ_城乡优抚: integer (nullable = true)\n",
      " |-- 是否挂号: integer (nullable = true)\n",
      " |-- RES: integer (nullable = true)\n",
      "\n"
     ]
    }
   ],
   "source": [
    "# 观察特征的类型\n",
    "data.printSchema()"
   ],
   "metadata": {
    "collapsed": false,
    "ExecuteTime": {
     "start_time": "2024-01-23T18:04:11.138427Z",
     "end_time": "2024-01-23T18:04:11.146290Z"
    }
   }
  },
  {
   "cell_type": "code",
   "execution_count": 5,
   "outputs": [],
   "source": [
    "import pandas as pd\n",
    "pd.set_option(\"display.max_rows\",1000)"
   ],
   "metadata": {
    "collapsed": false,
    "ExecuteTime": {
     "start_time": "2024-01-23T18:04:11.146945Z",
     "end_time": "2024-01-23T18:04:14.174548Z"
    }
   }
  },
  {
   "cell_type": "code",
   "execution_count": 6,
   "outputs": [
    {
     "name": "stderr",
     "output_type": "stream",
     "text": [
      "24/01/23 18:04:18 WARN package: Truncated the string representation of a plan since it was too large. This behavior can be adjusted by setting 'spark.sql.debug.maxToStringFields'.\n",
      "                                                                                \r"
     ]
    },
    {
     "data": {
      "text/plain": "个人编码               0    False\n一天去两家医院的天数         0    False\n就诊的月数              0    False\n月就诊天数_MAX          0    False\n月就诊天数_AVG          0    False\n月就诊医院数_MAX         0    False\n月就诊医院数_AVG         0    False\n就诊次数_SUM           0    False\n月就诊次数_MAX          0    False\n月就诊次数_AVG          0    False\n月统筹金额_MAX          0    False\n月统筹金额_AVG          0    False\n月药品金额_MAX          0    False\n月药品金额_AVG          0    False\n医院_就诊天数_MAX        0    False\n医院_就诊天数_AVG        0    False\n医院_统筹金_MAX         0    False\n医院_统筹金_AVG         0    False\n医院_药品_MAX          0    False\n医院_药品_AVG          0    False\n医院编码_NN            0    False\n顺序号_NN             0    False\n交易时间DD_NN          0    False\n交易时间YYYY_NN        0    False\n交易时间YYYYMM_NN      0    False\n住院天数_SUM           0    False\n个人账户金额_SUM         0    False\n统筹支付金额_SUM         0    False\nALL_SUM            0    False\n可用账户报销金额_SUM       0    False\n药品费发生金额_SUM        0    False\n药品费自费金额_SUM        0    False\n药品费申报金额_SUM        0    False\n贵重药品发生金额_SUM       0    False\n中成药费发生金额_SUM       0    False\n中草药费发生金额_SUM       0    False\n检查费发生金额_SUM        0    False\n检查费自费金额_SUM        0    False\n检查费申报金额_SUM        0    False\n贵重检查费金额_SUM        0    False\n治疗费发生金额_SUM        0    False\n治疗费自费金额_SUM        0    False\n治疗费申报金额_SUM        0    False\n手术费发生金额_SUM        0    False\n手术费自费金额_SUM        0    False\n手术费申报金额_SUM        0    False\n床位费发生金额_SUM        0    False\n床位费申报金额_SUM        0    False\n医用材料发生金额_SUM       0    False\n高价材料发生金额_SUM       0    False\n医用材料费自费金额_SUM      0    False\n成分输血申报金额_SUM       0    False\n其它发生金额_SUM         0    False\n其它申报金额_SUM         0    False\n一次性医用材料申报金额_SUM    0    False\n起付线标准金额_MAX        0    False\n起付标准以上自负比例金额_SUM   0    False\n医疗救助个人按比例负担金额_SUM  0    False\n最高限额以上金额_SUM       0     True\n基本统筹基金支付金额_SUM     0    False\n公务员医疗补助基金支付金额_SUM  0    False\n城乡救助补助金额_SUM       0    False\n基本个人账户支付_SUM       0    False\n非账户支付金额_SUM        0    False\n本次审批金额_SUM         0    False\n补助审批金额_SUM         0    False\n医疗救助医院申请_SUM       0    False\n残疾军人补助_SUM         0    False\n民政救助补助_SUM         0    False\n城乡优抚补助_SUM         0    False\n出院诊断病种名称_NN        0    False\n出院诊断LENTH_MAX      0    False\n药品在总金额中的占比         0    False\n个人支付的药品占比          0    False\n检查总费用在总金额占比        0    False\n个人支付检查费用占比         0    False\n治疗费用在总金额占比         0    False\n个人支付治疗费用占比         0    False\nBZ_民政救助            0     True\nBZ_城乡优抚            0     True\n是否挂号               0     True\nRES                0     True\ndtype: bool"
     },
     "execution_count": 6,
     "metadata": {},
     "output_type": "execute_result"
    }
   ],
   "source": [
    "# 将特征中的二元特征提取出来\n",
    "is_binary = data.agg(\n",
    "    *[\n",
    "        (F.size(F.collect_set(x)) == 2).alias(x)\n",
    "        for x in data.columns\n",
    "    ]\n",
    ").toPandas()\n",
    "is_binary.unstack()"
   ],
   "metadata": {
    "collapsed": false,
    "ExecuteTime": {
     "start_time": "2024-01-23T18:04:14.181101Z",
     "end_time": "2024-01-23T18:04:22.885697Z"
    }
   }
  },
  {
   "cell_type": "code",
   "execution_count": 7,
   "outputs": [],
   "source": [
    "# 创建4个顶级变量\n",
    "identifiers=\"个人编码\"\n",
    "target_column= \"RES\"\n",
    "binary_columns=[\n",
    "    \"BZ_民政救助\",\n",
    "    \"BZ_城乡优抚\",\n",
    "    \"是否挂号\"\n",
    "]\n",
    "continuous_columns=[\n",
    "    x\n",
    "    for x in data.columns\n",
    "    if x not in binary_columns\n",
    "    and x not in target_column\n",
    "    and x not in identifiers\n",
    "]"
   ],
   "metadata": {
    "collapsed": false,
    "ExecuteTime": {
     "start_time": "2024-01-23T18:04:22.890284Z",
     "end_time": "2024-01-23T18:04:22.894219Z"
    }
   }
  },
  {
   "cell_type": "code",
   "execution_count": 8,
   "outputs": [
    {
     "name": "stdout",
     "output_type": "stream",
     "text": [
      "16000 82\n"
     ]
    }
   ],
   "source": [
    "# 缺失值处理\n",
    "# 删除只包含 null 的数据\n",
    "# 并使用 0.0 填充缺失值\n",
    "data=data.dropna(\n",
    "    how=\"all\",\n",
    "    subset=[x for x in data.columns if x not in identifiers]\n",
    ")\n",
    "data=data.dropna(subset=target_column)\n",
    "data=data.fillna(0.0,subset=data.columns)\n",
    "print(data.count(),len(data.columns))"
   ],
   "metadata": {
    "collapsed": false,
    "ExecuteTime": {
     "start_time": "2024-01-23T18:04:22.893559Z",
     "end_time": "2024-01-23T18:04:23.790210Z"
    }
   }
  },
  {
   "cell_type": "code",
   "execution_count": 9,
   "outputs": [
    {
     "name": "stderr",
     "output_type": "stream",
     "text": [
      "                                                                                \r"
     ]
    },
    {
     "name": "stdout",
     "output_type": "stream",
     "text": [
      "75\n",
      "['一天去两家医院的天数', '就诊的月数', '月就诊天数_MAX', '月就诊天数_AVG', '月就诊医院数_MAX', '月就诊医院数_AVG', '就诊次数_SUM', '月就诊次数_MAX', '月就诊次数_AVG', '月统筹金额_MAX', '月统筹金额_AVG', '月药品金额_MAX', '月药品金额_AVG', '医院_就诊天数_MAX', '医院_就诊天数_AVG', '医院_统筹金_MAX', '医院_统筹金_AVG', '医院_药品_MAX', '医院_药品_AVG', '医院编码_NN', '顺序号_NN', '交易时间DD_NN', '交易时间YYYYMM_NN', '个人账户金额_SUM', '统筹支付金额_SUM', 'ALL_SUM', '可用账户报销金额_SUM', '药品费发生金额_SUM', '药品费自费金额_SUM', '药品费申报金额_SUM', '贵重药品发生金额_SUM', '中成药费发生金额_SUM', '中草药费发生金额_SUM', '检查费发生金额_SUM', '检查费自费金额_SUM', '检查费申报金额_SUM', '贵重检查费金额_SUM', '治疗费发生金额_SUM', '治疗费自费金额_SUM', '治疗费申报金额_SUM', '手术费发生金额_SUM', '手术费自费金额_SUM', '手术费申报金额_SUM', '床位费发生金额_SUM', '床位费申报金额_SUM', '医用材料发生金额_SUM', '高价材料发生金额_SUM', '医用材料费自费金额_SUM', '成分输血申报金额_SUM', '其它发生金额_SUM', '其它申报金额_SUM', '一次性医用材料申报金额_SUM', '起付线标准金额_MAX', '起付标准以上自负比例金额_SUM', '医疗救助个人按比例负担金额_SUM', '最高限额以上金额_SUM', '基本统筹基金支付金额_SUM', '公务员医疗补助基金支付金额_SUM', '城乡救助补助金额_SUM', '基本个人账户支付_SUM', '非账户支付金额_SUM', '本次审批金额_SUM', '补助审批金额_SUM', '医疗救助医院申请_SUM', '残疾军人补助_SUM', '民政救助补助_SUM', '城乡优抚补助_SUM', '出院诊断病种名称_NN', '出院诊断LENTH_MAX', '药品在总金额中的占比', '个人支付的药品占比', '检查总费用在总金额占比', '个人支付检查费用占比', '治疗费用在总金额占比', '个人支付治疗费用占比']\n"
     ]
    }
   ],
   "source": [
    "# 清洗没有用的特征列 只需要清洗continuous_columns\n",
    "continuous_columns=data.select(\n",
    "    *[\n",
    "        x for x in continuous_columns\n",
    "        if (data.select(F.countDistinct(F.col(x))).collect()[0][0]!=1)\n",
    "    ]\n",
    ").columns\n",
    "print(len(continuous_columns))\n",
    "print(continuous_columns)"
   ],
   "metadata": {
    "collapsed": false,
    "ExecuteTime": {
     "start_time": "2024-01-23T18:04:23.790210Z",
     "end_time": "2024-01-23T18:05:22.611003Z"
    }
   }
  },
  {
   "cell_type": "code",
   "execution_count": 10,
   "outputs": [
    {
     "name": "stderr",
     "output_type": "stream",
     "text": [
      "[Stage 473:>                                                        (0 + 1) / 1]\r"
     ]
    },
    {
     "name": "stdout",
     "output_type": "stream",
     "text": [
      "+---------------------------------------------------------------------------------------------------------------------------------------------------------------------------------------------------------------------------------------------------------------------------------------------------------------------------------------------------------------------------------------------------------------------------------------------------------------------------------------------------------------+\n",
      "|continuous_features                                                                                                                                                                                                                                                                                                                                                                                                                                                                                            |\n",
      "+---------------------------------------------------------------------------------------------------------------------------------------------------------------------------------------------------------------------------------------------------------------------------------------------------------------------------------------------------------------------------------------------------------------------------------------------------------------------------------------------------------------+\n",
      "|[0.0,6.0,7.0,5.666666667,3.0,2.166666667,34.0,7.0,5.666666667,3501.18,2541.293333,3901.45,2695.291667,20.0,11.33333333,7553.0,5082.586667,8522.57,5390.583333,3.0,69.0,34.0,6.0,1970.99,15247.76,17218.75,1868.06,16171.75,68.93,15929.04,1984.6,4776.49,0.0,875.0,0.0,875.0,0.0,128.0,0.0,128.0,0.0,0.0,0.0,0.0,0.0,10.0,0.0,0.0,0.0,34.0,0.0,10.0,0.0,1694.28,0.0,0.0,15247.76,0.0,0.0,228.8,1742.19,16942.04,0.0,0.0,0.0,0.0,0.0,4.0,29.0,0.939194192,0.004262371,0.050816697,0.0,0.007433757,0.0]          |\n",
      "|(75,[1,2,3,4,5,6,7,8,9,10,11,12,13,14,15,16,17,18,19,20,21,22,23,24,25,26,27,28,29,30,31,33,35,37,39,45,51,53,56,59,60,61,67,68,69,70,71,73],[6.0,4.0,2.5,2.0,1.333333333,15.0,4.0,2.5,2217.66,1637.358333,2449.13,1783.153333,13.0,7.5,9500.07,4912.075,10309.64,5349.46,2.0,64.0,15.0,6.0,1371.57,9824.15,11195.72,1339.67,10698.92,31.9,10418.95,2264.73,1132.45,345.0,345.0,150.0,150.0,1.8,1.8,1091.6,9824.15,199.5,1172.07,10915.75,3.0,20.0,0.9556259,0.002981609,0.030815347,0.013397977])             |\n",
      "|(75,[0,1,2,3,4,5,6,7,8,9,10,11,12,13,14,15,16,17,18,19,20,21,22,23,24,25,26,27,28,29,31,37,39,43,44,45,49,51,53,56,59,60,61,67,68,69,70,73],[8.0,6.0,8.0,6.166666667,3.0,2.166666667,45.0,9.0,7.5,3360.55,2583.053333,3302.06,2368.528333,23.0,15.0,9161.73,5166.106667,10760.51,4737.056667,3.0,102.0,37.0,6.0,2637.2,15498.32,18135.52,2621.28,14211.17,4.72,13926.88,3762.15,3538.0,3538.0,75.0,75.0,300.15,11.2,300.15,2341.71,15498.32,234.0,2403.2,17840.03,4.0,29.0,0.783609734,3.32133E-4,0.195086769])|\n",
      "|(75,[1,2,3,4,5,6,7,8,9,10,11,12,13,14,15,16,17,18,19,20,21,22,23,24,25,26,27,28,29,31,37,39,53,56,59,60,61,67,68,69,70,73],[6.0,6.0,3.666666667,2.0,1.833333333,23.0,6.0,3.833333333,3030.61,2057.72,1500.12,1048.73,17.0,11.5,11622.17,6173.16,5504.6,3146.19,2.0,56.0,22.0,6.0,1373.06,12346.32,13719.38,1371.9,6292.38,1.16,6291.22,5075.85,7427.0,7427.0,1371.9,12346.32,73.34,1299.72,13718.22,5.0,16.0,0.458649006,1.8435E-4,0.541350994])                                                               |\n",
      "|(75,[1,2,3,4,5,6,7,8,9,10,11,12,13,14,15,16,17,18,19,20,21,22,23,24,25,26,27,28,29,30,31,37,39,53,56,59,60,61,67,68,69,70,73],[6.0,5.0,4.333333333,1.0,1.0,26.0,5.0,4.333333333,2332.45,2196.315,2563.26,2417.923333,26.0,26.0,13177.89,13177.89,14507.54,14507.54,1.0,64.0,26.0,6.0,1569.65,13177.89,14747.54,1565.06,14507.54,4.59,14402.13,2367.68,3678.72,240.0,240.0,1464.24,13177.89,64.0,1505.65,14642.13,2.0,33.0,0.983726099,3.16387E-4,0.016273901])                                                 |\n",
      "+---------------------------------------------------------------------------------------------------------------------------------------------------------------------------------------------------------------------------------------------------------------------------------------------------------------------------------------------------------------------------------------------------------------------------------------------------------------------------------------------------------------+\n",
      "only showing top 5 rows\n",
      "\n"
     ]
    },
    {
     "name": "stderr",
     "output_type": "stream",
     "text": [
      "                                                                                \r"
     ]
    }
   ],
   "source": [
    "# 将所有连续特征放在一列，以便后续处理\n",
    "from pyspark.ml.feature import VectorAssembler\n",
    "continuous_features=VectorAssembler(\n",
    "    inputCols=continuous_columns,\n",
    "    outputCol=\"continuous_features\"\n",
    ")\n",
    "vector_data=data.select(continuous_columns)\n",
    "for x in continuous_columns:\n",
    "    vector_data=vector_data.where(~F.isnull(F.col(x)))\n",
    "vector_variable=continuous_features.transform(vector_data)\n",
    "vector_variable.select(\"continuous_features\").show(5,False)"
   ],
   "metadata": {
    "collapsed": false,
    "ExecuteTime": {
     "start_time": "2024-01-23T18:05:22.607347Z",
     "end_time": "2024-01-23T18:05:26.246850Z"
    }
   }
  },
  {
   "cell_type": "code",
   "execution_count": 11,
   "outputs": [
    {
     "name": "stdout",
     "output_type": "stream",
     "text": [
      "root\n",
      " |-- continuous_features: vector (nullable = true)\n",
      "\n"
     ]
    }
   ],
   "source": [
    "vector_variable.select(\"continuous_features\").printSchema()"
   ],
   "metadata": {
    "collapsed": false,
    "ExecuteTime": {
     "start_time": "2024-01-23T18:05:26.246850Z",
     "end_time": "2024-01-23T18:05:26.336280Z"
    }
   }
  },
  {
   "cell_type": "code",
   "execution_count": 12,
   "outputs": [
    {
     "name": "stderr",
     "output_type": "stream",
     "text": [
      "/opt/module/anaconda3/envs/pyspark/lib/python3.8/site-packages/pyspark/sql/context.py:125: FutureWarning: Deprecated in 3.0.0. Use SparkSession.builder.getOrCreate() instead.\n",
      "  warnings.warn(\n"
     ]
    }
   ],
   "source": [
    "from pyspark.ml.stat import Correlation\n",
    "# 获取相关系数矩阵\n",
    "correlation = Correlation.corr(\n",
    "    vector_variable,\n",
    "    \"continuous_features\"\n",
    ")"
   ],
   "metadata": {
    "collapsed": false,
    "ExecuteTime": {
     "start_time": "2024-01-23T18:05:26.271572Z",
     "end_time": "2024-01-23T18:05:31.830958Z"
    }
   }
  },
  {
   "cell_type": "code",
   "execution_count": 13,
   "outputs": [
    {
     "name": "stdout",
     "output_type": "stream",
     "text": [
      "root\n",
      " |-- pearson(continuous_features): matrix (nullable = false)\n",
      "\n"
     ]
    }
   ],
   "source": [
    "correlation.printSchema()"
   ],
   "metadata": {
    "collapsed": false,
    "ExecuteTime": {
     "start_time": "2024-01-23T18:05:31.830958Z",
     "end_time": "2024-01-23T18:05:31.842136Z"
    }
   }
  },
  {
   "cell_type": "code",
   "execution_count": 14,
   "outputs": [
    {
     "data": {
      "text/plain": "array([ 1.        ,  0.06467579,  0.47231246, ...,  0.07289498,\n       -0.0391515 ,  1.        ])"
     },
     "execution_count": 14,
     "metadata": {},
     "output_type": "execute_result"
    }
   ],
   "source": [
    "correlation_values = correlation.collect()[0][\"pearson(continuous_features)\"].values\n",
    "correlation_values"
   ],
   "metadata": {
    "collapsed": false,
    "ExecuteTime": {
     "start_time": "2024-01-23T18:05:31.842136Z",
     "end_time": "2024-01-23T18:05:31.944399Z"
    }
   }
  },
  {
   "cell_type": "code",
   "execution_count": 15,
   "outputs": [],
   "source": [
    "# 删除高相关特征\n",
    "def delHighlyCol(corr_values,inputcolumns,threshold=0.9):\n",
    "    columns=inputcolumns.copy()\n",
    "    # 提取高相关特征\n",
    "    highly_corr = {}\n",
    "    for i in range(len(columns)):\n",
    "        for j in range(i):\n",
    "            if abs(corr_values[i*len(columns)+j])>threshold:\n",
    "                col = columns[i]\n",
    "                related_col = columns[j]\n",
    "                if col not in highly_corr:\n",
    "                    highly_corr[col] = set()\n",
    "                highly_corr[col].add(related_col)\n",
    "    # 合并重复的特征并删除高相关特征\n",
    "    for col,related_cols in list(highly_corr.items()):\n",
    "        for related_col in list(related_cols):\n",
    "            if related_col in highly_corr:\n",
    "                highly_corr[col].update(highly_corr[related_col])\n",
    "                del highly_corr[related_col]\n",
    "    for col,related_cols in list(highly_corr.items()):\n",
    "        for related_col in list(related_cols):\n",
    "            columns.remove(related_col)\n",
    "    return columns"
   ],
   "metadata": {
    "collapsed": false,
    "ExecuteTime": {
     "start_time": "2024-01-23T18:05:31.934944Z",
     "end_time": "2024-01-23T18:05:31.945057Z"
    }
   }
  },
  {
   "cell_type": "code",
   "execution_count": 16,
   "outputs": [],
   "source": [
    "continuous_columnsDelHigh=delHighlyCol(corr_values=correlation_values,inputcolumns=continuous_columns,threshold=0.95)"
   ],
   "metadata": {
    "collapsed": false,
    "ExecuteTime": {
     "start_time": "2024-01-23T18:05:31.938479Z",
     "end_time": "2024-01-23T18:05:31.945057Z"
    }
   }
  },
  {
   "cell_type": "code",
   "execution_count": 17,
   "outputs": [
    {
     "name": "stdout",
     "output_type": "stream",
     "text": [
      "55\n",
      "['一天去两家医院的天数', '月就诊医院数_AVG', '月就诊次数_MAX', '月统筹金额_MAX', '月药品金额_MAX', '医院_就诊天数_MAX', '医院_就诊天数_AVG', '医院_统筹金_MAX', '医院_统筹金_AVG', '医院_药品_MAX', '医院_药品_AVG', '医院编码_NN', '顺序号_NN', '交易时间DD_NN', '交易时间YYYYMM_NN', '药品费自费金额_SUM', '药品费申报金额_SUM', '贵重药品发生金额_SUM', '中成药费发生金额_SUM', '中草药费发生金额_SUM', '检查费自费金额_SUM', '检查费申报金额_SUM', '贵重检查费金额_SUM', '治疗费自费金额_SUM', '治疗费申报金额_SUM', '手术费自费金额_SUM', '手术费申报金额_SUM', '床位费申报金额_SUM', '医用材料发生金额_SUM', '高价材料发生金额_SUM', '医用材料费自费金额_SUM', '成分输血申报金额_SUM', '其它发生金额_SUM', '其它申报金额_SUM', '一次性医用材料申报金额_SUM', '起付线标准金额_MAX', '起付标准以上自负比例金额_SUM', '最高限额以上金额_SUM', '基本统筹基金支付金额_SUM', '公务员医疗补助基金支付金额_SUM', '基本个人账户支付_SUM', '非账户支付金额_SUM', '本次审批金额_SUM', '医疗救助医院申请_SUM', '残疾军人补助_SUM', '民政救助补助_SUM', '城乡优抚补助_SUM', '出院诊断病种名称_NN', '出院诊断LENTH_MAX', '药品在总金额中的占比', '个人支付的药品占比', '检查总费用在总金额占比', '个人支付检查费用占比', '治疗费用在总金额占比', '个人支付治疗费用占比']\n"
     ]
    }
   ],
   "source": [
    "print(len(continuous_columnsDelHigh))\n",
    "print(continuous_columnsDelHigh)"
   ],
   "metadata": {
    "collapsed": false,
    "ExecuteTime": {
     "start_time": "2024-01-23T18:05:31.949662Z",
     "end_time": "2024-01-23T18:05:32.024654Z"
    }
   }
  },
  {
   "cell_type": "code",
   "execution_count": 18,
   "outputs": [
    {
     "name": "stdout",
     "output_type": "stream",
     "text": [
      "75\n",
      "['一天去两家医院的天数', '就诊的月数', '月就诊天数_MAX', '月就诊天数_AVG', '月就诊医院数_MAX', '月就诊医院数_AVG', '就诊次数_SUM', '月就诊次数_MAX', '月就诊次数_AVG', '月统筹金额_MAX', '月统筹金额_AVG', '月药品金额_MAX', '月药品金额_AVG', '医院_就诊天数_MAX', '医院_就诊天数_AVG', '医院_统筹金_MAX', '医院_统筹金_AVG', '医院_药品_MAX', '医院_药品_AVG', '医院编码_NN', '顺序号_NN', '交易时间DD_NN', '交易时间YYYYMM_NN', '个人账户金额_SUM', '统筹支付金额_SUM', 'ALL_SUM', '可用账户报销金额_SUM', '药品费发生金额_SUM', '药品费自费金额_SUM', '药品费申报金额_SUM', '贵重药品发生金额_SUM', '中成药费发生金额_SUM', '中草药费发生金额_SUM', '检查费发生金额_SUM', '检查费自费金额_SUM', '检查费申报金额_SUM', '贵重检查费金额_SUM', '治疗费发生金额_SUM', '治疗费自费金额_SUM', '治疗费申报金额_SUM', '手术费发生金额_SUM', '手术费自费金额_SUM', '手术费申报金额_SUM', '床位费发生金额_SUM', '床位费申报金额_SUM', '医用材料发生金额_SUM', '高价材料发生金额_SUM', '医用材料费自费金额_SUM', '成分输血申报金额_SUM', '其它发生金额_SUM', '其它申报金额_SUM', '一次性医用材料申报金额_SUM', '起付线标准金额_MAX', '起付标准以上自负比例金额_SUM', '医疗救助个人按比例负担金额_SUM', '最高限额以上金额_SUM', '基本统筹基金支付金额_SUM', '公务员医疗补助基金支付金额_SUM', '城乡救助补助金额_SUM', '基本个人账户支付_SUM', '非账户支付金额_SUM', '本次审批金额_SUM', '补助审批金额_SUM', '医疗救助医院申请_SUM', '残疾军人补助_SUM', '民政救助补助_SUM', '城乡优抚补助_SUM', '出院诊断病种名称_NN', '出院诊断LENTH_MAX', '药品在总金额中的占比', '个人支付的药品占比', '检查总费用在总金额占比', '个人支付检查费用占比', '治疗费用在总金额占比', '个人支付治疗费用占比']\n"
     ]
    }
   ],
   "source": [
    "print(len(continuous_columns))\n",
    "print(continuous_columns)"
   ],
   "metadata": {
    "collapsed": false,
    "ExecuteTime": {
     "start_time": "2024-01-23T18:05:31.957555Z",
     "end_time": "2024-01-23T18:05:32.025487Z"
    }
   }
  },
  {
   "cell_type": "code",
   "execution_count": 19,
   "outputs": [],
   "source": [
    "#   XGBoost On PySpark\n",
    "import random\n",
    "from pyspark.ml import Pipeline\n",
    "from xgboost.spark import SparkXGBClassifier,SparkXGBClassifierModel"
   ],
   "metadata": {
    "collapsed": false,
    "ExecuteTime": {
     "start_time": "2024-01-23T18:05:31.964134Z",
     "end_time": "2024-01-23T18:05:32.984129Z"
    }
   }
  },
  {
   "cell_type": "code",
   "execution_count": 20,
   "outputs": [
    {
     "name": "stdout",
     "output_type": "stream",
     "text": [
      "['个人编码', '一天去两家医院的天数', '月就诊医院数_AVG', '月就诊次数_MAX', '月统筹金额_MAX', '月药品金额_MAX', '医院_就诊天数_MAX', '医院_就诊天数_AVG', '医院_统筹金_MAX', '医院_统筹金_AVG', '医院_药品_MAX', '医院_药品_AVG', '医院编码_NN', '顺序号_NN', '交易时间DD_NN', '交易时间YYYYMM_NN', '药品费自费金额_SUM', '药品费申报金额_SUM', '贵重药品发生金额_SUM', '中成药费发生金额_SUM', '中草药费发生金额_SUM', '检查费自费金额_SUM', '检查费申报金额_SUM', '贵重检查费金额_SUM', '治疗费自费金额_SUM', '治疗费申报金额_SUM', '手术费自费金额_SUM', '手术费申报金额_SUM', '床位费申报金额_SUM', '医用材料发生金额_SUM', '高价材料发生金额_SUM', '医用材料费自费金额_SUM', '成分输血申报金额_SUM', '其它发生金额_SUM', '其它申报金额_SUM', '一次性医用材料申报金额_SUM', '起付线标准金额_MAX', '起付标准以上自负比例金额_SUM', '最高限额以上金额_SUM', '基本统筹基金支付金额_SUM', '公务员医疗补助基金支付金额_SUM', '基本个人账户支付_SUM', '非账户支付金额_SUM', '本次审批金额_SUM', '医疗救助医院申请_SUM', '残疾军人补助_SUM', '民政救助补助_SUM', '城乡优抚补助_SUM', '出院诊断病种名称_NN', '出院诊断LENTH_MAX', '药品在总金额中的占比', '个人支付的药品占比', '检查总费用在总金额占比', '个人支付检查费用占比', '治疗费用在总金额占比', '个人支付治疗费用占比', 'BZ_民政救助', 'BZ_城乡优抚', '是否挂号', 'RES']\n",
      "+---+--------------------+----------------+--------------+--------------+--------------+-----------------+-----------------+---------------+---------------+-------------+-------------+-----------+---------+-------------+-----------------+------------------+------------------+--------------------+--------------------+--------------------+------------------+------------------+------------------+------------------+------------------+------------------+------------------+------------------+--------------------+--------------------+----------------------+--------------------+----------------+----------------+--------------------------+------------------+----------------------------+--------------------+------------------------+------------------------------+--------------------+------------------+----------------+--------------------+----------------+----------------+----------------+-------------------+-----------------+--------------------+------------------+----------------------+--------------------+--------------------+--------------------+-----------+-----------+--------+---+\n",
      "| id|一天去两家医院的天数|月就诊医院数_AVG|月就诊次数_MAX|月统筹金额_MAX|月药品金额_MAX|医院_就诊天数_MAX|医院_就诊天数_AVG|医院_统筹金_MAX|医院_统筹金_AVG|医院_药品_MAX|医院_药品_AVG|医院编码_NN|顺序号_NN|交易时间DD_NN|交易时间YYYYMM_NN|药品费自费金额_SUM|药品费申报金额_SUM|贵重药品发生金额_SUM|中成药费发生金额_SUM|中草药费发生金额_SUM|检查费自费金额_SUM|检查费申报金额_SUM|贵重检查费金额_SUM|治疗费自费金额_SUM|治疗费申报金额_SUM|手术费自费金额_SUM|手术费申报金额_SUM|床位费申报金额_SUM|医用材料发生金额_SUM|高价材料发生金额_SUM|医用材料费自费金额_SUM|成分输血申报金额_SUM|其它发生金额_SUM|其它申报金额_SUM|一次性医用材料申报金额_SUM|起付线标准金额_MAX|起付标准以上自负比例金额_SUM|最高限额以上金额_SUM|基本统筹基金支付金额_SUM|公务员医疗补助基金支付金额_SUM|基本个人账户支付_SUM|非账户支付金额_SUM|本次审批金额_SUM|医疗救助医院申请_SUM|残疾军人补助_SUM|民政救助补助_SUM|城乡优抚补助_SUM|出院诊断病种名称_NN|出院诊断LENTH_MAX|药品在总金额中的占比|个人支付的药品占比|检查总费用在总金额占比|个人支付检查费用占比|治疗费用在总金额占比|个人支付治疗费用占比|BZ_民政救助|BZ_城乡优抚|是否挂号|RES|\n",
      "+---+--------------------+----------------+--------------+--------------+--------------+-----------------+-----------------+---------------+---------------+-------------+-------------+-----------+---------+-------------+-----------------+------------------+------------------+--------------------+--------------------+--------------------+------------------+------------------+------------------+------------------+------------------+------------------+------------------+------------------+--------------------+--------------------+----------------------+--------------------+----------------+----------------+--------------------------+------------------+----------------------------+--------------------+------------------------+------------------------------+--------------------+------------------+----------------+--------------------+----------------+----------------+----------------+-------------------+-----------------+--------------------+------------------+----------------------+--------------------+--------------------+--------------------+-----------+-----------+--------+---+\n",
      "|  1|                   0|     2.166666667|             7|       3501.18|       3901.45|               20|      11.33333333|         7553.0|    5082.586667|      8522.57|  5390.583333|          3|       69|           34|                6|             68.93|          15929.04|              1984.6|             4776.49|                 0.0|               0.0|             875.0|                 0|               0.0|             128.0|                 0|               0.0|               0.0|                10.0|                 0.0|                   0.0|                   0|            34.0|               0|                      10.0|               0.0|                     1694.28|                 0.0|                15247.76|                           0.0|               228.8|           1742.19|        16942.04|                 0.0|             0.0|             0.0|             0.0|                  4|               29|         0.939194192|       0.004262371|           0.050816697|                 0.0|         0.007433757|                 0.0|          0|          0|       1|  0|\n",
      "|  2|                   0|     1.333333333|             4|       2217.66|       2449.13|               13|              7.5|        9500.07|       4912.075|     10309.64|      5349.46|          2|       64|           15|                6|              31.9|          10418.95|             2264.73|             1132.45|                 0.0|               0.0|             345.0|                 0|               0.0|             150.0|                 0|               0.0|               0.0|                 1.8|                 0.0|                   0.0|                   0|             0.0|               0|                       1.8|               0.0|                      1091.6|                 0.0|                 9824.15|                           0.0|               199.5|           1172.07|        10915.75|                 0.0|             0.0|             0.0|             0.0|                  3|               20|           0.9556259|       0.002981609|           0.030815347|                 0.0|         0.013397977|                 0.0|          0|          0|       1|  0|\n",
      "|  3|                   8|     2.166666667|             9|       3360.55|       3302.06|               23|             15.0|        9161.73|    5166.106667|     10760.51|  4737.056667|          3|      102|           37|                6|              4.72|          13926.88|                 0.0|             3762.15|                 0.0|               0.0|               0.0|                 0|               0.0|            3538.0|                 0|               0.0|              75.0|              300.15|                 0.0|                   0.0|                   0|            11.2|               0|                    300.15|               0.0|                     2341.71|                 0.0|                15498.32|                           0.0|               234.0|            2403.2|        17840.03|                 0.0|             0.0|             0.0|             0.0|                  4|               29|         0.783609734|        3.32133E-4|                   0.0|                 0.0|         0.195086769|                 0.0|          0|          0|       0|  0|\n",
      "|  4|                   0|     1.833333333|             6|       3030.61|       1500.12|               17|             11.5|       11622.17|        6173.16|       5504.6|      3146.19|          2|       56|           22|                6|              1.16|           6291.22|                 0.0|             5075.85|                 0.0|               0.0|               0.0|                 0|               0.0|            7427.0|                 0|               0.0|               0.0|                 0.0|                 0.0|                   0.0|                   0|             0.0|               0|                       0.0|               0.0|                      1371.9|                 0.0|                12346.32|                           0.0|               73.34|           1299.72|        13718.22|                 0.0|             0.0|             0.0|             0.0|                  5|               16|         0.458649006|         1.8435E-4|                   0.0|                 0.0|         0.541350994|                 0.0|          0|          0|       0|  0|\n",
      "|  5|                   0|             1.0|             5|       2332.45|       2563.26|               26|             26.0|       13177.89|       13177.89|     14507.54|     14507.54|          1|       64|           26|                6|              4.59|          14402.13|             2367.68|             3678.72|                 0.0|               0.0|               0.0|                 0|               0.0|             240.0|                 0|               0.0|               0.0|                 0.0|                 0.0|                   0.0|                   0|             0.0|               0|                       0.0|               0.0|                     1464.24|                 0.0|                13177.89|                           0.0|                64.0|           1505.65|        14642.13|                 0.0|             0.0|             0.0|             0.0|                  2|               33|         0.983726099|        3.16387E-4|                   0.0|                 0.0|         0.016273901|                 0.0|          0|          0|       0|  0|\n",
      "|  6|                   9|             3.0|             9|       3315.78|       3525.46|               26|             11.0|       11837.15|      4091.9425|     12093.79|      4249.05|          4|      118|           35|                6|              4.74|          16880.27|                 0.0|             3754.24|              583.09|               0.0|             409.0|                 0|               0.0|             591.5|                 0|               0.0|               0.0|               330.5|                 0.0|                  24.8|                   0|             0.0|               0|                     305.7|               0.0|                      1818.7|                 0.0|                16367.77|                           0.0|               144.0|           1815.43|        18186.47|                 0.0|             0.0|             0.0|             0.0|                  9|               30|         0.927375704|        2.78886E-4|           0.022316557|                 0.0|         0.032274434|                 0.0|          0|          0|       0|  0|\n",
      "|  7|                   0|     2.833333333|            10|        4865.3|       4301.12|               27|            12.75|       15678.27|      6213.8275|     13800.78|    5227.8875|          4|      134|           50|                6|               0.0|          20911.55|                 0.0|             3160.12|             9765.47|               0.0|            2000.0|               127|               0.0|             967.0|                 0|               0.0|               0.0|              495.44|                 0.0|                   6.0|                   0|             0.0|               0|                    489.44|               0.0|                     2436.78|                 0.0|                21931.21|                           0.0|              157.89|            822.84|        24367.99|                 0.0|             0.0|         1462.05|             0.0|                  9|               40|         0.857945293|               0.0|           0.082054682|                 0.0|         0.039673439|                 0.0|          1|          0|       0|  0|\n",
      "|  8|                   0|     2.833333333|             9|       3432.94|       3749.74|               22|      14.66666667|        8994.75|        5876.42|      9926.68|  6396.923333|          3|       90|           41|                6|              54.9|           19031.7|             1984.61|             2618.47|             9926.68|               0.0|              30.0|                 0|               6.0|             439.0|                 0|               0.0|               0.0|                87.4|                 0.0|                   0.0|                   0|            35.4|               0|                      87.4|               0.0|                     1958.84|                 0.0|                17629.26|                           0.0|              157.03|           2002.28|         19588.1|                 0.0|             0.0|             0.0|             0.0|                  5|               30|         0.969790642|        0.00286075|           0.001516027|                 0.0|         0.022487729|         0.013483146|          0|          0|       0|  0|\n",
      "|  9|                   0|     1.833333333|             9|       3598.42|       3458.78|               34|             21.0|       11747.63|       8168.735|     11763.31|     8071.205|          2|       92|           42|                6|            258.65|          15883.76|             1764.15|             2264.15|             4085.27|               0.0|             533.0|                 0|             147.0|             990.0|                 0|               0.0|               0.0|              745.96|                 0.0|                   0.0|                   0|             0.0|               0|                    357.98|               0.0|                     1815.25|                 0.0|                16337.47|                           0.0|              218.07|           2002.83|        18152.72|                 0.0|             0.0|             0.0|             0.0|                  8|               34|         0.869818308|        0.01602301|           0.028720195|                 0.0|         0.061266156|         0.129287599|          0|          0|       0|  0|\n",
      "| 10|                   0|             2.5|            10|       4243.86|       4157.04|               25|             11.0|        7969.18|      4005.0925|       8851.0|      4178.48|          4|       86|           41|                6|            122.29|          16580.51|                 0.0|             5848.32|               277.0|               0.0|             407.0|                 0|               0.0|             941.5|                 0|               0.0|               0.0|              447.51|                 0.0|                   2.8|                   0|             0.0|               0|                    298.41|               0.0|                     2353.35|                 0.0|                16020.37|                           0.0|                84.4|           2405.16|        18373.72|                 0.0|             0.0|             0.0|             0.0|                  4|               28|          0.90297046|       0.007316656|           0.021988198|                 0.0|          0.05086459|                 0.0|          0|          0|       0|  0|\n",
      "| 11|                   0|     1.166666667|             6|       2248.81|       2471.19|               23|             12.0|        9674.42|        4904.39|     10756.35|      5446.57|          2|       49|           23|                6|              76.0|          10817.14|             2143.07|             2722.85|                 0.0|               0.0|               0.0|                 0|               0.0|              81.5|                 0|               0.0|               0.0|                 0.0|                 0.0|                   0.0|                   0|            43.6|               0|                       0.0|               0.0|                     1089.86|                 0.0|                 9808.78|                           0.0|                 0.0|           1209.46|        10898.64|                 0.0|             0.0|             0.0|             0.0|                  4|               50|           0.9886461|       0.006976868|                   0.0|                 0.0|         0.007396826|                 0.0|          0|          0|       0|  0|\n",
      "| 12|                   0|             1.0|             5|       2603.39|       2541.47|               19|             19.0|        7943.68|        7943.68|      6531.89|      6531.89|          1|       40|           19|                6|            283.16|           6248.73|              636.93|             2215.48|                 0.0|               0.0|            1796.0|                 0|               0.0|             384.5|                 0|               0.0|               0.0|               397.6|                 0.0|                   0.5|                   0|             0.0|               0|                       0.0|               0.0|                      882.65|                 0.0|                 7943.68|                           0.0|                 0.0|           1166.31|         8826.33|                 0.0|             0.0|             0.0|             0.0|                  4|               24|         0.717002982|       0.043350393|            0.19714621|                 0.0|         0.042206413|                 0.0|          0|          0|       0|  0|\n",
      "| 13|                   0|             2.0|             7|       3259.82|       3061.74|               22|             17.0|       12366.73|        7784.09|     11602.61|     7413.645|          2|       84|           33|                6|            128.27|          14699.02|                 0.0|             1193.91|             7605.78|               0.0|            1885.0|               250|               0.0|             678.5|                 0|               0.0|               0.0|                35.5|                 0.0|                   0.0|                   0|             0.0|               0|                      35.5|               0.0|                     1729.84|                 0.0|                15568.18|                           0.0|                 0.0|           1858.11|        17298.02|                 0.0|             0.0|             0.0|             0.0|                  6|               25|         0.850857526|        0.00865094|           0.108169897|                 0.0|         0.038935425|                 0.0|          0|          0|       0|  0|\n",
      "| 14|                  12|     2.666666667|            15|       6301.57|       7208.47|               31|      25.33333333|       12715.96|    9620.033333|      15161.2|     10589.19|          3|      161|           63|                6|             19.36|          31385.85|             7045.84|              5499.9|             6695.78|               0.0|              15.0|                 0|               0.0|            3007.5|                 0|               0.0|               0.0|               489.6|                 0.0|                   0.0|                   0|             0.0|               0|                     489.6|               0.0|                     6037.85|                 0.0|                 28860.1|                           0.0|                 0.0|           6419.57|        34897.95|                 0.0|             0.0|             0.0|             0.0|                 14|               24|         0.900449749|        6.09427E-4|            4.25174E-4|                 0.0|         0.085247396|                 0.0|          0|          0|       0|  0|\n",
      "| 15|                   0|             1.0|             2|       4161.53|       4639.35|               12|             12.0|       20921.88|       20921.88|     24083.38|     24083.38|          1|       25|           12|                6|               0.0|          22986.96|            18820.08|             13119.4|                 0.0|               0.0|             208.0|                 0|               0.0|              44.5|                 0|               0.0|               0.0|                 7.1|                 0.0|                   0.0|                   0|             0.0|               0|                       7.1|               0.0|                     2324.68|                 0.0|                20921.88|                           0.0|               230.0|            3191.1|        23246.56|                 0.0|             0.0|             0.0|             0.0|                  3|               16|         0.989335735|               0.0|           0.008544558|                 0.0|         0.001828042|                 0.0|          0|          0|       0|  0|\n",
      "| 16|                   0|     1.333333333|             5|        2207.1|       2245.28|               25|              9.0|       11636.48|         3940.2|      11646.0|      3944.86|          3|       56|           27|                6|              0.18|           11834.4|             1786.14|             4451.76|                 0.0|               0.0|             225.0|                 0|               0.0|             369.0|                 0|               0.0|               0.0|               705.6|                 0.0|                   0.0|                   0|             0.0|               0|                     705.6|               0.0|                      1313.4|                 0.0|                 11820.6|                           0.0|               196.0|           1117.58|         13134.0|                 0.0|             0.0|             0.0|             0.0|                  4|               30|         0.901052064|           1.52E-5|           0.017130875|                 0.0|         0.028094636|                 0.0|          0|          0|       0|  0|\n",
      "| 17|                   5|             2.0|            11|        3065.5|       3181.11|               26|             24.5|        8001.33|        6394.27|       8153.8|      6701.98|          2|      139|           44|                6|              1.86|           13402.1|             2949.22|             1215.99|             5250.16|               0.0|             215.0|                 0|              96.0|             438.5|                 0|               0.0|               0.0|              153.92|                 0.0|                   0.0|                   0|            15.0|               0|                    153.92|               0.0|                     1420.98|                 0.0|                12788.54|                           0.0|                 0.0|           1533.84|        14209.52|                 0.0|             0.0|             0.0|             0.0|                  4|               13|         0.935875183|        1.38765E-4|           0.015011472|                 0.0|         0.037319216|         0.179607109|          0|          0|       0|  0|\n",
      "| 18|                   0|             1.0|             7|       3161.84|       3231.87|               22|             22.0|        7851.87|        7851.87|      7739.09|      7739.09|          1|       49|           22|                6|               0.0|           7739.09|             1503.58|              593.92|             1396.36|               0.0|             420.0|                 0|               0.0|             149.0|                 0|               0.0|               0.0|               416.2|                 0.0|                   0.0|                   0|             0.0|               0|                     416.2|               0.0|                      872.42|                 0.0|                 7851.87|                           0.0|                 0.0|            872.42|         8724.29|                 0.0|             0.0|             0.0|             0.0|                  8|               26|         0.887073905|               0.0|           0.048141453|                 0.0|         0.017078754|                 0.0|          0|          0|       0|  0|\n",
      "| 19|                   0|             1.0|             4|       2083.76|       2170.17|               20|             20.0|       10267.81|       10267.81|     10646.55|     10646.55|          1|       49|           20|                6|               7.3|          10639.25|              938.46|               827.5|                 0.0|               0.0|              30.0|                 0|               0.0|             269.0|                 0|               0.0|               0.0|               470.4|                 0.0|                   0.0|                   0|             0.0|               0|                     470.4|               0.0|                     1140.84|                 0.0|                10267.81|                           0.0|              183.33|            964.81|        11408.65|                 0.0|             0.0|             0.0|             0.0|                  2|               45|         0.932603069|        6.85668E-4|           0.002627902|                 0.0|         0.023563523|                 0.0|          0|          0|       1|  0|\n",
      "| 20|                   0|     1.666666667|             6|        2834.8|       2589.46|               13|             6.25|        6458.44|        3053.41|      5737.66|     2871.215|          4|       58|           25|                6|             48.14|          11436.72|              681.54|             2042.91|             5381.78|              10.0|            1334.0|               500|               0.0|             533.5|                 0|               0.0|               0.0|               266.5|                 0.0|                   0.0|                   0|             0.0|               0|                     266.5|               0.0|                     1357.08|                 0.0|                12213.64|                           0.0|               77.93|           1337.29|        13570.72|                 0.0|             0.0|             0.0|             0.0|                  5|               23|         0.842686769|       0.004191605|           0.098614264|         0.007440476|         0.039144873|                 0.0|          0|          0|       0|  0|\n",
      "+---+--------------------+----------------+--------------+--------------+--------------+-----------------+-----------------+---------------+---------------+-------------+-------------+-----------+---------+-------------+-----------------+------------------+------------------+--------------------+--------------------+--------------------+------------------+------------------+------------------+------------------+------------------+------------------+------------------+------------------+--------------------+--------------------+----------------------+--------------------+----------------+----------------+--------------------------+------------------+----------------------------+--------------------+------------------------+------------------------------+--------------------+------------------+----------------+--------------------+----------------+----------------+----------------+-------------------+-----------------+--------------------+------------------+----------------------+--------------------+--------------------+--------------------+-----------+-----------+--------+---+\n",
      "only showing top 20 rows\n",
      "\n"
     ]
    }
   ],
   "source": [
    "# 构建在xgboost中使用的data\n",
    "feature_cols=continuous_columnsDelHigh+binary_columns\n",
    "label_col=target_column\n",
    "pred_col_name=\"pred\"\n",
    "all_cols=[identifiers]+feature_cols+[label_col]\n",
    "print(all_cols)\n",
    "df=data.select(\n",
    "    *all_cols\n",
    ").withColumnRenamed(\n",
    "    \"个人编码\",\"id\"\n",
    ").withColumn(\"id\",F.monotonically_increasing_id()+1) #更新编号\n",
    "df.show()"
   ],
   "metadata": {
    "collapsed": false,
    "ExecuteTime": {
     "start_time": "2024-01-23T18:05:32.986102Z",
     "end_time": "2024-01-23T18:05:34.194376Z"
    }
   }
  },
  {
   "cell_type": "code",
   "execution_count": 21,
   "outputs": [],
   "source": [
    "vec_assembler=VectorAssembler(inputCols=feature_cols,outputCol=\"features\")\n",
    "df_input = vec_assembler.transform(df)\n",
    "classifier=SparkXGBClassifier(\n",
    "    features_col=\"features\",\n",
    "    label_col=label_col,\n",
    "    num_workers=3,\n",
    ")"
   ],
   "metadata": {
    "collapsed": false,
    "ExecuteTime": {
     "start_time": "2024-01-23T18:05:34.193719Z",
     "end_time": "2024-01-23T18:05:34.285671Z"
    }
   }
  },
  {
   "cell_type": "code",
   "execution_count": 22,
   "outputs": [
    {
     "name": "stderr",
     "output_type": "stream",
     "text": [
      "2024-01-23 18:05:35,351 INFO XGBoost-PySpark: _fit Running xgboost-2.0.3 on 3 workers with\n",
      "\tbooster params: {'objective': 'binary:logistic', 'device': 'cpu', 'nthread': 1}\n",
      "\ttrain_call_kwargs_params: {'verbose_eval': True, 'num_boost_round': 100}\n",
      "\tdmatrix_kwargs: {'nthread': 1, 'missing': nan}\n",
      "2024-01-23 18:05:48,783 INFO XGBoost-PySpark: _fit Finished xgboost training!   \n"
     ]
    }
   ],
   "source": [
    "model = classifier.fit(df_input)\n",
    "model.get_booster().feature_names = feature_cols"
   ],
   "metadata": {
    "collapsed": false,
    "ExecuteTime": {
     "start_time": "2024-01-23T18:05:34.285013Z",
     "end_time": "2024-01-23T18:05:49.005545Z"
    }
   }
  },
  {
   "cell_type": "code",
   "execution_count": 23,
   "outputs": [
    {
     "name": "stdout",
     "output_type": "stream",
     "text": [
      "+---+--------------------+----------------+--------------+--------------+--------------+-----------------+-----------------+---------------+---------------+-------------+-------------+-----------+---------+-------------+-----------------+------------------+------------------+--------------------+--------------------+--------------------+------------------+------------------+------------------+------------------+------------------+------------------+------------------+------------------+--------------------+--------------------+----------------------+--------------------+----------------+----------------+--------------------------+------------------+----------------------------+--------------------+------------------------+------------------------------+--------------------+------------------+----------------+--------------------+----------------+----------------+----------------+-------------------+-----------------+--------------------+------------------+----------------------+--------------------+--------------------+--------------------+-----------+-----------+--------+---+----------------------------------------------------------------------------------------------------------------------------------------------------------------------------------------------------------------------------------------------------------------------------------------------------------------------------------------------------------------------------------------------------+----------------------------------------+----------+------------------------------------------+\n",
      "|id |一天去两家医院的天数|月就诊医院数_AVG|月就诊次数_MAX|月统筹金额_MAX|月药品金额_MAX|医院_就诊天数_MAX|医院_就诊天数_AVG|医院_统筹金_MAX|医院_统筹金_AVG|医院_药品_MAX|医院_药品_AVG|医院编码_NN|顺序号_NN|交易时间DD_NN|交易时间YYYYMM_NN|药品费自费金额_SUM|药品费申报金额_SUM|贵重药品发生金额_SUM|中成药费发生金额_SUM|中草药费发生金额_SUM|检查费自费金额_SUM|检查费申报金额_SUM|贵重检查费金额_SUM|治疗费自费金额_SUM|治疗费申报金额_SUM|手术费自费金额_SUM|手术费申报金额_SUM|床位费申报金额_SUM|医用材料发生金额_SUM|高价材料发生金额_SUM|医用材料费自费金额_SUM|成分输血申报金额_SUM|其它发生金额_SUM|其它申报金额_SUM|一次性医用材料申报金额_SUM|起付线标准金额_MAX|起付标准以上自负比例金额_SUM|最高限额以上金额_SUM|基本统筹基金支付金额_SUM|公务员医疗补助基金支付金额_SUM|基本个人账户支付_SUM|非账户支付金额_SUM|本次审批金额_SUM|医疗救助医院申请_SUM|残疾军人补助_SUM|民政救助补助_SUM|城乡优抚补助_SUM|出院诊断病种名称_NN|出院诊断LENTH_MAX|药品在总金额中的占比|个人支付的药品占比|检查总费用在总金额占比|个人支付检查费用占比|治疗费用在总金额占比|个人支付治疗费用占比|BZ_民政救助|BZ_城乡优抚|是否挂号|RES|features                                                                                                                                                                                                                                                                                                                                                                                            |rawPrediction                           |prediction|probability                               |\n",
      "+---+--------------------+----------------+--------------+--------------+--------------+-----------------+-----------------+---------------+---------------+-------------+-------------+-----------+---------+-------------+-----------------+------------------+------------------+--------------------+--------------------+--------------------+------------------+------------------+------------------+------------------+------------------+------------------+------------------+------------------+--------------------+--------------------+----------------------+--------------------+----------------+----------------+--------------------------+------------------+----------------------------+--------------------+------------------------+------------------------------+--------------------+------------------+----------------+--------------------+----------------+----------------+----------------+-------------------+-----------------+--------------------+------------------+----------------------+--------------------+--------------------+--------------------+-----------+-----------+--------+---+----------------------------------------------------------------------------------------------------------------------------------------------------------------------------------------------------------------------------------------------------------------------------------------------------------------------------------------------------------------------------------------------------+----------------------------------------+----------+------------------------------------------+\n",
      "|1  |0                   |2.166666667     |7             |3501.18       |3901.45       |20               |11.33333333      |7553.0         |5082.586667    |8522.57      |5390.583333  |3          |69       |34           |6                |68.93             |15929.04          |1984.6              |4776.49             |0.0                 |0.0               |875.0             |0                 |0.0               |128.0             |0                 |0.0               |0.0               |10.0                |0.0                 |0.0                   |0                   |34.0            |0               |10.0                      |0.0               |1694.28                     |0.0                 |15247.76                |0.0                           |228.8               |1742.19           |16942.04        |0.0                 |0.0             |0.0             |0.0             |4                  |29               |0.939194192         |0.004262371       |0.050816697           |0.0                 |0.007433757         |0.0                 |0          |0          |1       |0  |(58,[1,2,3,4,5,6,7,8,9,10,11,12,13,14,15,16,17,18,21,24,28,32,34,36,38,40,41,42,47,48,49,50,51,53,57],[2.166666667,7.0,3501.18,3901.45,20.0,11.33333333,7553.0,5082.586667,8522.57,5390.583333,3.0,69.0,34.0,6.0,68.93,15929.04,1984.6,4776.49,875.0,128.0,10.0,34.0,10.0,1694.28,15247.76,228.8,1742.19,16942.04,4.0,29.0,0.939194192,0.004262371,0.050816697,0.007433757,1.0])                    |[9.112197875976562,-9.112197875976562]  |0.0       |[0.9998896718025208,1.1029982852051035E-4]|\n",
      "|2  |0                   |1.333333333     |4             |2217.66       |2449.13       |13               |7.5              |9500.07        |4912.075       |10309.64     |5349.46      |2          |64       |15           |6                |31.9              |10418.95          |2264.73             |1132.45             |0.0                 |0.0               |345.0             |0                 |0.0               |150.0             |0                 |0.0               |0.0               |1.8                 |0.0                 |0.0                   |0                   |0.0             |0               |1.8                       |0.0               |1091.6                      |0.0                 |9824.15                 |0.0                           |199.5               |1172.07           |10915.75        |0.0                 |0.0             |0.0             |0.0             |3                  |20               |0.9556259           |0.002981609       |0.030815347           |0.0                 |0.013397977         |0.0                 |0          |0          |1       |0  |(58,[1,2,3,4,5,6,7,8,9,10,11,12,13,14,15,16,17,18,21,24,28,34,36,38,40,41,42,47,48,49,50,51,53,57],[1.333333333,4.0,2217.66,2449.13,13.0,7.5,9500.07,4912.075,10309.64,5349.46,2.0,64.0,15.0,6.0,31.9,10418.95,2264.73,1132.45,345.0,150.0,1.8,1.8,1091.6,9824.15,199.5,1172.07,10915.75,3.0,20.0,0.9556259,0.002981609,0.030815347,0.013397977,1.0])                                               |[4.143160820007324,-4.143160820007324]  |0.0       |[0.9843754172325134,0.015624597668647766] |\n",
      "|3  |8                   |2.166666667     |9             |3360.55       |3302.06       |23               |15.0             |9161.73        |5166.106667    |10760.51     |4737.056667  |3          |102      |37           |6                |4.72              |13926.88          |0.0                 |3762.15             |0.0                 |0.0               |0.0               |0                 |0.0               |3538.0            |0                 |0.0               |75.0              |300.15              |0.0                 |0.0                   |0                   |11.2            |0               |300.15                    |0.0               |2341.71                     |0.0                 |15498.32                |0.0                           |234.0               |2403.2            |17840.03        |0.0                 |0.0             |0.0             |0.0             |4                  |29               |0.783609734         |3.32133E-4        |0.0                   |0.0                 |0.195086769         |0.0                 |0          |0          |0       |0  |(58,[0,1,2,3,4,5,6,7,8,9,10,11,12,13,14,15,16,18,24,27,28,32,34,36,38,40,41,42,47,48,49,50,53],[8.0,2.166666667,9.0,3360.55,3302.06,23.0,15.0,9161.73,5166.106667,10760.51,4737.056667,3.0,102.0,37.0,6.0,4.72,13926.88,3762.15,3538.0,75.0,300.15,11.2,300.15,2341.71,15498.32,234.0,2403.2,17840.03,4.0,29.0,0.783609734,3.32133E-4,0.195086769])                                                 |[6.586065292358398,-6.586065292358398]  |0.0       |[0.9986224174499512,0.0013775567058473825]|\n",
      "|4  |0                   |1.833333333     |6             |3030.61       |1500.12       |17               |11.5             |11622.17       |6173.16        |5504.6       |3146.19      |2          |56       |22           |6                |1.16              |6291.22           |0.0                 |5075.85             |0.0                 |0.0               |0.0               |0                 |0.0               |7427.0            |0                 |0.0               |0.0               |0.0                 |0.0                 |0.0                   |0                   |0.0             |0               |0.0                       |0.0               |1371.9                      |0.0                 |12346.32                |0.0                           |73.34               |1299.72           |13718.22        |0.0                 |0.0             |0.0             |0.0             |5                  |16               |0.458649006         |1.8435E-4         |0.0                   |0.0                 |0.541350994         |0.0                 |0          |0          |0       |0  |(58,[1,2,3,4,5,6,7,8,9,10,11,12,13,14,15,16,18,24,36,38,40,41,42,47,48,49,50,53],[1.833333333,6.0,3030.61,1500.12,17.0,11.5,11622.17,6173.16,5504.6,3146.19,2.0,56.0,22.0,6.0,1.16,6291.22,5075.85,7427.0,1371.9,12346.32,73.34,1299.72,13718.22,5.0,16.0,0.458649006,1.8435E-4,0.541350994])                                                                                                       |[2.8566133975982666,-2.8566133975982666]|0.0       |[0.9456595182418823,0.054340463131666183] |\n",
      "|5  |0                   |1.0             |5             |2332.45       |2563.26       |26               |26.0             |13177.89       |13177.89       |14507.54     |14507.54     |1          |64       |26           |6                |4.59              |14402.13          |2367.68             |3678.72             |0.0                 |0.0               |0.0               |0                 |0.0               |240.0             |0                 |0.0               |0.0               |0.0                 |0.0                 |0.0                   |0                   |0.0             |0               |0.0                       |0.0               |1464.24                     |0.0                 |13177.89                |0.0                           |64.0                |1505.65           |14642.13        |0.0                 |0.0             |0.0             |0.0             |2                  |33               |0.983726099         |3.16387E-4        |0.0                   |0.0                 |0.016273901         |0.0                 |0          |0          |0       |0  |(58,[1,2,3,4,5,6,7,8,9,10,11,12,13,14,15,16,17,18,24,36,38,40,41,42,47,48,49,50,53],[1.0,5.0,2332.45,2563.26,26.0,26.0,13177.89,13177.89,14507.54,14507.54,1.0,64.0,26.0,6.0,4.59,14402.13,2367.68,3678.72,240.0,1464.24,13177.89,64.0,1505.65,14642.13,2.0,33.0,0.983726099,3.16387E-4,0.016273901])                                                                                               |[8.513838768005371,-8.513838768005371]  |0.0       |[0.999799370765686,2.0063175179529935E-4] |\n",
      "|6  |9                   |3.0             |9             |3315.78       |3525.46       |26               |11.0             |11837.15       |4091.9425      |12093.79     |4249.05      |4          |118      |35           |6                |4.74              |16880.27          |0.0                 |3754.24             |583.09              |0.0               |409.0             |0                 |0.0               |591.5             |0                 |0.0               |0.0               |330.5               |0.0                 |24.8                  |0                   |0.0             |0               |305.7                     |0.0               |1818.7                      |0.0                 |16367.77                |0.0                           |144.0               |1815.43           |18186.47        |0.0                 |0.0             |0.0             |0.0             |9                  |30               |0.927375704         |2.78886E-4        |0.022316557           |0.0                 |0.032274434         |0.0                 |0          |0          |0       |0  |(58,[0,1,2,3,4,5,6,7,8,9,10,11,12,13,14,15,16,18,19,21,24,28,30,34,36,38,40,41,42,47,48,49,50,51,53],[9.0,3.0,9.0,3315.78,3525.46,26.0,11.0,11837.15,4091.9425,12093.79,4249.05,4.0,118.0,35.0,6.0,4.74,16880.27,3754.24,583.09,409.0,591.5,330.5,24.8,305.7,1818.7,16367.77,144.0,1815.43,18186.47,9.0,30.0,0.927375704,2.78886E-4,0.022316557,0.032274434])                                       |[7.796710968017578,-7.796710968017578]  |0.0       |[0.9995890855789185,4.1091590537689626E-4]|\n",
      "|7  |0                   |2.833333333     |10            |4865.3        |4301.12       |27               |12.75            |15678.27       |6213.8275      |13800.78     |5227.8875    |4          |134      |50           |6                |0.0               |20911.55          |0.0                 |3160.12             |9765.47             |0.0               |2000.0            |127               |0.0               |967.0             |0                 |0.0               |0.0               |495.44              |0.0                 |6.0                   |0                   |0.0             |0               |489.44                    |0.0               |2436.78                     |0.0                 |21931.21                |0.0                           |157.89              |822.84            |24367.99        |0.0                 |0.0             |1462.05         |0.0             |9                  |40               |0.857945293         |0.0               |0.082054682           |0.0                 |0.039673439         |0.0                 |1          |0          |0       |0  |(58,[1,2,3,4,5,6,7,8,9,10,11,12,13,14,16,18,19,21,22,24,28,30,34,36,38,40,41,42,45,47,48,49,51,53,55],[2.833333333,10.0,4865.3,4301.12,27.0,12.75,15678.27,6213.8275,13800.78,5227.8875,4.0,134.0,50.0,6.0,20911.55,3160.12,9765.47,2000.0,127.0,967.0,495.44,6.0,489.44,2436.78,21931.21,157.89,822.84,24367.99,1462.05,9.0,40.0,0.857945293,0.082054682,0.039673439,1.0])                         |[9.998180389404297,-9.998180389404297]  |0.0       |[0.9999545216560364,4.5480548578780144E-5]|\n",
      "|8  |0                   |2.833333333     |9             |3432.94       |3749.74       |22               |14.66666667      |8994.75        |5876.42        |9926.68      |6396.923333  |3          |90       |41           |6                |54.9              |19031.7           |1984.61             |2618.47             |9926.68             |0.0               |30.0              |0                 |6.0               |439.0             |0                 |0.0               |0.0               |87.4                |0.0                 |0.0                   |0                   |35.4            |0               |87.4                      |0.0               |1958.84                     |0.0                 |17629.26                |0.0                           |157.03              |2002.28           |19588.1         |0.0                 |0.0             |0.0             |0.0             |5                  |30               |0.969790642         |0.00286075        |0.001516027           |0.0                 |0.022487729         |0.013483146         |0          |0          |0       |0  |(58,[1,2,3,4,5,6,7,8,9,10,11,12,13,14,15,16,17,18,19,21,23,24,28,32,34,36,38,40,41,42,47,48,49,50,51,53,54],[2.833333333,9.0,3432.94,3749.74,22.0,14.66666667,8994.75,5876.42,9926.68,6396.923333,3.0,90.0,41.0,6.0,54.9,19031.7,1984.61,2618.47,9926.68,30.0,6.0,439.0,87.4,35.4,87.4,1958.84,17629.26,157.03,2002.28,19588.1,5.0,30.0,0.969790642,0.00286075,0.001516027,0.022487729,0.013483146])|[9.88106632232666,-9.88106632232666]    |0.0       |[0.9999488592147827,5.11311118316371E-5]  |\n",
      "|9  |0                   |1.833333333     |9             |3598.42       |3458.78       |34               |21.0             |11747.63       |8168.735       |11763.31     |8071.205     |2          |92       |42           |6                |258.65            |15883.76          |1764.15             |2264.15             |4085.27             |0.0               |533.0             |0                 |147.0             |990.0             |0                 |0.0               |0.0               |745.96              |0.0                 |0.0                   |0                   |0.0             |0               |357.98                    |0.0               |1815.25                     |0.0                 |16337.47                |0.0                           |218.07              |2002.83           |18152.72        |0.0                 |0.0             |0.0             |0.0             |8                  |34               |0.869818308         |0.01602301        |0.028720195           |0.0                 |0.061266156         |0.129287599         |0          |0          |0       |0  |(58,[1,2,3,4,5,6,7,8,9,10,11,12,13,14,15,16,17,18,19,21,23,24,28,34,36,38,40,41,42,47,48,49,50,51,53,54],[1.833333333,9.0,3598.42,3458.78,34.0,21.0,11747.63,8168.735,11763.31,8071.205,2.0,92.0,42.0,6.0,258.65,15883.76,1764.15,2264.15,4085.27,533.0,147.0,990.0,745.96,357.98,1815.25,16337.47,218.07,2002.83,18152.72,8.0,34.0,0.869818308,0.01602301,0.028720195,0.061266156,0.129287599])    |[6.7694091796875,-6.7694091796875]      |0.0       |[0.9988529682159424,0.0011470556491985917]|\n",
      "|10 |0                   |2.5             |10            |4243.86       |4157.04       |25               |11.0             |7969.18        |4005.0925      |8851.0       |4178.48      |4          |86       |41           |6                |122.29            |16580.51          |0.0                 |5848.32             |277.0               |0.0               |407.0             |0                 |0.0               |941.5             |0                 |0.0               |0.0               |447.51              |0.0                 |2.8                   |0                   |0.0             |0               |298.41                    |0.0               |2353.35                     |0.0                 |16020.37                |0.0                           |84.4                |2405.16           |18373.72        |0.0                 |0.0             |0.0             |0.0             |4                  |28               |0.90297046          |0.007316656       |0.021988198           |0.0                 |0.05086459          |0.0                 |0          |0          |0       |0  |(58,[1,2,3,4,5,6,7,8,9,10,11,12,13,14,15,16,18,19,21,24,28,30,34,36,38,40,41,42,47,48,49,50,51,53],[2.5,10.0,4243.86,4157.04,25.0,11.0,7969.18,4005.0925,8851.0,4178.48,4.0,86.0,41.0,6.0,122.29,16580.51,5848.32,277.0,407.0,941.5,447.51,2.8,298.41,2353.35,16020.37,84.4,2405.16,18373.72,4.0,28.0,0.90297046,0.007316656,0.021988198,0.05086459])                                               |[4.194647312164307,-4.194647312164307]  |0.0       |[0.9851478338241577,0.014852147549390793] |\n",
      "|11 |0                   |1.166666667     |6             |2248.81       |2471.19       |23               |12.0             |9674.42        |4904.39        |10756.35     |5446.57      |2          |49       |23           |6                |76.0              |10817.14          |2143.07             |2722.85             |0.0                 |0.0               |0.0               |0                 |0.0               |81.5              |0                 |0.0               |0.0               |0.0                 |0.0                 |0.0                   |0                   |43.6            |0               |0.0                       |0.0               |1089.86                     |0.0                 |9808.78                 |0.0                           |0.0                 |1209.46           |10898.64        |0.0                 |0.0             |0.0             |0.0             |4                  |50               |0.9886461           |0.006976868       |0.0                   |0.0                 |0.007396826         |0.0                 |0          |0          |0       |0  |(58,[1,2,3,4,5,6,7,8,9,10,11,12,13,14,15,16,17,18,24,32,36,38,41,42,47,48,49,50,53],[1.166666667,6.0,2248.81,2471.19,23.0,12.0,9674.42,4904.39,10756.35,5446.57,2.0,49.0,23.0,6.0,76.0,10817.14,2143.07,2722.85,81.5,43.6,1089.86,9808.78,1209.46,10898.64,4.0,50.0,0.9886461,0.006976868,0.007396826])                                                                                             |[4.388683319091797,-4.388683319091797]  |0.0       |[0.9877352118492126,0.012264775112271309] |\n",
      "|12 |0                   |1.0             |5             |2603.39       |2541.47       |19               |19.0             |7943.68        |7943.68        |6531.89      |6531.89      |1          |40       |19           |6                |283.16            |6248.73           |636.93              |2215.48             |0.0                 |0.0               |1796.0            |0                 |0.0               |384.5             |0                 |0.0               |0.0               |397.6               |0.0                 |0.5                   |0                   |0.0             |0               |0.0                       |0.0               |882.65                      |0.0                 |7943.68                 |0.0                           |0.0                 |1166.31           |8826.33         |0.0                 |0.0             |0.0             |0.0             |4                  |24               |0.717002982         |0.043350393       |0.19714621            |0.0                 |0.042206413         |0.0                 |0          |0          |0       |0  |(58,[1,2,3,4,5,6,7,8,9,10,11,12,13,14,15,16,17,18,21,24,28,30,36,38,41,42,47,48,49,50,51,53],[1.0,5.0,2603.39,2541.47,19.0,19.0,7943.68,7943.68,6531.89,6531.89,1.0,40.0,19.0,6.0,283.16,6248.73,636.93,2215.48,1796.0,384.5,397.6,0.5,882.65,7943.68,1166.31,8826.33,4.0,24.0,0.717002982,0.043350393,0.19714621,0.042206413])                                                                     |[2.968080520629883,-2.968080520629883]  |0.0       |[0.9511110782623291,0.048888903111219406] |\n",
      "|13 |0                   |2.0             |7             |3259.82       |3061.74       |22               |17.0             |12366.73       |7784.09        |11602.61     |7413.645     |2          |84       |33           |6                |128.27            |14699.02          |0.0                 |1193.91             |7605.78             |0.0               |1885.0            |250               |0.0               |678.5             |0                 |0.0               |0.0               |35.5                |0.0                 |0.0                   |0                   |0.0             |0               |35.5                      |0.0               |1729.84                     |0.0                 |15568.18                |0.0                           |0.0                 |1858.11           |17298.02        |0.0                 |0.0             |0.0             |0.0             |6                  |25               |0.850857526         |0.00865094        |0.108169897           |0.0                 |0.038935425         |0.0                 |0          |0          |0       |0  |(58,[1,2,3,4,5,6,7,8,9,10,11,12,13,14,15,16,18,19,21,22,24,28,34,36,38,41,42,47,48,49,50,51,53],[2.0,7.0,3259.82,3061.74,22.0,17.0,12366.73,7784.09,11602.61,7413.645,2.0,84.0,33.0,6.0,128.27,14699.02,1193.91,7605.78,1885.0,250.0,678.5,35.5,35.5,1729.84,15568.18,1858.11,17298.02,6.0,25.0,0.850857526,0.00865094,0.108169897,0.038935425])                                                    |[10.458212852478027,-10.458212852478027]|0.0       |[0.9999712705612183,2.8710675906040706E-5]|\n",
      "|14 |12                  |2.666666667     |15            |6301.57       |7208.47       |31               |25.33333333      |12715.96       |9620.033333    |15161.2      |10589.19     |3          |161      |63           |6                |19.36             |31385.85          |7045.84             |5499.9              |6695.78             |0.0               |15.0              |0                 |0.0               |3007.5            |0                 |0.0               |0.0               |489.6               |0.0                 |0.0                   |0                   |0.0             |0               |489.6                     |0.0               |6037.85                     |0.0                 |28860.1                 |0.0                           |0.0                 |6419.57           |34897.95        |0.0                 |0.0             |0.0             |0.0             |14                 |24               |0.900449749         |6.09427E-4        |4.25174E-4            |0.0                 |0.085247396         |0.0                 |0          |0          |0       |0  |(58,[0,1,2,3,4,5,6,7,8,9,10,11,12,13,14,15,16,17,18,19,21,24,28,34,36,38,41,42,47,48,49,50,51,53],[12.0,2.666666667,15.0,6301.57,7208.47,31.0,25.33333333,12715.96,9620.033333,15161.2,10589.19,3.0,161.0,63.0,6.0,19.36,31385.85,7045.84,5499.9,6695.78,15.0,3007.5,489.6,489.6,6037.85,28860.1,6419.57,34897.95,14.0,24.0,0.900449749,6.09427E-4,4.25174E-4,0.085247396])                         |[7.469751834869385,-7.469751834869385]  |0.0       |[0.999430239200592,5.697449669241905E-4]  |\n",
      "|15 |0                   |1.0             |2             |4161.53       |4639.35       |12               |12.0             |20921.88       |20921.88       |24083.38     |24083.38     |1          |25       |12           |6                |0.0               |22986.96          |18820.08            |13119.4             |0.0                 |0.0               |208.0             |0                 |0.0               |44.5              |0                 |0.0               |0.0               |7.1                 |0.0                 |0.0                   |0                   |0.0             |0               |7.1                       |0.0               |2324.68                     |0.0                 |20921.88                |0.0                           |230.0               |3191.1            |23246.56        |0.0                 |0.0             |0.0             |0.0             |3                  |16               |0.989335735         |0.0               |0.008544558           |0.0                 |0.001828042         |0.0                 |0          |0          |0       |0  |(58,[1,2,3,4,5,6,7,8,9,10,11,12,13,14,16,17,18,21,24,28,34,36,38,40,41,42,47,48,49,51,53],[1.0,2.0,4161.53,4639.35,12.0,12.0,20921.88,20921.88,24083.38,24083.38,1.0,25.0,12.0,6.0,22986.96,18820.08,13119.4,208.0,44.5,7.1,7.1,2324.68,20921.88,230.0,3191.1,23246.56,3.0,16.0,0.989335735,0.008544558,0.001828042])                                                                               |[7.366184234619141,-7.366184234619141]  |0.0       |[0.9993681311607361,6.318766972981393E-4] |\n",
      "|16 |0                   |1.333333333     |5             |2207.1        |2245.28       |25               |9.0              |11636.48       |3940.2         |11646.0      |3944.86      |3          |56       |27           |6                |0.18              |11834.4           |1786.14             |4451.76             |0.0                 |0.0               |225.0             |0                 |0.0               |369.0             |0                 |0.0               |0.0               |705.6               |0.0                 |0.0                   |0                   |0.0             |0               |705.6                     |0.0               |1313.4                      |0.0                 |11820.6                 |0.0                           |196.0               |1117.58           |13134.0         |0.0                 |0.0             |0.0             |0.0             |4                  |30               |0.901052064         |1.52E-5           |0.017130875           |0.0                 |0.028094636         |0.0                 |0          |0          |0       |0  |(58,[1,2,3,4,5,6,7,8,9,10,11,12,13,14,15,16,17,18,21,24,28,34,36,38,40,41,42,47,48,49,50,51,53],[1.333333333,5.0,2207.1,2245.28,25.0,9.0,11636.48,3940.2,11646.0,3944.86,3.0,56.0,27.0,6.0,0.18,11834.4,1786.14,4451.76,225.0,369.0,705.6,705.6,1313.4,11820.6,196.0,1117.58,13134.0,4.0,30.0,0.901052064,1.52E-5,0.017130875,0.028094636])                                                         |[9.355084419250488,-9.355084419250488]  |0.0       |[0.9999134540557861,8.651688403915614E-5] |\n",
      "|17 |5                   |2.0             |11            |3065.5        |3181.11       |26               |24.5             |8001.33        |6394.27        |8153.8       |6701.98      |2          |139      |44           |6                |1.86              |13402.1           |2949.22             |1215.99             |5250.16             |0.0               |215.0             |0                 |96.0              |438.5             |0                 |0.0               |0.0               |153.92              |0.0                 |0.0                   |0                   |15.0            |0               |153.92                    |0.0               |1420.98                     |0.0                 |12788.54                |0.0                           |0.0                 |1533.84           |14209.52        |0.0                 |0.0             |0.0             |0.0             |4                  |13               |0.935875183         |1.38765E-4        |0.015011472           |0.0                 |0.037319216         |0.179607109         |0          |0          |0       |0  |(58,[0,1,2,3,4,5,6,7,8,9,10,11,12,13,14,15,16,17,18,19,21,23,24,28,32,34,36,38,41,42,47,48,49,50,51,53,54],[5.0,2.0,11.0,3065.5,3181.11,26.0,24.5,8001.33,6394.27,8153.8,6701.98,2.0,139.0,44.0,6.0,1.86,13402.1,2949.22,1215.99,5250.16,215.0,96.0,438.5,153.92,15.0,153.92,1420.98,12788.54,1533.84,14209.52,4.0,13.0,0.935875183,1.38765E-4,0.015011472,0.037319216,0.179607109])                |[8.503857612609863,-8.503857612609863]  |0.0       |[0.9997973442077637,2.0264390332158655E-4]|\n",
      "|18 |0                   |1.0             |7             |3161.84       |3231.87       |22               |22.0             |7851.87        |7851.87        |7739.09      |7739.09      |1          |49       |22           |6                |0.0               |7739.09           |1503.58             |593.92              |1396.36             |0.0               |420.0             |0                 |0.0               |149.0             |0                 |0.0               |0.0               |416.2               |0.0                 |0.0                   |0                   |0.0             |0               |416.2                     |0.0               |872.42                      |0.0                 |7851.87                 |0.0                           |0.0                 |872.42            |8724.29         |0.0                 |0.0             |0.0             |0.0             |8                  |26               |0.887073905         |0.0               |0.048141453           |0.0                 |0.017078754         |0.0                 |0          |0          |0       |0  |(58,[1,2,3,4,5,6,7,8,9,10,11,12,13,14,16,17,18,19,21,24,28,34,36,38,41,42,47,48,49,51,53],[1.0,7.0,3161.84,3231.87,22.0,22.0,7851.87,7851.87,7739.09,7739.09,1.0,49.0,22.0,6.0,7739.09,1503.58,593.92,1396.36,420.0,149.0,416.2,416.2,872.42,7851.87,872.42,8724.29,8.0,26.0,0.887073905,0.048141453,0.017078754])                                                                                  |[2.2652595043182373,-2.2652595043182373]|0.0       |[0.9059586524963379,0.09404131770133972]  |\n",
      "|19 |0                   |1.0             |4             |2083.76       |2170.17       |20               |20.0             |10267.81       |10267.81       |10646.55     |10646.55     |1          |49       |20           |6                |7.3               |10639.25          |938.46              |827.5               |0.0                 |0.0               |30.0              |0                 |0.0               |269.0             |0                 |0.0               |0.0               |470.4               |0.0                 |0.0                   |0                   |0.0             |0               |470.4                     |0.0               |1140.84                     |0.0                 |10267.81                |0.0                           |183.33              |964.81            |11408.65        |0.0                 |0.0             |0.0             |0.0             |2                  |45               |0.932603069         |6.85668E-4        |0.002627902           |0.0                 |0.023563523         |0.0                 |0          |0          |1       |0  |(58,[1,2,3,4,5,6,7,8,9,10,11,12,13,14,15,16,17,18,21,24,28,34,36,38,40,41,42,47,48,49,50,51,53,57],[1.0,4.0,2083.76,2170.17,20.0,20.0,10267.81,10267.81,10646.55,10646.55,1.0,49.0,20.0,6.0,7.3,10639.25,938.46,827.5,30.0,269.0,470.4,470.4,1140.84,10267.81,183.33,964.81,11408.65,2.0,45.0,0.932603069,6.85668E-4,0.002627902,0.023563523,1.0])                                                  |[5.745256423950195,-5.745256423950195]  |0.0       |[0.9968122839927673,0.0031877204310148954]|\n",
      "|20 |0                   |1.666666667     |6             |2834.8        |2589.46       |13               |6.25             |6458.44        |3053.41        |5737.66      |2871.215     |4          |58       |25           |6                |48.14             |11436.72          |681.54              |2042.91             |5381.78             |10.0              |1334.0            |500               |0.0               |533.5             |0                 |0.0               |0.0               |266.5               |0.0                 |0.0                   |0                   |0.0             |0               |266.5                     |0.0               |1357.08                     |0.0                 |12213.64                |0.0                           |77.93               |1337.29           |13570.72        |0.0                 |0.0             |0.0             |0.0             |5                  |23               |0.842686769         |0.004191605       |0.098614264           |0.007440476         |0.039144873         |0.0                 |0          |0          |0       |0  |(58,[1,2,3,4,5,6,7,8,9,10,11,12,13,14,15,16,17,18,19,20,21,22,24,28,34,36,38,40,41,42,47,48,49,50,51,52,53],[1.666666667,6.0,2834.8,2589.46,13.0,6.25,6458.44,3053.41,5737.66,2871.215,4.0,58.0,25.0,6.0,48.14,11436.72,681.54,2042.91,5381.78,10.0,1334.0,500.0,533.5,266.5,266.5,1357.08,12213.64,77.93,1337.29,13570.72,5.0,23.0,0.842686769,0.004191605,0.098614264,0.007440476,0.039144873])   |[6.871744155883789,-6.871744155883789]  |0.0       |[0.9989644289016724,0.001035593799315393] |\n",
      "|21 |5                   |2.166666667     |11            |5102.02       |4520.28       |23               |12.66666667      |13569.67       |6136.23        |14808.03     |6335.146667  |3          |109      |32           |6                |22.13             |18914.96          |0.0                 |7679.91             |3887.46             |0.0               |0.0               |0                 |0.0               |1459.5            |0                 |0.0               |0.0               |82.68               |0.0                 |3.0                   |0                   |16.76           |0               |79.68                     |0.0               |2045.45                     |0.0                 |18408.69                |0.0                           |180.0               |1975.69           |20454.14        |0.0                 |0.0             |0.0             |0.0             |8                  |17               |0.92419222          |0.001164403       |0.0                   |0.0                 |0.070972235         |0.0                 |0          |0          |0       |0  |(58,[0,1,2,3,4,5,6,7,8,9,10,11,12,13,14,15,16,18,19,24,28,30,32,34,36,38,40,41,42,47,48,49,50,53],[5.0,2.166666667,11.0,5102.02,4520.28,23.0,12.66666667,13569.67,6136.23,14808.03,6335.146667,3.0,109.0,32.0,6.0,22.13,18914.96,7679.91,3887.46,1459.5,82.68,3.0,16.76,79.68,2045.45,18408.69,180.0,1975.69,20454.14,8.0,17.0,0.92419222,0.001164403,0.070972235])                                 |[4.791781425476074,-4.791781425476074]  |0.0       |[0.9917706251144409,0.008229377679526806] |\n",
      "|22 |0                   |2.5             |8             |2593.72       |2614.88       |11               |8.0              |4887.4         |2616.2475      |4828.3       |2711.605     |4          |73       |30           |6                |68.79             |10703.41          |0.0                 |2991.26             |0.0                 |0.0               |332.0             |0                 |0.0               |463.0             |0                 |0.0               |0.0               |129.36              |0.0                 |0.0                   |0                   |4.8             |0               |129.36                    |0.0               |1162.78                     |0.0                 |10464.99                |0.0                           |156.0               |1154.59           |11627.77        |0.0                 |0.0             |0.0             |0.0             |5                  |33               |0.921094333         |0.006342185       |0.02819394            |0.0                 |0.039318658         |0.0                 |0          |0          |0       |0  |(58,[1,2,3,4,5,6,7,8,9,10,11,12,13,14,15,16,18,21,24,28,32,34,36,38,40,41,42,47,48,49,50,51,53],[2.5,8.0,2593.72,2614.88,11.0,8.0,4887.4,2616.2475,4828.3,2711.605,4.0,73.0,30.0,6.0,68.79,10703.41,2991.26,332.0,463.0,129.36,4.8,129.36,1162.78,10464.99,156.0,1154.59,11627.77,5.0,33.0,0.921094333,0.006342185,0.02819394,0.039318658])                                                         |[6.617191791534424,-6.617191791534424]  |0.0       |[0.9986646175384521,0.0013353951508179307]|\n",
      "|23 |0                   |1.0             |3             |1868.91       |2094.48       |13               |13.0             |8973.51        |8973.51        |10037.07     |10037.07     |1          |30       |13           |6                |0.0               |9921.08           |0.0                 |4274.67             |1009.61             |0.0               |0.0               |0                 |0.0               |49.5              |0                 |0.0               |0.0               |0.0                 |0.0                 |0.0                   |0                   |0.0             |0               |0.0                       |0.0               |997.07                      |0.0                 |8973.51                 |0.0                           |210.0               |903.06            |9970.58         |0.0                 |0.0             |0.0             |0.0             |4                  |26               |0.995092484         |0.0               |0.0                   |0.0                 |0.004907516         |0.0                 |0          |0          |1       |0  |(58,[1,2,3,4,5,6,7,8,9,10,11,12,13,14,16,18,19,24,36,38,40,41,42,47,48,49,53,57],[1.0,3.0,1868.91,2094.48,13.0,13.0,8973.51,8973.51,10037.07,10037.07,1.0,30.0,13.0,6.0,9921.08,4274.67,1009.61,49.5,997.07,8973.51,210.0,903.06,9970.58,4.0,26.0,0.995092484,0.004907516,1.0])                                                                                                                     |[4.36775016784668,-4.36775016784668]    |0.0       |[0.987479031085968,0.012520972639322281]  |\n",
      "|24 |0                   |2.0             |10            |3454.32       |3585.76       |37               |22.5             |15006.42       |8486.2         |16033.9      |9104.46      |2          |99       |44           |6                |340.13            |17613.25          |3839.8              |3891.33             |2791.88             |0.0               |440.0             |0                 |0.0               |801.0             |0                 |0.0               |0.0               |4.0                 |0.0                 |0.0                   |0                   |0.0             |0               |4.0                       |0.0               |1885.85                     |0.0                 |16972.4                 |0.0                           |137.03              |2344.49           |18858.25        |0.0                 |0.0             |0.0             |0.0             |6                  |16               |0.936002615         |0.018679307       |0.02261755            |0.0                 |0.041174221         |0.0                 |0          |0          |1       |0  |(58,[1,2,3,4,5,6,7,8,9,10,11,12,13,14,15,16,17,18,19,21,24,28,34,36,38,40,41,42,47,48,49,50,51,53,57],[2.0,10.0,3454.32,3585.76,37.0,22.5,15006.42,8486.2,16033.9,9104.46,2.0,99.0,44.0,6.0,340.13,17613.25,3839.8,3891.33,2791.88,440.0,801.0,4.0,4.0,1885.85,16972.4,137.03,2344.49,18858.25,6.0,16.0,0.936002615,0.018679307,0.02261755,0.041174221,1.0])                                        |[6.5105414390563965,-6.5105414390563965]|0.0       |[0.9985145330429077,0.0014854641631245613]|\n",
      "|25 |0                   |1.833333333     |7             |2231.81       |2234.52       |14               |13.5             |5251.06        |4180.885       |5005.22      |4047.785     |2          |57       |27           |6                |0.0               |8023.45           |0.0                 |0.0                 |697.34              |0.0               |565.0             |0                 |0.0               |288.5             |0                 |0.0               |0.0               |413.9               |0.0                 |0.0                   |0                   |0.0             |0               |413.9                     |0.0               |929.08                      |0.0                 |8361.77                 |0.0                           |184.0               |817.2             |9290.85         |0.0                 |0.0             |0.0             |0.0             |5                  |30               |0.864636969         |0.0               |0.0603441             |0.0                 |0.030812872         |0.0                 |0          |0          |0       |0  |(58,[1,2,3,4,5,6,7,8,9,10,11,12,13,14,16,19,21,24,28,34,36,38,40,41,42,47,48,49,51,53],[1.833333333,7.0,2231.81,2234.52,14.0,13.5,5251.06,4180.885,5005.22,4047.785,2.0,57.0,27.0,6.0,8023.45,697.34,565.0,288.5,413.9,413.9,929.08,8361.77,184.0,817.2,9290.85,5.0,30.0,0.864636969,0.0603441,0.030812872])                                                                                        |[6.828700542449951,-6.828700542449951]  |0.0       |[0.998918890953064,0.0010810935636982322] |\n",
      "|26 |4                   |1.666666667     |5             |2390.29       |2531.2        |20               |13.0             |7168.4         |5343.485       |7254.8       |5568.165     |2          |53       |22           |6                |0.11              |11136.22          |0.0                 |2163.36             |3390.38             |0.0               |0.0               |0                 |0.0               |300.0             |0                 |0.0               |0.0               |438.24              |0.0                 |0.0                   |0                   |0.0             |0               |438.24                    |0.0               |1187.49                     |0.0                 |10686.97                |0.0                           |130.38              |1057.22           |11874.46        |0.0                 |0.0             |0.0             |0.0             |4                  |43               |0.93783017          |9.88E-6           |0.0                   |0.0                 |0.025264073         |0.0                 |0          |0          |0       |0  |(58,[0,1,2,3,4,5,6,7,8,9,10,11,12,13,14,15,16,18,19,24,28,34,36,38,40,41,42,47,48,49,50,53],[4.0,1.666666667,5.0,2390.29,2531.2,20.0,13.0,7168.4,5343.485,7254.8,5568.165,2.0,53.0,22.0,6.0,0.11,11136.22,2163.36,3390.38,300.0,438.24,438.24,1187.49,10686.97,130.38,1057.22,11874.46,4.0,43.0,0.93783017,9.88E-6,0.025264073])                                                                    |[7.161715984344482,-7.161715984344482]  |0.0       |[0.9992249011993408,7.751210359856486E-4] |\n",
      "|27 |6                   |4.166666667     |11            |10389.22      |9917.7        |14               |10.4             |17610.38       |8820.104       |17041.65     |8340.998     |5          |103      |46           |6                |0.12              |41167.51          |19819.25            |20616.89            |7411.92             |0.0               |0.0               |0                 |0.0               |1054.0            |0                 |0.0               |0.0               |0.0                 |0.0                 |0.0                   |0                   |5.6             |0               |0.0                       |0.0               |6170.37                     |0.0                 |36051.14                |0.0                           |215.18              |2473.58           |42221.51        |0.0                 |0.0             |4024.69         |0.0             |7                  |25               |0.975222491         |2.88E-6           |0.0                   |0.0                 |0.024646559         |0.0                 |1          |0          |0       |0  |(58,[0,1,2,3,4,5,6,7,8,9,10,11,12,13,14,15,16,17,18,19,24,32,36,38,40,41,42,45,47,48,49,50,53,55],[6.0,4.166666667,11.0,10389.22,9917.7,14.0,10.4,17610.38,8820.104,17041.65,8340.998,5.0,103.0,46.0,6.0,0.12,41167.51,19819.25,20616.89,7411.92,1054.0,5.6,6170.37,36051.14,215.18,2473.58,42221.51,4024.69,7.0,25.0,0.975222491,2.88E-6,0.024646559,1.0])                                         |[4.431380271911621,-4.431380271911621]  |0.0       |[0.9882418513298035,0.01175815612077713]  |\n",
      "|28 |0                   |1.5             |10            |3494.31       |3175.56       |34               |19.0             |10954.83       |5969.345       |10481.24     |5704.455     |2          |79       |37           |6                |0.0               |11408.91          |0.0                 |3408.34             |2608.7              |0.0               |1579.0            |0                 |0.0               |269.0             |0                 |0.0               |0.0               |8.3                 |0.0                 |0.0                   |0                   |0.0             |0               |8.3                       |0.0               |1326.52                     |0.0                 |11938.69                |0.0                           |166.23              |1160.29           |13265.21        |0.0                 |0.0             |0.0             |0.0             |5                  |14               |0.860062524         |0.0               |0.11903317            |0.0                 |0.020278608         |0.0                 |0          |0          |1       |0  |(58,[1,2,3,4,5,6,7,8,9,10,11,12,13,14,16,18,19,21,24,28,34,36,38,40,41,42,47,48,49,51,53,57],[1.5,10.0,3494.31,3175.56,34.0,19.0,10954.83,5969.345,10481.24,5704.455,2.0,79.0,37.0,6.0,11408.91,3408.34,2608.7,1579.0,269.0,8.3,8.3,1326.52,11938.69,166.23,1160.29,13265.21,5.0,14.0,0.860062524,0.11903317,0.020278608,1.0])                                                                      |[6.549318790435791,-6.549318790435791]  |0.0       |[0.99857097864151,0.001429044990800321]   |\n",
      "|29 |0                   |2.5             |11            |3357.06       |4108.66       |19               |12.0             |6469.2         |3916.03        |7775.06      |4534.165     |4          |95       |47           |6                |42.93             |17946.77          |1164.1              |4424.76             |6217.1              |0.0               |0.0               |0                 |0.0               |1054.0            |0                 |0.0               |0.0               |0.0                 |0.0                 |0.0                   |0                   |0.0             |0               |0.0                       |0.0               |3336.65                     |0.0                 |15664.12                |0.0                           |189.85              |3336.69           |19000.77        |0.0                 |0.0             |0.0             |0.0             |8                  |29               |0.945077449         |0.002367029       |0.0                   |0.0                 |0.054922551         |0.0                 |0          |0          |0       |0  |(58,[1,2,3,4,5,6,7,8,9,10,11,12,13,14,15,16,17,18,19,24,36,38,40,41,42,47,48,49,50,53],[2.5,11.0,3357.06,4108.66,19.0,12.0,6469.2,3916.03,7775.06,4534.165,4.0,95.0,47.0,6.0,42.93,17946.77,1164.1,4424.76,6217.1,1054.0,3336.65,15664.12,189.85,3336.69,19000.77,8.0,29.0,0.945077449,0.002367029,0.054922551])                                                                                    |[7.491680145263672,-7.491680145263672]  |0.0       |[0.9994425773620605,5.573942908085883E-4] |\n",
      "|30 |0                   |1.0             |2             |1751.3        |1822.74       |8                |8.0              |9424.96        |9424.96        |9864.86      |9864.86      |1          |32       |8            |6                |2.22              |9862.64           |0.0                 |4691.1              |175.32              |0.0               |335.0             |0                 |0.0               |274.5             |0                 |0.0               |0.0               |0.0                 |0.0                 |0.0                   |0                   |0.0             |0               |0.0                       |0.0               |1047.18                     |0.0                 |9424.96                 |0.0                           |196.0               |853.4             |10472.14        |0.0                 |0.0             |0.0             |0.0             |4                  |30               |0.941810287         |2.25041E-4        |0.031982861           |0.0                 |0.026206852         |0.0                 |0          |0          |0       |0  |(58,[1,2,3,4,5,6,7,8,9,10,11,12,13,14,15,16,18,19,21,24,36,38,40,41,42,47,48,49,50,51,53],[1.0,2.0,1751.3,1822.74,8.0,8.0,9424.96,9424.96,9864.86,9864.86,1.0,32.0,8.0,6.0,2.22,9862.64,4691.1,175.32,335.0,274.5,1047.18,9424.96,196.0,853.4,10472.14,4.0,30.0,0.941810287,2.25041E-4,0.031982861,0.026206852])                                                                                    |[3.915924310684204,-3.915924310684204]  |0.0       |[0.9804670214653015,0.019532987847924232] |\n",
      "|31 |0                   |1.0             |6             |2794.18       |2856.53       |27               |27.0             |13844.21       |13844.21       |14369.98     |14369.98     |1          |83       |27           |6                |0.0               |14369.98          |0.0                 |1019.58             |6736.59             |0.0               |322.0             |0                 |0.0               |685.0             |0                 |0.0               |0.0               |25.1                |0.0                 |19.6                  |0                   |0.0             |0               |5.5                       |0.0               |1538.27                     |0.0                 |13844.21                |0.0                           |112.14              |1445.73           |15382.48        |0.0                 |0.0             |0.0             |0.0             |3                  |35               |0.93298957          |0.0               |0.020906267           |0.0                 |0.044474513         |0.0                 |0          |0          |0       |0  |(58,[1,2,3,4,5,6,7,8,9,10,11,12,13,14,16,18,19,21,24,28,30,34,36,38,40,41,42,47,48,49,51,53],[1.0,6.0,2794.18,2856.53,27.0,27.0,13844.21,13844.21,14369.98,14369.98,1.0,83.0,27.0,6.0,14369.98,1019.58,6736.59,322.0,685.0,25.1,19.6,5.5,1538.27,13844.21,112.14,1445.73,15382.48,3.0,35.0,0.93298957,0.020906267,0.044474513])                                                                     |[10.681386947631836,-10.681386947631836]|0.0       |[0.9999770522117615,2.2967969925957732E-5]|\n",
      "|32 |0                   |1.333333333     |4             |2851.69       |3066.26       |10               |8.0              |8581.34        |6619.955       |9765.65      |7069.32      |2          |38       |16           |6                |0.0               |13553.44          |12086.52            |8176.8              |0.0                 |0.0               |1042.5            |0                 |0.0               |110.0             |0                 |0.0               |0.0               |23.4                |0.0                 |18.3                  |0                   |0.0             |0               |5.1                       |0.0               |1471.13                     |0.0                 |13239.91                |0.0                           |120.75              |1986.38           |14711.04        |0.0                 |0.0             |0.0             |0.0             |2                  |14               |0.92126169          |0.0               |0.070046081           |0.0                 |0.007167506         |0.0                 |0          |0          |0       |0  |(58,[1,2,3,4,5,6,7,8,9,10,11,12,13,14,16,17,18,21,24,28,30,34,36,38,40,41,42,47,48,49,51,53],[1.333333333,4.0,2851.69,3066.26,10.0,8.0,8581.34,6619.955,9765.65,7069.32,2.0,38.0,16.0,6.0,13553.44,12086.52,8176.8,1042.5,110.0,23.4,18.3,5.1,1471.13,13239.91,120.75,1986.38,14711.04,2.0,14.0,0.92126169,0.070046081,0.007167506])                                                                |[9.571429252624512,-9.571429252624512]  |0.0       |[0.9999303221702576,6.968684465391561E-5] |\n",
      "|33 |0                   |1.833333333     |5             |2419.71       |2503.16       |13               |7.0              |8898.0         |3464.773333    |9214.24      |3565.773333  |3          |50       |21           |6                |10.5              |10686.82          |0.0                 |2416.3              |0.0                 |0.0               |93.0              |0                 |0.0               |299.0             |0                 |0.0               |0.0               |472.8               |0.0                 |2.4                   |0                   |0.0             |0               |470.4                     |0.0               |1154.9                      |0.0                 |10394.32                |0.0                           |190.76              |977.04            |11549.22        |0.0                 |0.0             |0.0             |0.0             |3                  |62               |0.925204028         |9.81554E-4        |0.008043508           |0.0                 |0.025860309         |0.0                 |0          |0          |1       |0  |(58,[1,2,3,4,5,6,7,8,9,10,11,12,13,14,15,16,18,21,24,28,30,34,36,38,40,41,42,47,48,49,50,51,53,57],[1.833333333,5.0,2419.71,2503.16,13.0,7.0,8898.0,3464.773333,9214.24,3565.773333,3.0,50.0,21.0,6.0,10.5,10686.82,2416.3,93.0,299.0,472.8,2.4,470.4,1154.9,10394.32,190.76,977.04,11549.22,3.0,62.0,0.925204028,9.81554E-4,0.008043508,0.025860309,1.0])                                          |[6.483684062957764,-6.483684062957764]  |0.0       |[0.9984741806983948,0.0015258387429639697]|\n",
      "|34 |0                   |1.0             |5             |2434.84       |2581.21       |27               |27.0             |12923.79       |12923.79       |13461.17     |13461.17     |1          |83       |27           |6                |4.59              |13386.08          |2566.14             |2475.65             |0.0                 |0.0               |288.0             |0                 |0.0               |364.5             |0                 |0.0               |0.0               |335.6               |0.0                 |14.4                  |0                   |0.0             |0               |321.2                     |0.0               |1435.99                     |0.0                 |12923.79                |0.0                           |180.0               |1345.48           |14359.78        |0.0                 |0.0             |0.0             |0.0             |5                  |45               |0.931615922         |3.40981E-4        |0.019931803           |0.0                 |0.025226188         |0.0                 |0          |0          |0       |0  |(58,[1,2,3,4,5,6,7,8,9,10,11,12,13,14,15,16,17,18,21,24,28,30,34,36,38,40,41,42,47,48,49,50,51,53],[1.0,5.0,2434.84,2581.21,27.0,27.0,12923.79,12923.79,13461.17,13461.17,1.0,83.0,27.0,6.0,4.59,13386.08,2566.14,2475.65,288.0,364.5,335.6,14.4,321.2,1435.99,12923.79,180.0,1345.48,14359.78,5.0,45.0,0.931615922,3.40981E-4,0.019931803,0.025226188])                                            |[9.71459674835205,-9.71459674835205]    |0.0       |[0.9999396204948425,6.039180880179629E-5] |\n",
      "|35 |0                   |2.0             |5             |7141.7        |6683.37       |14               |13.5             |20842.79       |18336.995      |23741.8      |17390.57     |2          |55       |26           |6                |0.0               |34388.66          |17831.52            |14589.9             |11039.34            |0.0               |0.0               |0                 |0.0               |6860.5            |0                 |0.0               |0.0               |0.0                 |0.0                 |0.0                   |0                   |0.0             |0               |0.0                       |0.0               |4575.17                     |0.0                 |36673.99                |0.0                           |208.0               |4759.65           |41249.16        |0.0                 |0.0             |0.0             |0.0             |3                  |6                |0.835249044         |0.0               |0.0                   |0.0                 |0.164750956         |0.0                 |0          |0          |0       |0  |(58,[1,2,3,4,5,6,7,8,9,10,11,12,13,14,16,17,18,19,24,36,38,40,41,42,47,48,49,53],[2.0,5.0,7141.7,6683.37,14.0,13.5,20842.79,18336.995,23741.8,17390.57,2.0,55.0,26.0,6.0,34388.66,17831.52,14589.9,11039.34,6860.5,4575.17,36673.99,208.0,4759.65,41249.16,3.0,6.0,0.835249044,0.164750956])                                                                                                        |[8.836627960205078,-8.836627960205078]  |0.0       |[0.9998546838760376,1.4529080362990499E-4]|\n",
      "|36 |0                   |2.333333333     |13            |3044.2        |3369.28       |40               |21.33333333      |7633.88        |5164.353333    |8435.08      |5705.073333  |3          |128      |64           |6                |0.0               |17003.1           |1621.62             |1947.54             |8166.79             |0.0               |0.0               |0                 |0.0               |211.5             |0                 |0.0               |0.0               |0.0                 |0.0                 |0.0                   |0                   |0.0             |0               |0.0                       |0.0               |1721.54                     |0.0                 |15493.06                |0.0                           |133.29              |1700.37           |17214.6         |0.0                 |0.0             |0.0             |0.0             |10                 |30               |0.98779342          |0.0               |0.0                   |0.0                 |0.01220658          |0.0                 |0          |0          |0       |0  |(58,[1,2,3,4,5,6,7,8,9,10,11,12,13,14,16,17,18,19,24,36,38,40,41,42,47,48,49,53],[2.333333333,13.0,3044.2,3369.28,40.0,21.33333333,7633.88,5164.353333,8435.08,5705.073333,3.0,128.0,64.0,6.0,17003.1,1621.62,1947.54,8166.79,211.5,1721.54,15493.06,133.29,1700.37,17214.6,10.0,30.0,0.98779342,0.01220658])                                                                                       |[8.317408561706543,-8.317408561706543]  |0.0       |[0.999755859375,2.441683318465948E-4]     |\n",
      "|37 |0                   |2.333333333     |8             |3604.01       |3573.26       |19               |12.33333333      |9710.02        |4801.96        |9636.02      |4978.123333  |3          |76       |36           |6                |85.48             |14805.47          |1984.61             |4909.9              |0.0                 |0.0               |225.0             |0                 |0.0               |326.5             |0                 |0.0               |0.0               |649.6               |0.0                 |0.0                   |0                   |2.4             |0               |649.6                     |0.0               |1600.69                     |0.0                 |14405.88                |0.0                           |210.0               |1521.99           |16006.57        |0.0                 |0.0             |0.0             |0.0             |5                  |31               |0.925423863         |0.00572371        |0.01394236            |0.0                 |0.020231914         |0.0                 |0          |0          |0       |0  |(58,[1,2,3,4,5,6,7,8,9,10,11,12,13,14,15,16,17,18,21,24,28,32,34,36,38,40,41,42,47,48,49,50,51,53],[2.333333333,8.0,3604.01,3573.26,19.0,12.33333333,9710.02,4801.96,9636.02,4978.123333,3.0,76.0,36.0,6.0,85.48,14805.47,1984.61,4909.9,225.0,326.5,649.6,2.4,649.6,1600.69,14405.88,210.0,1521.99,16006.57,5.0,31.0,0.925423863,0.00572371,0.01394236,0.020231914])                               |[7.882797718048096,-7.882797718048096]  |0.0       |[0.9996229410171509,3.7703412817791104E-4]|\n",
      "|38 |9                   |2.166666667     |12            |4295.97       |4678.98       |25               |17.0             |10388.79       |6249.69        |11094.01     |6341.346667  |3          |124      |42           |6                |0.9               |18818.96          |1164.1              |7604.44             |0.0                 |0.0               |308.0             |0                 |0.0               |1264.0            |0                 |0.0               |0.0               |447.72              |0.0                 |6.4                   |0                   |0.0             |0               |441.32                    |0.0               |2083.21                     |0.0                 |18749.07                |0.0                           |121.87              |2172.82           |20832.28        |0.0                 |0.0             |0.0             |0.0             |10                 |22               |0.904022855         |4.73E-5           |0.014636168           |0.0                 |0.060065312         |0.0                 |0          |0          |0       |0  |(58,[0,1,2,3,4,5,6,7,8,9,10,11,12,13,14,15,16,17,18,21,24,28,30,34,36,38,40,41,42,47,48,49,50,51,53],[9.0,2.166666667,12.0,4295.97,4678.98,25.0,17.0,10388.79,6249.69,11094.01,6341.346667,3.0,124.0,42.0,6.0,0.9,18818.96,1164.1,7604.44,308.0,1264.0,447.72,6.4,441.32,2083.21,18749.07,121.87,2172.82,20832.28,10.0,22.0,0.904022855,4.73E-5,0.014636168,0.060065312])                           |[5.894479751586914,-5.894479751586914]  |0.0       |[0.9972529411315918,0.00274704210460186]  |\n",
      "|39 |0                   |1.166666667     |4             |2162.04       |2058.22       |17               |9.5              |11082.0        |5732.06        |11289.77     |5744.725     |2          |91       |19           |6                |26.32             |11463.13          |0.0                 |0.0                 |6685.91             |0.0               |670.0             |0                 |0.0               |120.0             |0                 |0.0               |0.0               |484.78              |0.0                 |0.0                   |0                   |0.0             |0               |484.78                    |0.0               |1273.79                     |0.0                 |11464.12                |0.0                           |141.85              |1158.26           |12737.91        |0.0                 |0.0             |0.0             |0.0             |3                  |26               |0.900128719         |0.002290797       |0.052490436           |0.0                 |0.009401272         |0.0                 |0          |0          |0       |0  |(58,[1,2,3,4,5,6,7,8,9,10,11,12,13,14,15,16,19,21,24,28,34,36,38,40,41,42,47,48,49,50,51,53],[1.166666667,4.0,2162.04,2058.22,17.0,9.5,11082.0,5732.06,11289.77,5744.725,2.0,91.0,19.0,6.0,26.32,11463.13,6685.91,670.0,120.0,484.78,484.78,1273.79,11464.12,141.85,1158.26,12737.91,3.0,26.0,0.900128719,0.002290797,0.052490436,0.009401272])                                                     |[9.52168083190918,-9.52168083190918]    |0.0       |[0.999926745891571,7.324107718886808E-5]  |\n",
      "|40 |0                   |1.0             |3             |4120.58       |3822.02       |13               |13.0             |21407.25       |21407.25       |19836.5      |19836.5      |1          |74       |13           |6                |2.27              |19596.03          |0.0                 |8814.08             |551.73              |10.0              |528.0             |0                 |0.0               |583.0             |0                 |0.0               |0.0               |0.2                 |0.0                 |0.0                   |0                   |0.0             |0               |0.2                       |0.0               |2070.74                     |0.0                 |18636.49                |0.0                           |186.75              |749.08            |20707.23        |0.0                 |0.0             |1385.38         |0.0             |3                  |25               |0.946501763         |1.14436E-4        |0.025670756           |0.018587361         |0.027817938         |0.0                 |1          |0          |1       |0  |[0.0,1.0,3.0,4120.58,3822.02,13.0,13.0,21407.25,21407.25,19836.5,19836.5,1.0,74.0,13.0,6.0,2.27,19596.03,0.0,8814.08,551.73,10.0,528.0,0.0,0.0,583.0,0.0,0.0,0.0,0.2,0.0,0.0,0.0,0.0,0.0,0.2,0.0,2070.74,0.0,18636.49,0.0,186.75,749.08,20707.23,0.0,0.0,1385.38,0.0,3.0,25.0,0.946501763,1.14436E-4,0.025670756,0.018587361,0.027817938,0.0,1.0,0.0,1.0]                                           |[8.7988862991333,-8.7988862991333]      |0.0       |[0.9998491406440735,1.5087827341631055E-4]|\n",
      "|41 |0                   |1.0             |3             |2354.74       |2572.66       |8                |8.0              |6991.16        |6991.16        |7623.82      |7623.82      |1          |25       |8            |4                |0.0               |7553.98           |2389.22             |1967.06             |0.0                 |0.0               |90.0              |0                 |0.0               |109.0             |0                 |0.0               |0.0               |15.0                |0.0                 |0.0                   |0                   |0.0             |0               |15.0                      |0.0               |776.82                      |0.0                 |6991.16                 |0.0                           |0.0                 |846.66            |7767.98         |0.0                 |0.0             |0.0             |0.0             |3                  |36               |0.97269649          |0.0               |0.011482785           |0.0                 |0.013906928         |0.0                 |0          |0          |1       |0  |(58,[1,2,3,4,5,6,7,8,9,10,11,12,13,14,16,17,18,21,24,28,34,36,38,41,42,47,48,49,51,53,57],[1.0,3.0,2354.74,2572.66,8.0,8.0,6991.16,6991.16,7623.82,7623.82,1.0,25.0,8.0,4.0,7553.98,2389.22,1967.06,90.0,109.0,15.0,15.0,776.82,6991.16,846.66,7767.98,3.0,36.0,0.97269649,0.011482785,0.013906928,1.0])                                                                                            |[3.449739933013916,-3.449739933013916]  |0.0       |[0.9692233800888062,0.0307766143232584]   |\n",
      "|42 |0                   |3.0             |7             |4384.93       |3110.61       |9                |6.25             |5828.94        |3281.46        |5091.77      |2734.465     |4          |65       |24           |4                |2.79              |10859.57          |0.0                 |2564.4              |0.0                 |0.0               |174.0             |0                 |0.0               |1236.5            |0                 |0.0               |0.0               |509.6               |0.0                 |0.0                   |0                   |0.0             |0               |509.6                     |0.0               |1277.95                     |0.0                 |11501.72                |0.0                           |93.85               |450.33            |12779.67        |0.0                 |0.0             |812.06          |0.0             |5                  |48               |0.85066838          |2.55077E-4        |0.013532473           |0.0                 |0.09616611          |0.0                 |1          |0          |0       |0  |(58,[1,2,3,4,5,6,7,8,9,10,11,12,13,14,15,16,18,21,24,28,34,36,38,40,41,42,45,47,48,49,50,51,53,55],[3.0,7.0,4384.93,3110.61,9.0,6.25,5828.94,3281.46,5091.77,2734.465,4.0,65.0,24.0,4.0,2.79,10859.57,2564.4,174.0,1236.5,509.6,509.6,1277.95,11501.72,93.85,450.33,12779.67,812.06,5.0,48.0,0.85066838,2.55077E-4,0.013532473,0.09616611,1.0])                                                     |[3.127009630203247,-3.127009630203247]  |0.0       |[0.95799320936203,0.042006783187389374]   |\n",
      "|43 |0                   |1.0             |11            |2702.41       |3168.27       |59               |59.0             |13718.84       |13718.84       |15639.19     |15639.19     |1          |121      |59           |6                |1147.19           |14492.0           |2760.03             |4786.4              |0.0                 |0.0               |0.0               |0                 |29.0              |174.0             |0                 |0.0               |0.0               |577.2               |0.0                 |0.0                   |0                   |0.0             |0               |0.0                       |0.0               |1524.36                     |0.0                 |13718.84                |0.0                           |154.07              |2546.48           |15243.2         |0.0                 |0.0             |0.0             |0.0             |7                  |36               |0.952483009         |0.073353543       |0.0                   |0.0                 |0.012363431         |0.142857143         |0          |0          |0       |0  |(58,[1,2,3,4,5,6,7,8,9,10,11,12,13,14,15,16,17,18,23,24,28,36,38,40,41,42,47,48,49,50,53,54],[1.0,11.0,2702.41,3168.27,59.0,59.0,13718.84,13718.84,15639.19,15639.19,1.0,121.0,59.0,6.0,1147.19,14492.0,2760.03,4786.4,29.0,174.0,577.2,1524.36,13718.84,154.07,2546.48,15243.2,7.0,36.0,0.952483009,0.073353543,0.012363431,0.142857143])                                                          |[6.710114479064941,-6.710114479064941]  |0.0       |[0.9987829327583313,0.0012170416302978992]|\n",
      "|44 |4                   |2.0             |16            |4522.22       |5100.63       |54               |34.0             |17980.15       |10835.655      |19765.7      |11986.63     |2          |143      |64           |6                |322.47            |23481.51          |4225.26             |3133.21             |6602.98             |0.0               |295.0             |0                 |0.0               |1127.0            |0                 |0.0               |0.0               |263.5               |0.0                 |0.0                   |0                   |0.0             |0               |263.5                     |0.0               |3495.7                      |0.0                 |21671.31                |0.0                           |202.42              |3785.03           |25167.01        |0.0                 |0.0             |0.0             |0.0             |11                 |26               |0.934310933         |0.013451237       |0.011497048           |0.0                 |0.043922621         |0.0                 |0          |0          |0       |0  |(58,[0,1,2,3,4,5,6,7,8,9,10,11,12,13,14,15,16,17,18,19,21,24,28,34,36,38,40,41,42,47,48,49,50,51,53],[4.0,2.0,16.0,4522.22,5100.63,54.0,34.0,17980.15,10835.655,19765.7,11986.63,2.0,143.0,64.0,6.0,322.47,23481.51,4225.26,3133.21,6602.98,295.0,1127.0,263.5,263.5,3495.7,21671.31,202.42,3785.03,25167.01,11.0,26.0,0.934310933,0.013451237,0.011497048,0.043922621])                            |[6.599507808685303,-6.599507808685303]  |0.0       |[0.9986408352851868,0.001359187881462276] |\n",
      "|45 |0                   |1.666666667     |4             |4571.09       |3783.8        |11               |8.5              |6792.62        |6792.1         |7456.2       |6888.6       |2          |40       |17           |6                |0.0               |13676.33          |4303.6              |11759.8             |0.0                 |232.0             |1284.1            |706               |0.0               |131.5             |0                 |0.0               |0.0               |10.15               |0.0                 |8.55                  |0                   |0.0             |0               |1.6                       |0.0               |1509.33                     |0.0                 |13584.2                 |0.0                           |230.0               |1687.65           |15093.53        |0.0                 |0.0             |0.0             |0.0             |3                  |8                |0.888745537         |0.0               |0.102116844           |0.14655717          |0.008482858         |0.0                 |0          |0          |0       |0  |(58,[1,2,3,4,5,6,7,8,9,10,11,12,13,14,16,17,18,20,21,22,24,28,30,34,36,38,40,41,42,47,48,49,51,52,53],[1.666666667,4.0,4571.09,3783.8,11.0,8.5,6792.62,6792.1,7456.2,6888.6,2.0,40.0,17.0,6.0,13676.33,4303.6,11759.8,232.0,1284.1,706.0,131.5,10.15,8.55,1.6,1509.33,13584.2,230.0,1687.65,15093.53,3.0,8.0,0.888745537,0.102116844,0.14655717,0.008482858])                                       |[8.318655014038086,-8.318655014038086]  |0.0       |[0.9997561573982239,2.438642259221524E-4] |\n",
      "|46 |0                   |1.666666667     |7             |2192.25       |2374.42       |25               |15.0             |10110.47       |5598.395       |9918.45      |5411.32      |2          |75       |30           |6                |295.25            |10483.02          |0.0                 |2190.82             |689.64              |0.0               |616.0             |0                 |0.0               |707.5             |0                 |0.0               |0.0               |641.36              |0.0                 |7.0                   |0                   |0.0             |0               |261.2                     |0.0               |1244.09                     |0.0                 |11196.79                |0.0                           |196.0               |1394.71           |12440.88        |0.0                 |0.0             |0.0             |0.0             |6                  |27               |0.846345259         |0.027280774       |0.048172043           |0.0                 |0.055327468         |0.0                 |0          |0          |0       |0  |(58,[1,2,3,4,5,6,7,8,9,10,11,12,13,14,15,16,18,19,21,24,28,30,34,36,38,40,41,42,47,48,49,50,51,53],[1.666666667,7.0,2192.25,2374.42,25.0,15.0,10110.47,5598.395,9918.45,5411.32,2.0,75.0,30.0,6.0,295.25,10483.02,2190.82,689.64,616.0,707.5,641.36,7.0,261.2,1244.09,11196.79,196.0,1394.71,12440.88,6.0,27.0,0.846345259,0.027280774,0.048172043,0.055327468])                                    |[9.663532257080078,-9.663532257080078]  |0.0       |[0.9999364614486694,6.35555770713836E-5]  |\n",
      "|47 |0                   |2.666666667     |7             |2924.55       |3105.2        |18               |8.25             |4826.07        |2865.225       |5433.36      |3043.07      |4          |73       |33           |6                |157.05            |12015.23          |2750.76             |3297.23             |1397.2              |0.0               |15.0              |0                 |0.0               |194.5             |0                 |0.0               |0.0               |509.6               |0.0                 |0.0                   |0                   |10.2            |0               |509.6                     |0.0               |1273.43                     |0.0                 |11460.9                 |0.0                           |173.26              |1267.42           |12734.33        |0.0                 |0.0             |0.0             |0.0             |5                  |19               |0.94347204          |0.012902266       |0.001162648           |0.0                 |0.015075673         |0.0                 |0          |0          |1       |0  |(58,[1,2,3,4,5,6,7,8,9,10,11,12,13,14,15,16,17,18,19,21,24,28,32,34,36,38,40,41,42,47,48,49,50,51,53,57],[2.666666667,7.0,2924.55,3105.2,18.0,8.25,4826.07,2865.225,5433.36,3043.07,4.0,73.0,33.0,6.0,157.05,12015.23,2750.76,3297.23,1397.2,15.0,194.5,509.6,10.2,509.6,1273.43,11460.9,173.26,1267.42,12734.33,5.0,19.0,0.94347204,0.012902266,0.001162648,0.015075673,1.0])                      |[8.129846572875977,-8.129846572875977]  |0.0       |[0.9997054934501648,2.945266314782202E-4] |\n",
      "|48 |0                   |1.5             |7             |4557.95       |3533.16       |9                |7.0              |10091.42       |5951.36        |11164.67     |4743.52      |3          |67       |21           |6                |0.0               |14230.56          |6694.51             |6223.4              |5997.15             |0.0               |3341.4            |1504              |0.0               |1916.5            |0                 |0.0               |0.0               |470.76              |0.0                 |121.36                |0                   |0.0             |0               |349.4                     |0.0               |1983.78                     |0.0                 |17854.08                |0.0                           |80.0                |2215.74           |19837.86        |0.0                 |0.0             |0.0             |0.0             |1                  |2                |0.706237574         |0.0               |0.175286926           |0.0                 |0.095112512         |0.0                 |0          |0          |1       |0  |(58,[1,2,3,4,5,6,7,8,9,10,11,12,13,14,16,17,18,19,21,22,24,28,30,34,36,38,40,41,42,47,48,49,51,53,57],[1.5,7.0,4557.95,3533.16,9.0,7.0,10091.42,5951.36,11164.67,4743.52,3.0,67.0,21.0,6.0,14230.56,6694.51,6223.4,5997.15,3341.4,1504.0,1916.5,470.76,121.36,349.4,1983.78,17854.08,80.0,2215.74,19837.86,1.0,2.0,0.706237574,0.175286926,0.095112512,1.0])                                        |[7.448728561401367,-7.448728561401367]  |0.0       |[0.9994181394577026,5.818426143378019E-4] |\n",
      "|49 |0                   |1.5             |6             |5292.44       |6537.55       |23               |14.0             |21552.23       |11319.255      |25478.66     |13363.37     |2          |56       |27           |6                |3.08              |26723.66          |0.0                 |18873.7             |7290.81             |0.0               |0.0               |0                 |0.0               |360.0             |0                 |0.0               |0.0               |0.0                 |0.0                 |0.0                   |0                   |0.0             |0               |0.0                       |0.0               |4445.15                     |0.0                 |22638.51                |0.0                           |144.0               |4304.23           |27083.66        |0.0                 |0.0             |0.0             |0.0             |6                  |44               |0.986709364         |1.1524E-4         |0.0                   |0.0                 |0.013290636         |0.0                 |0          |0          |0       |0  |(58,[1,2,3,4,5,6,7,8,9,10,11,12,13,14,15,16,18,19,24,36,38,40,41,42,47,48,49,50,53],[1.5,6.0,5292.44,6537.55,23.0,14.0,21552.23,11319.255,25478.66,13363.37,2.0,56.0,27.0,6.0,3.08,26723.66,18873.7,7290.81,360.0,4445.15,22638.51,144.0,4304.23,27083.66,6.0,44.0,0.986709364,1.1524E-4,0.013290636])                                                                                              |[8.57490348815918,-8.57490348815918]    |0.0       |[0.9998112320899963,1.8874905072152615E-4]|\n",
      "|50 |0                   |1.166666667     |6             |3896.91       |4066.51       |25               |13.0             |13407.42       |6721.26        |14143.61     |7071.805     |2          |66       |26           |6                |415.39            |13642.7           |0.0                 |2615.01             |4112.28             |0.0               |1202.0            |0                 |0.0               |91.5              |0                 |0.0               |0.0               |1.51                |0.0                 |1.51                  |0                   |0.0             |0               |0.0                       |0.0               |1493.68                     |0.0                 |13442.52                |0.0                           |128.5               |1867.6            |14936.2         |0.0                 |0.0             |0.0             |0.0             |5                  |54               |0.916118798         |0.029369447       |0.0778567             |0.0                 |0.005926696         |0.0                 |0          |0          |0       |0  |(58,[1,2,3,4,5,6,7,8,9,10,11,12,13,14,15,16,18,19,21,24,28,30,36,38,40,41,42,47,48,49,50,51,53],[1.166666667,6.0,3896.91,4066.51,25.0,13.0,13407.42,6721.26,14143.61,7071.805,2.0,66.0,26.0,6.0,415.39,13642.7,2615.01,4112.28,1202.0,91.5,1.51,1.51,1493.68,13442.52,128.5,1867.6,14936.2,5.0,54.0,0.916118798,0.029369447,0.0778567,0.005926696])                                                 |[9.028742790222168,-9.028742790222168]  |0.0       |[0.9998800754547119,1.1989878112217411E-4]|\n",
      "+---+--------------------+----------------+--------------+--------------+--------------+-----------------+-----------------+---------------+---------------+-------------+-------------+-----------+---------+-------------+-----------------+------------------+------------------+--------------------+--------------------+--------------------+------------------+------------------+------------------+------------------+------------------+------------------+------------------+------------------+--------------------+--------------------+----------------------+--------------------+----------------+----------------+--------------------------+------------------+----------------------------+--------------------+------------------------+------------------------------+--------------------+------------------+----------------+--------------------+----------------+----------------+----------------+-------------------+-----------------+--------------------+------------------+----------------------+--------------------+--------------------+--------------------+-----------+-----------+--------+---+----------------------------------------------------------------------------------------------------------------------------------------------------------------------------------------------------------------------------------------------------------------------------------------------------------------------------------------------------------------------------------------------------+----------------------------------------+----------+------------------------------------------+\n",
      "only showing top 50 rows\n",
      "\n"
     ]
    },
    {
     "name": "stderr",
     "output_type": "stream",
     "text": [
      "                                                                                \r"
     ]
    }
   ],
   "source": [
    "pre_df = model.transform(df_input)\n",
    "pre_df.show(50,False)"
   ],
   "metadata": {
    "collapsed": false,
    "ExecuteTime": {
     "start_time": "2024-01-23T18:05:48.999441Z",
     "end_time": "2024-01-23T18:05:50.318197Z"
    }
   }
  },
  {
   "cell_type": "code",
   "execution_count": 24,
   "outputs": [
    {
     "data": {
      "text/plain": "{'一天去两家医院的天数': 1.8250893354415894,\n '月就诊医院数_AVG': 1.4884222745895386,\n '月就诊次数_MAX': 9.308785438537598,\n '月统筹金额_MAX': 14.847107887268066,\n '月药品金额_MAX': 4.374019145965576,\n '医院_就诊天数_MAX': 2.177415132522583,\n '医院_就诊天数_AVG': 2.0453271865844727,\n '医院_统筹金_MAX': 2.0454723834991455,\n '医院_统筹金_AVG': 2.212063789367676,\n '医院_药品_MAX': 2.506988048553467,\n '医院_药品_AVG': 2.5995306968688965,\n '医院编码_NN': 0.6683475971221924,\n '顺序号_NN': 2.8423593044281006,\n '交易时间DD_NN': 3.8251492977142334,\n '交易时间YYYYMM_NN': 4.3345208168029785,\n '药品费自费金额_SUM': 2.2568447589874268,\n '药品费申报金额_SUM': 3.085120916366577,\n '贵重药品发生金额_SUM': 1.6935410499572754,\n '中成药费发生金额_SUM': 1.9440511465072632,\n '中草药费发生金额_SUM': 3.186933994293213,\n '检查费自费金额_SUM': 1.1030237674713135,\n '检查费申报金额_SUM': 2.1851398944854736,\n '贵重检查费金额_SUM': 1.6448674201965332,\n '治疗费自费金额_SUM': 1.5896481275558472,\n '治疗费申报金额_SUM': 2.032252311706543,\n '手术费申报金额_SUM': 1.2824745178222656,\n '床位费申报金额_SUM': 1.9254103899002075,\n '医用材料发生金额_SUM': 2.0970914363861084,\n '医用材料费自费金额_SUM': 1.2122628688812256,\n '其它发生金额_SUM': 1.5143953561782837,\n '一次性医用材料申报金额_SUM': 2.155592918395996,\n '起付标准以上自负比例金额_SUM': 2.723719835281372,\n '基本统筹基金支付金额_SUM': 7.815752983093262,\n '公务员医疗补助基金支付金额_SUM': 0.5786173343658447,\n '基本个人账户支付_SUM': 1.5184422731399536,\n '非账户支付金额_SUM': 2.3991968631744385,\n '本次审批金额_SUM': 5.600925445556641,\n '医疗救助医院申请_SUM': 3.7165591716766357,\n '民政救助补助_SUM': 2.7991390228271484,\n '出院诊断病种名称_NN': 1.8356883525848389,\n '出院诊断LENTH_MAX': 1.9169492721557617,\n '药品在总金额中的占比': 2.1235523223876953,\n '个人支付的药品占比': 1.6496351957321167,\n '检查总费用在总金额占比': 2.349065065383911,\n '个人支付检查费用占比': 2.686194896697998,\n '治疗费用在总金额占比': 1.7449133396148682,\n '个人支付治疗费用占比': 2.375084400177002,\n '是否挂号': 1.318776249885559}"
     },
     "execution_count": 24,
     "metadata": {},
     "output_type": "execute_result"
    }
   ],
   "source": [
    "model.get_feature_importances(importance_type=\"gain\")"
   ],
   "metadata": {
    "collapsed": false,
    "ExecuteTime": {
     "start_time": "2024-01-23T18:05:50.314818Z",
     "end_time": "2024-01-23T18:05:50.318197Z"
    }
   }
  },
  {
   "cell_type": "code",
   "execution_count": 58,
   "outputs": [],
   "source": [
    "features_importance = model.get_feature_importances(importance_type=\"total_gain\")\n",
    "features_importance = sorted(\n",
    "    features_importance.items(),\n",
    "    key=lambda x:x[1],\n",
    "    reverse=True\n",
    ")\n",
    "features_importance = dict(features_importance)"
   ],
   "metadata": {
    "collapsed": false,
    "ExecuteTime": {
     "start_time": "2024-01-23T21:27:41.283645Z",
     "end_time": "2024-01-23T21:27:41.468688Z"
    }
   }
  },
  {
   "cell_type": "code",
   "execution_count": 59,
   "outputs": [
    {
     "data": {
      "text/plain": "{'月统筹金额_MAX': 2761.56201171875,\n '月就诊次数_MAX': 781.93798828125,\n '基本统筹基金支付金额_SUM': 703.4177856445312,\n '月药品金额_MAX': 511.7602233886719,\n '本次审批金额_SUM': 414.4684753417969,\n '交易时间DD_NN': 390.16522216796875,\n '中草药费发生金额_SUM': 318.6933898925781,\n '顺序号_NN': 289.920654296875,\n '非账户支付金额_SUM': 271.1092529296875,\n '中成药费发生金额_SUM': 239.1182861328125,\n '药品在总金额中的占比': 237.83786010742188,\n '出院诊断LENTH_MAX': 222.36611938476562,\n '药品费自费金额_SUM': 200.8591766357422,\n '治疗费申报金额_SUM': 197.12847900390625,\n '医院_药品_AVG': 192.3652801513672,\n '医院_就诊天数_AVG': 192.26075744628906,\n '一次性医用材料申报金额_SUM': 189.69216918945312,\n '检查费申报金额_SUM': 185.7368927001953,\n '医院_统筹金_AVG': 183.60130310058594,\n '贵重药品发生金额_SUM': 182.90243530273438,\n '起付标准以上自负比例金额_SUM': 179.7655029296875,\n '医用材料发生金额_SUM': 167.76731872558594,\n '医院_就诊天数_MAX': 158.95130920410156,\n '药品费申报金额_SUM': 157.34117126464844,\n '治疗费用在总金额占比': 157.04220581054688,\n '医院_药品_MAX': 150.41928100585938,\n '检查总费用在总金额占比': 140.94390869140625,\n '基本个人账户支付_SUM': 139.69668579101562,\n '医院_统筹金_MAX': 130.9102325439453,\n '交易时间YYYYMM_NN': 130.03562927246094,\n '出院诊断病种名称_NN': 117.48405456542969,\n '个人支付的药品占比': 115.4744644165039,\n '其它发生金额_SUM': 72.69097900390625,\n '民政救助补助_SUM': 67.17933654785156,\n '月就诊医院数_AVG': 66.97900390625,\n '一天去两家医院的天数': 56.5777702331543,\n '床位费申报金额_SUM': 42.35902786254883,\n '个人支付治疗费用占比': 40.376434326171875,\n '医用材料费自费金额_SUM': 40.00467300415039,\n '医疗救助医院申请_SUM': 37.165592193603516,\n '个人支付检查费用占比': 24.17575454711914,\n '治疗费自费金额_SUM': 19.075777053833008,\n '是否挂号': 18.462867736816406,\n '贵重检查费金额_SUM': 18.093542098999023,\n '医院编码_NN': 10.025214195251465,\n '手术费申报金额_SUM': 5.1298980712890625,\n '检查费自费金额_SUM': 3.3090713024139404,\n '公务员医疗补助基金支付金额_SUM': 1.1572346687316895}"
     },
     "execution_count": 59,
     "metadata": {},
     "output_type": "execute_result"
    }
   ],
   "source": [
    "features_importance"
   ],
   "metadata": {
    "collapsed": false,
    "ExecuteTime": {
     "start_time": "2024-01-23T21:27:42.599068Z",
     "end_time": "2024-01-23T21:27:42.666484Z"
    }
   }
  },
  {
   "cell_type": "code",
   "execution_count": 60,
   "outputs": [
    {
     "name": "stderr",
     "output_type": "stream",
     "text": [
      "2024-01-23 21:27:45,847 INFO XGBoost-PySpark: _fit Running xgboost-2.0.3 on 3 workers with\n",
      "\tbooster params: {'objective': 'binary:logistic', 'device': 'cpu', 'max_depth': 5, 'nthread': 1}\n",
      "\ttrain_call_kwargs_params: {'verbose_eval': True, 'num_boost_round': 100}\n",
      "\tdmatrix_kwargs: {'nthread': 1, 'missing': 0.0}\n",
      "2024-01-23 21:27:50,518 INFO XGBoost-PySpark: _fit Finished xgboost training!   \n",
      "2024-01-23 21:27:51,448 INFO XGBoost-PySpark: _fit Running xgboost-2.0.3 on 3 workers with\n",
      "\tbooster params: {'objective': 'binary:logistic', 'device': 'cpu', 'max_depth': 5, 'nthread': 1}\n",
      "\ttrain_call_kwargs_params: {'verbose_eval': True, 'num_boost_round': 100}\n",
      "\tdmatrix_kwargs: {'nthread': 1, 'missing': 0.0}\n",
      "2024-01-23 21:27:55,423 INFO XGBoost-PySpark: _fit Finished xgboost training!   \n",
      "2024-01-23 21:27:56,431 INFO XGBoost-PySpark: _fit Running xgboost-2.0.3 on 3 workers with\n",
      "\tbooster params: {'objective': 'binary:logistic', 'device': 'cpu', 'max_depth': 5, 'nthread': 1}\n",
      "\ttrain_call_kwargs_params: {'verbose_eval': True, 'num_boost_round': 100}\n",
      "\tdmatrix_kwargs: {'nthread': 1, 'missing': 0.0}\n",
      "2024-01-23 21:27:59,758 INFO XGBoost-PySpark: _fit Finished xgboost training!   \n",
      "2024-01-23 21:28:00,695 INFO XGBoost-PySpark: _fit Running xgboost-2.0.3 on 3 workers with\n",
      "\tbooster params: {'objective': 'binary:logistic', 'device': 'cpu', 'max_depth': 5, 'nthread': 1}\n",
      "\ttrain_call_kwargs_params: {'verbose_eval': True, 'num_boost_round': 100}\n",
      "\tdmatrix_kwargs: {'nthread': 1, 'missing': 0.0}\n",
      "2024-01-23 21:28:04,483 INFO XGBoost-PySpark: _fit Finished xgboost training!   \n",
      "2024-01-23 21:28:05,402 INFO XGBoost-PySpark: _fit Running xgboost-2.0.3 on 3 workers with\n",
      "\tbooster params: {'objective': 'binary:logistic', 'device': 'cpu', 'max_depth': 5, 'nthread': 1}\n",
      "\ttrain_call_kwargs_params: {'verbose_eval': True, 'num_boost_round': 100}\n",
      "\tdmatrix_kwargs: {'nthread': 1, 'missing': 0.0}\n",
      "2024-01-23 21:28:09,262 INFO XGBoost-PySpark: _fit Finished xgboost training!   \n",
      "2024-01-23 21:28:10,257 INFO XGBoost-PySpark: _fit Running xgboost-2.0.3 on 3 workers with\n",
      "\tbooster params: {'objective': 'binary:logistic', 'device': 'cpu', 'max_depth': 5, 'nthread': 1}\n",
      "\ttrain_call_kwargs_params: {'verbose_eval': True, 'num_boost_round': 100}\n",
      "\tdmatrix_kwargs: {'nthread': 1, 'missing': 0.0}\n",
      "2024-01-23 21:28:13,727 INFO XGBoost-PySpark: _fit Finished xgboost training!   \n",
      "2024-01-23 21:28:14,647 INFO XGBoost-PySpark: _fit Running xgboost-2.0.3 on 3 workers with\n",
      "\tbooster params: {'objective': 'binary:logistic', 'device': 'cpu', 'max_depth': 5, 'nthread': 1}\n",
      "\ttrain_call_kwargs_params: {'verbose_eval': True, 'num_boost_round': 100}\n",
      "\tdmatrix_kwargs: {'nthread': 1, 'missing': 0.0}\n",
      "2024-01-23 21:28:18,702 INFO XGBoost-PySpark: _fit Finished xgboost training!   \n",
      "2024-01-23 21:28:19,740 INFO XGBoost-PySpark: _fit Running xgboost-2.0.3 on 3 workers with\n",
      "\tbooster params: {'objective': 'binary:logistic', 'device': 'cpu', 'max_depth': 5, 'nthread': 1}\n",
      "\ttrain_call_kwargs_params: {'verbose_eval': True, 'num_boost_round': 100}\n",
      "\tdmatrix_kwargs: {'nthread': 1, 'missing': 0.0}\n",
      "2024-01-23 21:28:23,370 INFO XGBoost-PySpark: _fit Finished xgboost training!   \n",
      "2024-01-23 21:28:24,376 INFO XGBoost-PySpark: _fit Running xgboost-2.0.3 on 3 workers with\n",
      "\tbooster params: {'objective': 'binary:logistic', 'device': 'cpu', 'max_depth': 5, 'nthread': 1}\n",
      "\ttrain_call_kwargs_params: {'verbose_eval': True, 'num_boost_round': 100}\n",
      "\tdmatrix_kwargs: {'nthread': 1, 'missing': 0.0}\n",
      "2024-01-23 21:28:28,083 INFO XGBoost-PySpark: _fit Finished xgboost training!   \n",
      "2024-01-23 21:28:29,047 INFO XGBoost-PySpark: _fit Running xgboost-2.0.3 on 3 workers with\n",
      "\tbooster params: {'objective': 'binary:logistic', 'device': 'cpu', 'max_depth': 5, 'nthread': 1}\n",
      "\ttrain_call_kwargs_params: {'verbose_eval': True, 'num_boost_round': 100}\n",
      "\tdmatrix_kwargs: {'nthread': 1, 'missing': 0.0}\n",
      "2024-01-23 21:28:33,115 INFO XGBoost-PySpark: _fit Finished xgboost training!   \n",
      "2024-01-23 21:28:34,117 INFO XGBoost-PySpark: _fit Running xgboost-2.0.3 on 3 workers with\n",
      "\tbooster params: {'objective': 'binary:logistic', 'device': 'cpu', 'max_depth': 5, 'nthread': 1}\n",
      "\ttrain_call_kwargs_params: {'verbose_eval': True, 'num_boost_round': 100}\n",
      "\tdmatrix_kwargs: {'nthread': 1, 'missing': 0.0}\n",
      "2024-01-23 21:28:38,555 INFO XGBoost-PySpark: _fit Finished xgboost training!   \n",
      "2024-01-23 21:28:39,548 INFO XGBoost-PySpark: _fit Running xgboost-2.0.3 on 3 workers with\n",
      "\tbooster params: {'objective': 'binary:logistic', 'device': 'cpu', 'max_depth': 5, 'nthread': 1}\n",
      "\ttrain_call_kwargs_params: {'verbose_eval': True, 'num_boost_round': 100}\n",
      "\tdmatrix_kwargs: {'nthread': 1, 'missing': 0.0}\n",
      "2024-01-23 21:28:44,076 INFO XGBoost-PySpark: _fit Finished xgboost training!   \n",
      "2024-01-23 21:28:45,118 INFO XGBoost-PySpark: _fit Running xgboost-2.0.3 on 3 workers with\n",
      "\tbooster params: {'objective': 'binary:logistic', 'device': 'cpu', 'max_depth': 5, 'nthread': 1}\n",
      "\ttrain_call_kwargs_params: {'verbose_eval': True, 'num_boost_round': 100}\n",
      "\tdmatrix_kwargs: {'nthread': 1, 'missing': 0.0}\n",
      "2024-01-23 21:28:49,601 INFO XGBoost-PySpark: _fit Finished xgboost training!   \n",
      "2024-01-23 21:28:50,589 INFO XGBoost-PySpark: _fit Running xgboost-2.0.3 on 3 workers with\n",
      "\tbooster params: {'objective': 'binary:logistic', 'device': 'cpu', 'max_depth': 5, 'nthread': 1}\n",
      "\ttrain_call_kwargs_params: {'verbose_eval': True, 'num_boost_round': 100}\n",
      "\tdmatrix_kwargs: {'nthread': 1, 'missing': 0.0}\n",
      "2024-01-23 21:28:55,961 INFO XGBoost-PySpark: _fit Finished xgboost training!   \n",
      "2024-01-23 21:28:57,363 INFO XGBoost-PySpark: _fit Running xgboost-2.0.3 on 3 workers with\n",
      "\tbooster params: {'objective': 'binary:logistic', 'device': 'cpu', 'max_depth': 5, 'nthread': 1}\n",
      "\ttrain_call_kwargs_params: {'verbose_eval': True, 'num_boost_round': 100}\n",
      "\tdmatrix_kwargs: {'nthread': 1, 'missing': 0.0}\n",
      "2024-01-23 21:29:02,229 INFO XGBoost-PySpark: _fit Finished xgboost training!   \n",
      "2024-01-23 21:29:03,263 INFO XGBoost-PySpark: _fit Running xgboost-2.0.3 on 3 workers with\n",
      "\tbooster params: {'objective': 'binary:logistic', 'device': 'cpu', 'max_depth': 5, 'nthread': 1}\n",
      "\ttrain_call_kwargs_params: {'verbose_eval': True, 'num_boost_round': 100}\n",
      "\tdmatrix_kwargs: {'nthread': 1, 'missing': 0.0}\n",
      "2024-01-23 21:29:08,775 INFO XGBoost-PySpark: _fit Finished xgboost training!   \n",
      "2024-01-23 21:29:09,771 INFO XGBoost-PySpark: _fit Running xgboost-2.0.3 on 3 workers with\n",
      "\tbooster params: {'objective': 'binary:logistic', 'device': 'cpu', 'max_depth': 5, 'nthread': 1}\n",
      "\ttrain_call_kwargs_params: {'verbose_eval': True, 'num_boost_round': 100}\n",
      "\tdmatrix_kwargs: {'nthread': 1, 'missing': 0.0}\n",
      "2024-01-23 21:29:14,705 INFO XGBoost-PySpark: _fit Finished xgboost training!   \n",
      "2024-01-23 21:29:15,777 INFO XGBoost-PySpark: _fit Running xgboost-2.0.3 on 3 workers with\n",
      "\tbooster params: {'objective': 'binary:logistic', 'device': 'cpu', 'max_depth': 5, 'nthread': 1}\n",
      "\ttrain_call_kwargs_params: {'verbose_eval': True, 'num_boost_round': 100}\n",
      "\tdmatrix_kwargs: {'nthread': 1, 'missing': 0.0}\n",
      "2024-01-23 21:29:20,740 INFO XGBoost-PySpark: _fit Finished xgboost training!   \n",
      "2024-01-23 21:29:21,801 INFO XGBoost-PySpark: _fit Running xgboost-2.0.3 on 3 workers with\n",
      "\tbooster params: {'objective': 'binary:logistic', 'device': 'cpu', 'max_depth': 5, 'nthread': 1}\n",
      "\ttrain_call_kwargs_params: {'verbose_eval': True, 'num_boost_round': 100}\n",
      "\tdmatrix_kwargs: {'nthread': 1, 'missing': 0.0}\n",
      "2024-01-23 21:29:26,653 INFO XGBoost-PySpark: _fit Finished xgboost training!   \n",
      "2024-01-23 21:29:27,721 INFO XGBoost-PySpark: _fit Running xgboost-2.0.3 on 3 workers with\n",
      "\tbooster params: {'objective': 'binary:logistic', 'device': 'cpu', 'max_depth': 5, 'nthread': 1}\n",
      "\ttrain_call_kwargs_params: {'verbose_eval': True, 'num_boost_round': 100}\n",
      "\tdmatrix_kwargs: {'nthread': 1, 'missing': 0.0}\n",
      "2024-01-23 21:29:32,878 INFO XGBoost-PySpark: _fit Finished xgboost training!   \n",
      "2024-01-23 21:29:33,945 INFO XGBoost-PySpark: _fit Running xgboost-2.0.3 on 3 workers with\n",
      "\tbooster params: {'objective': 'binary:logistic', 'device': 'cpu', 'max_depth': 5, 'nthread': 1}\n",
      "\ttrain_call_kwargs_params: {'verbose_eval': True, 'num_boost_round': 100}\n",
      "\tdmatrix_kwargs: {'nthread': 1, 'missing': 0.0}\n",
      "2024-01-23 21:29:38,760 INFO XGBoost-PySpark: _fit Finished xgboost training!   \n",
      "2024-01-23 21:29:39,818 INFO XGBoost-PySpark: _fit Running xgboost-2.0.3 on 3 workers with\n",
      "\tbooster params: {'objective': 'binary:logistic', 'device': 'cpu', 'max_depth': 5, 'nthread': 1}\n",
      "\ttrain_call_kwargs_params: {'verbose_eval': True, 'num_boost_round': 100}\n",
      "\tdmatrix_kwargs: {'nthread': 1, 'missing': 0.0}\n",
      "2024-01-23 21:29:44,918 INFO XGBoost-PySpark: _fit Finished xgboost training!   \n",
      "2024-01-23 21:29:46,292 INFO XGBoost-PySpark: _fit Running xgboost-2.0.3 on 3 workers with\n",
      "\tbooster params: {'objective': 'binary:logistic', 'device': 'cpu', 'max_depth': 5, 'nthread': 1}\n",
      "\ttrain_call_kwargs_params: {'verbose_eval': True, 'num_boost_round': 100}\n",
      "\tdmatrix_kwargs: {'nthread': 1, 'missing': 0.0}\n",
      "2024-01-23 21:29:51,437 INFO XGBoost-PySpark: _fit Finished xgboost training!   \n",
      "2024-01-23 21:29:52,621 INFO XGBoost-PySpark: _fit Running xgboost-2.0.3 on 3 workers with\n",
      "\tbooster params: {'objective': 'binary:logistic', 'device': 'cpu', 'max_depth': 5, 'nthread': 1}\n",
      "\ttrain_call_kwargs_params: {'verbose_eval': True, 'num_boost_round': 100}\n",
      "\tdmatrix_kwargs: {'nthread': 1, 'missing': 0.0}\n",
      "2024-01-23 21:29:57,691 INFO XGBoost-PySpark: _fit Finished xgboost training!   \n",
      "2024-01-23 21:29:58,885 INFO XGBoost-PySpark: _fit Running xgboost-2.0.3 on 3 workers with\n",
      "\tbooster params: {'objective': 'binary:logistic', 'device': 'cpu', 'max_depth': 5, 'nthread': 1}\n",
      "\ttrain_call_kwargs_params: {'verbose_eval': True, 'num_boost_round': 100}\n",
      "\tdmatrix_kwargs: {'nthread': 1, 'missing': 0.0}\n",
      "2024-01-23 21:30:04,496 INFO XGBoost-PySpark: _fit Finished xgboost training!   \n",
      "2024-01-23 21:30:06,107 INFO XGBoost-PySpark: _fit Running xgboost-2.0.3 on 3 workers with\n",
      "\tbooster params: {'objective': 'binary:logistic', 'device': 'cpu', 'max_depth': 5, 'nthread': 1}\n",
      "\ttrain_call_kwargs_params: {'verbose_eval': True, 'num_boost_round': 100}\n",
      "\tdmatrix_kwargs: {'nthread': 1, 'missing': 0.0}\n",
      "2024-01-23 21:30:12,413 INFO XGBoost-PySpark: _fit Finished xgboost training!   \n",
      "2024-01-23 21:30:13,595 INFO XGBoost-PySpark: _fit Running xgboost-2.0.3 on 3 workers with\n",
      "\tbooster params: {'objective': 'binary:logistic', 'device': 'cpu', 'max_depth': 5, 'nthread': 1}\n",
      "\ttrain_call_kwargs_params: {'verbose_eval': True, 'num_boost_round': 100}\n",
      "\tdmatrix_kwargs: {'nthread': 1, 'missing': 0.0}\n",
      "2024-01-23 21:30:19,518 INFO XGBoost-PySpark: _fit Finished xgboost training!   \n",
      "2024-01-23 21:30:20,784 INFO XGBoost-PySpark: _fit Running xgboost-2.0.3 on 3 workers with\n",
      "\tbooster params: {'objective': 'binary:logistic', 'device': 'cpu', 'max_depth': 5, 'nthread': 1}\n",
      "\ttrain_call_kwargs_params: {'verbose_eval': True, 'num_boost_round': 100}\n",
      "\tdmatrix_kwargs: {'nthread': 1, 'missing': 0.0}\n",
      "2024-01-23 21:30:26,336 INFO XGBoost-PySpark: _fit Finished xgboost training!   \n",
      "2024-01-23 21:30:27,541 INFO XGBoost-PySpark: _fit Running xgboost-2.0.3 on 3 workers with\n",
      "\tbooster params: {'objective': 'binary:logistic', 'device': 'cpu', 'max_depth': 5, 'nthread': 1}\n",
      "\ttrain_call_kwargs_params: {'verbose_eval': True, 'num_boost_round': 100}\n",
      "\tdmatrix_kwargs: {'nthread': 1, 'missing': 0.0}\n",
      "2024-01-23 21:30:32,915 INFO XGBoost-PySpark: _fit Finished xgboost training!   \n",
      "2024-01-23 21:30:34,089 INFO XGBoost-PySpark: _fit Running xgboost-2.0.3 on 3 workers with\n",
      "\tbooster params: {'objective': 'binary:logistic', 'device': 'cpu', 'max_depth': 5, 'nthread': 1}\n",
      "\ttrain_call_kwargs_params: {'verbose_eval': True, 'num_boost_round': 100}\n",
      "\tdmatrix_kwargs: {'nthread': 1, 'missing': 0.0}\n",
      "2024-01-23 21:30:39,230 INFO XGBoost-PySpark: _fit Finished xgboost training!   \n",
      "2024-01-23 21:30:40,472 INFO XGBoost-PySpark: _fit Running xgboost-2.0.3 on 3 workers with\n",
      "\tbooster params: {'objective': 'binary:logistic', 'device': 'cpu', 'max_depth': 5, 'nthread': 1}\n",
      "\ttrain_call_kwargs_params: {'verbose_eval': True, 'num_boost_round': 100}\n",
      "\tdmatrix_kwargs: {'nthread': 1, 'missing': 0.0}\n",
      "2024-01-23 21:30:46,036 INFO XGBoost-PySpark: _fit Finished xgboost training!   \n",
      "2024-01-23 21:30:47,306 INFO XGBoost-PySpark: _fit Running xgboost-2.0.3 on 3 workers with\n",
      "\tbooster params: {'objective': 'binary:logistic', 'device': 'cpu', 'max_depth': 5, 'nthread': 1}\n",
      "\ttrain_call_kwargs_params: {'verbose_eval': True, 'num_boost_round': 100}\n",
      "\tdmatrix_kwargs: {'nthread': 1, 'missing': 0.0}\n",
      "2024-01-23 21:30:52,970 INFO XGBoost-PySpark: _fit Finished xgboost training!   \n",
      "2024-01-23 21:30:54,178 INFO XGBoost-PySpark: _fit Running xgboost-2.0.3 on 3 workers with\n",
      "\tbooster params: {'objective': 'binary:logistic', 'device': 'cpu', 'max_depth': 5, 'nthread': 1}\n",
      "\ttrain_call_kwargs_params: {'verbose_eval': True, 'num_boost_round': 100}\n",
      "\tdmatrix_kwargs: {'nthread': 1, 'missing': 0.0}\n",
      "2024-01-23 21:31:00,283 INFO XGBoost-PySpark: _fit Finished xgboost training!   \n",
      "2024-01-23 21:31:01,406 INFO XGBoost-PySpark: _fit Running xgboost-2.0.3 on 3 workers with\n",
      "\tbooster params: {'objective': 'binary:logistic', 'device': 'cpu', 'max_depth': 5, 'nthread': 1}\n",
      "\ttrain_call_kwargs_params: {'verbose_eval': True, 'num_boost_round': 100}\n",
      "\tdmatrix_kwargs: {'nthread': 1, 'missing': 0.0}\n",
      "2024-01-23 21:31:07,092 INFO XGBoost-PySpark: _fit Finished xgboost training!   \n",
      "2024-01-23 21:31:08,274 INFO XGBoost-PySpark: _fit Running xgboost-2.0.3 on 3 workers with\n",
      "\tbooster params: {'objective': 'binary:logistic', 'device': 'cpu', 'max_depth': 5, 'nthread': 1}\n",
      "\ttrain_call_kwargs_params: {'verbose_eval': True, 'num_boost_round': 100}\n",
      "\tdmatrix_kwargs: {'nthread': 1, 'missing': 0.0}\n",
      "2024-01-23 21:31:14,298 INFO XGBoost-PySpark: _fit Finished xgboost training!   \n",
      "2024-01-23 21:31:15,452 INFO XGBoost-PySpark: _fit Running xgboost-2.0.3 on 3 workers with\n",
      "\tbooster params: {'objective': 'binary:logistic', 'device': 'cpu', 'max_depth': 5, 'nthread': 1}\n",
      "\ttrain_call_kwargs_params: {'verbose_eval': True, 'num_boost_round': 100}\n",
      "\tdmatrix_kwargs: {'nthread': 1, 'missing': 0.0}\n",
      "2024-01-23 21:31:21,022 INFO XGBoost-PySpark: _fit Finished xgboost training!   \n",
      "2024-01-23 21:31:22,177 INFO XGBoost-PySpark: _fit Running xgboost-2.0.3 on 3 workers with\n",
      "\tbooster params: {'objective': 'binary:logistic', 'device': 'cpu', 'max_depth': 5, 'nthread': 1}\n",
      "\ttrain_call_kwargs_params: {'verbose_eval': True, 'num_boost_round': 100}\n",
      "\tdmatrix_kwargs: {'nthread': 1, 'missing': 0.0}\n",
      "2024-01-23 21:31:27,969 INFO XGBoost-PySpark: _fit Finished xgboost training!   \n",
      "2024-01-23 21:31:29,141 INFO XGBoost-PySpark: _fit Running xgboost-2.0.3 on 3 workers with\n",
      "\tbooster params: {'objective': 'binary:logistic', 'device': 'cpu', 'max_depth': 5, 'nthread': 1}\n",
      "\ttrain_call_kwargs_params: {'verbose_eval': True, 'num_boost_round': 100}\n",
      "\tdmatrix_kwargs: {'nthread': 1, 'missing': 0.0}\n",
      "2024-01-23 21:31:34,797 INFO XGBoost-PySpark: _fit Finished xgboost training!   \n",
      "2024-01-23 21:31:35,999 INFO XGBoost-PySpark: _fit Running xgboost-2.0.3 on 3 workers with\n",
      "\tbooster params: {'objective': 'binary:logistic', 'device': 'cpu', 'max_depth': 5, 'nthread': 1}\n",
      "\ttrain_call_kwargs_params: {'verbose_eval': True, 'num_boost_round': 100}\n",
      "\tdmatrix_kwargs: {'nthread': 1, 'missing': 0.0}\n",
      "2024-01-23 21:31:41,651 INFO XGBoost-PySpark: _fit Finished xgboost training!   \n",
      "2024-01-23 21:31:42,792 INFO XGBoost-PySpark: _fit Running xgboost-2.0.3 on 3 workers with\n",
      "\tbooster params: {'objective': 'binary:logistic', 'device': 'cpu', 'max_depth': 5, 'nthread': 1}\n",
      "\ttrain_call_kwargs_params: {'verbose_eval': True, 'num_boost_round': 100}\n",
      "\tdmatrix_kwargs: {'nthread': 1, 'missing': 0.0}\n",
      "2024-01-23 21:31:48,294 INFO XGBoost-PySpark: _fit Finished xgboost training!   \n",
      "2024-01-23 21:31:49,466 INFO XGBoost-PySpark: _fit Running xgboost-2.0.3 on 3 workers with\n",
      "\tbooster params: {'objective': 'binary:logistic', 'device': 'cpu', 'max_depth': 5, 'nthread': 1}\n",
      "\ttrain_call_kwargs_params: {'verbose_eval': True, 'num_boost_round': 100}\n",
      "\tdmatrix_kwargs: {'nthread': 1, 'missing': 0.0}\n",
      "2024-01-23 21:31:55,368 INFO XGBoost-PySpark: _fit Finished xgboost training!   \n",
      "2024-01-23 21:31:56,573 INFO XGBoost-PySpark: _fit Running xgboost-2.0.3 on 3 workers with\n",
      "\tbooster params: {'objective': 'binary:logistic', 'device': 'cpu', 'max_depth': 5, 'nthread': 1}\n",
      "\ttrain_call_kwargs_params: {'verbose_eval': True, 'num_boost_round': 100}\n",
      "\tdmatrix_kwargs: {'nthread': 1, 'missing': 0.0}\n",
      "2024-01-23 21:32:02,615 INFO XGBoost-PySpark: _fit Finished xgboost training!   \n",
      "2024-01-23 21:32:03,767 INFO XGBoost-PySpark: _fit Running xgboost-2.0.3 on 3 workers with\n",
      "\tbooster params: {'objective': 'binary:logistic', 'device': 'cpu', 'max_depth': 5, 'nthread': 1}\n",
      "\ttrain_call_kwargs_params: {'verbose_eval': True, 'num_boost_round': 100}\n",
      "\tdmatrix_kwargs: {'nthread': 1, 'missing': 0.0}\n",
      "2024-01-23 21:32:09,464 INFO XGBoost-PySpark: _fit Finished xgboost training!   \n",
      "2024-01-23 21:32:10,787 INFO XGBoost-PySpark: _fit Running xgboost-2.0.3 on 3 workers with\n",
      "\tbooster params: {'objective': 'binary:logistic', 'device': 'cpu', 'max_depth': 5, 'nthread': 1}\n",
      "\ttrain_call_kwargs_params: {'verbose_eval': True, 'num_boost_round': 100}\n",
      "\tdmatrix_kwargs: {'nthread': 1, 'missing': 0.0}\n",
      "2024-01-23 21:32:17,839 INFO XGBoost-PySpark: _fit Finished xgboost training!   \n",
      "2024-01-23 21:32:19,030 INFO XGBoost-PySpark: _fit Running xgboost-2.0.3 on 3 workers with\n",
      "\tbooster params: {'objective': 'binary:logistic', 'device': 'cpu', 'max_depth': 5, 'nthread': 1}\n",
      "\ttrain_call_kwargs_params: {'verbose_eval': True, 'num_boost_round': 100}\n",
      "\tdmatrix_kwargs: {'nthread': 1, 'missing': 0.0}\n",
      "2024-01-23 21:32:25,580 INFO XGBoost-PySpark: _fit Finished xgboost training!   \n",
      "2024-01-23 21:32:26,910 INFO XGBoost-PySpark: _fit Running xgboost-2.0.3 on 3 workers with\n",
      "\tbooster params: {'objective': 'binary:logistic', 'device': 'cpu', 'max_depth': 5, 'nthread': 1}\n",
      "\ttrain_call_kwargs_params: {'verbose_eval': True, 'num_boost_round': 100}\n",
      "\tdmatrix_kwargs: {'nthread': 1, 'missing': 0.0}\n",
      "2024-01-23 21:32:33,536 INFO XGBoost-PySpark: _fit Finished xgboost training!   \n",
      "2024-01-23 21:32:34,717 INFO XGBoost-PySpark: _fit Running xgboost-2.0.3 on 3 workers with\n",
      "\tbooster params: {'objective': 'binary:logistic', 'device': 'cpu', 'max_depth': 5, 'nthread': 1}\n",
      "\ttrain_call_kwargs_params: {'verbose_eval': True, 'num_boost_round': 100}\n",
      "\tdmatrix_kwargs: {'nthread': 1, 'missing': 0.0}\n",
      "2024-01-23 21:32:40,804 INFO XGBoost-PySpark: _fit Finished xgboost training!   \n",
      "2024-01-23 21:32:42,028 INFO XGBoost-PySpark: _fit Running xgboost-2.0.3 on 3 workers with\n",
      "\tbooster params: {'objective': 'binary:logistic', 'device': 'cpu', 'max_depth': 5, 'nthread': 1}\n",
      "\ttrain_call_kwargs_params: {'verbose_eval': True, 'num_boost_round': 100}\n",
      "\tdmatrix_kwargs: {'nthread': 1, 'missing': 0.0}\n",
      "2024-01-23 21:32:48,019 INFO XGBoost-PySpark: _fit Finished xgboost training!   \n"
     ]
    }
   ],
   "source": [
    "\n",
    "from pyspark.ml.evaluation import BinaryClassificationEvaluator\n",
    "kept = []\n",
    "i=1\n",
    "rem_dict = {}\n",
    "for feature in features_importance.keys():\n",
    "    kept.append(feature)\n",
    "    df_kept = df.select(*kept,label_col)\n",
    "    trainDF,testDF = df_kept.randomSplit([0.8,0.2],seed=14)\n",
    "    kept_assembler = VectorAssembler(inputCols=kept,outputCol=\"feature_subset\")\n",
    "    classifierInFor = SparkXGBClassifier(\n",
    "        max_depth = 5,\n",
    "        missing = 0,\n",
    "        features_col=\"feature_subset\",\n",
    "        label_col=label_col,\n",
    "        num_workers=3,\n",
    "        raw_prediction_col=\"raw_prediction\"\n",
    "    )\n",
    "    with_selected_feature = kept_assembler.transform(trainDF)\n",
    "    test_data = kept_assembler.transform(testDF)\n",
    "    xgb_model = classifierInFor.fit(with_selected_feature)\n",
    "    pre_xgb_df = xgb_model.transform(test_data)\n",
    "    evaluator_model = BinaryClassificationEvaluator(\n",
    "        rawPredictionCol=\"raw_prediction\",\n",
    "        labelCol=label_col,\n",
    "        metricName=\"areaUnderROC\"\n",
    "    )\n",
    "    eva_val = evaluator_model.evaluate(pre_xgb_df)\n",
    "    rem_dict[i] = eva_val\n",
    "    i=i+1"
   ],
   "metadata": {
    "collapsed": false,
    "ExecuteTime": {
     "start_time": "2024-01-23T21:27:46.752663Z",
     "end_time": "2024-01-23T21:32:50.082258Z"
    }
   }
  },
  {
   "cell_type": "code",
   "execution_count": 61,
   "outputs": [
    {
     "data": {
      "text/plain": "{1: 0.7935234933562302,\n 2: 0.820094107582077,\n 3: 0.9065800449149825,\n 4: 0.9002063950379668,\n 5: 0.9120692974013482,\n 6: 0.9158699604320408,\n 7: 0.9249353010373242,\n 8: 0.9232787937119049,\n 9: 0.9311923858410878,\n 10: 0.9208095390867314,\n 11: 0.9234456207892212,\n 12: 0.9146187573521553,\n 13: 0.9158763768580931,\n 14: 0.9206844187787415,\n 15: 0.9156325526681646,\n 16: 0.926544754571704,\n 17: 0.9208213025344889,\n 18: 0.9162528071864,\n 19: 0.9295155598331756,\n 20: 0.9183360068441854,\n 21: 0.9210865148112566,\n 22: 0.9248508180943245,\n 23: 0.9204063736498784,\n 24: 0.9241450112287467,\n 25: 0.9260592450005358,\n 26: 0.9280269489894132,\n 27: 0.91366057106192,\n 28: 0.9173799593626363,\n 29: 0.922470324029517,\n 30: 0.922495989733719,\n 31: 0.9199828895305325,\n 32: 0.915681745267891,\n 33: 0.9157309378676105,\n 34: 0.915822906641005,\n 35: 0.9225772644636936,\n 36: 0.9185691369906971,\n 37: 0.9236509464228397,\n 38: 0.9193883007165013,\n 39: 0.9244957758528501,\n 40: 0.9166570420275891,\n 41: 0.912905571596619,\n 42: 0.9207058068655787,\n 43: 0.919407549994656,\n 44: 0.9104737461234087,\n 45: 0.9214351406266685,\n 46: 0.9143984600577494,\n 47: 0.9160795636830272,\n 48: 0.9239268527430236}"
     },
     "execution_count": 61,
     "metadata": {},
     "output_type": "execute_result"
    }
   ],
   "source": [
    "rem_dict"
   ],
   "metadata": {
    "collapsed": false,
    "ExecuteTime": {
     "start_time": "2024-01-23T21:33:25.391716Z",
     "end_time": "2024-01-23T21:33:25.964928Z"
    }
   }
  },
  {
   "cell_type": "code",
   "execution_count": null,
   "outputs": [],
   "source": [],
   "metadata": {
    "collapsed": false
   }
  }
 ],
 "metadata": {
  "kernelspec": {
   "display_name": "Python 3",
   "language": "python",
   "name": "python3"
  },
  "language_info": {
   "codemirror_mode": {
    "name": "ipython",
    "version": 2
   },
   "file_extension": ".py",
   "mimetype": "text/x-python",
   "name": "python",
   "nbconvert_exporter": "python",
   "pygments_lexer": "ipython2",
   "version": "2.7.6"
  }
 },
 "nbformat": 4,
 "nbformat_minor": 0
}
